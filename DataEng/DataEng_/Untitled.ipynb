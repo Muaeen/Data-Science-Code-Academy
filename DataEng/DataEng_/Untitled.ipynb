{
 "cells": [
  {
   "cell_type": "code",
   "execution_count": 1,
   "id": "5f645784",
   "metadata": {},
   "outputs": [],
   "source": [
    "x = 4,4,6,7,7,8,8,10,16,18,20,22,30,32,42,45"
   ]
  },
  {
   "cell_type": "code",
   "execution_count": 2,
   "id": "2be7b71c",
   "metadata": {},
   "outputs": [],
   "source": [
    "import matplotlib.pyplot as plt"
   ]
  },
  {
   "cell_type": "code",
   "execution_count": 6,
   "id": "ab0f3e8d",
   "metadata": {},
   "outputs": [
    {
     "data": {
      "text/plain": [
       "(array([8., 4., 2., 2.]),\n",
       " array([ 4.  , 14.25, 24.5 , 34.75, 45.  ]),\n",
       " <BarContainer object of 4 artists>)"
      ]
     },
     "execution_count": 6,
     "metadata": {},
     "output_type": "execute_result"
    },
    {
     "data": {
      "image/png": "[encoded data removed]",
      "text/plain": [
       "<Figure size 432x288 with 1 Axes>"
      ]
     },
     "metadata": {
      "needs_background": "light"
     },
     "output_type": "display_data"
    }
   ],
   "source": [
    "plt.hist(x,bins=4)"
   ]
  },
  {
   "cell_type": "code",
   "execution_count": 8,
   "id": "2d18aa5c",
   "metadata": {},
   "outputs": [
    {
     "data": {
      "text/plain": [
       "6.75"
      ]
     },
     "execution_count": 8,
     "metadata": {},
     "output_type": "execute_result"
    }
   ],
   "source": [
    "(2+2+2+3+5+6+7+8+9+10)/8"
   ]
  },
  {
   "cell_type": "code",
   "execution_count": null,
   "id": "7e2e362c",
   "metadata": {},
   "outputs": [],
   "source": []
  }
 ],
 "metadata": {
  "kernelspec": {
   "display_name": "Python 3 (ipykernel)",
   "language": "python",
   "name": "python3"
  },
  "language_info": {
   "codemirror_mode": {
    "name": "ipython",
    "version": 3
   },
   "file_extension": ".py",
   "mimetype": "text/x-python",
   "name": "python",
   "nbconvert_exporter": "python",
   "pygments_lexer": "ipython3",
   "version": "3.9.12"
  }
 },
 "nbformat": 4,
 "nbformat_minor": 5
}
