{
 "cells": [
  {
   "cell_type": "code",
   "execution_count": 264,
   "id": "3ae98ba2",
   "metadata": {},
   "outputs": [],
   "source": [
    "import numpy as np\n",
    "from math import *\n",
    "import pandas as pd\n",
    "from numpy.random import randn\n",
    "import matplotlib.pyplot as plt\n",
    "from numpy import *\n",
    "from scipy import linalg"
   ]
  },
  {
   "cell_type": "code",
   "execution_count": 10,
   "id": "2dc795ac",
   "metadata": {},
   "outputs": [
    {
     "data": {
      "text/plain": [
       "array([ 1,  3,  5,  7,  9, 11, 13, 15, 17, 19])"
      ]
     },
     "execution_count": 10,
     "metadata": {},
     "output_type": "execute_result"
    }
   ],
   "source": [
    "arr_1 = np.array(range(1,20,2))\n",
    "arr_1"
   ]
  },
  {
   "cell_type": "code",
   "execution_count": 12,
   "id": "929ffc25",
   "metadata": {},
   "outputs": [
    {
     "data": {
      "text/plain": [
       "array([ 1,  2,  3,  4,  5,  6,  7,  8,  9, 10])"
      ]
     },
     "execution_count": 12,
     "metadata": {},
     "output_type": "execute_result"
    }
   ],
   "source": [
    "arr_2 = np.array(range(1,11))\n",
    "arr_2"
   ]
  },
  {
   "cell_type": "code",
   "execution_count": 13,
   "id": "a9c738f2",
   "metadata": {},
   "outputs": [
    {
     "data": {
      "text/plain": [
       "array([  1,   6,  15,  28,  45,  66,  91, 120, 153, 190])"
      ]
     },
     "execution_count": 13,
     "metadata": {},
     "output_type": "execute_result"
    }
   ],
   "source": [
    "arr_1*arr_2"
   ]
  },
  {
   "cell_type": "code",
   "execution_count": 19,
   "id": "244c3890",
   "metadata": {},
   "outputs": [
    {
     "data": {
      "text/plain": [
       "array([[2, 4],\n",
       "       [6, 8]])"
      ]
     },
     "execution_count": 19,
     "metadata": {},
     "output_type": "execute_result"
    }
   ],
   "source": [
    "arr_2_2 = np.array([[1,2],[3,4]])\n",
    "arr_2_2*2"
   ]
  },
  {
   "cell_type": "code",
   "execution_count": 25,
   "id": "57858ba5",
   "metadata": {},
   "outputs": [
    {
     "data": {
      "text/plain": [
       "array([[ 6,  7,  8],\n",
       "       [ 9, 10, 11],\n",
       "       [12, 13, 14]])"
      ]
     },
     "execution_count": 25,
     "metadata": {},
     "output_type": "execute_result"
    }
   ],
   "source": [
    "arr_3_3 = np.array([[1,2,3],[4,5,6],[7,8,9]])\n",
    "arr_3_3+5"
   ]
  },
  {
   "cell_type": "code",
   "execution_count": 26,
   "id": "e90130f3",
   "metadata": {},
   "outputs": [
    {
     "data": {
      "text/plain": [
       "array([[-9, -8, -7, -6],\n",
       "       [-8, -7, -6, -5],\n",
       "       [-7, -6, -5, -4],\n",
       "       [-6, -5, -4, -3]])"
      ]
     },
     "execution_count": 26,
     "metadata": {},
     "output_type": "execute_result"
    }
   ],
   "source": [
    "arr_4_4 = np.array([[1,2,3,4],[2,3,4,5],[3,4,5,6],[4,5,6,7]])\n",
    "arr_4_4-10"
   ]
  },
  {
   "cell_type": "code",
   "execution_count": 27,
   "id": "c57778d3",
   "metadata": {},
   "outputs": [
    {
     "data": {
      "text/plain": [
       "array([[0.5, 1. , 1.5, 2. , 2.5],\n",
       "       [1. , 1.5, 2. , 2.5, 3. ],\n",
       "       [1.5, 2. , 2.5, 3. , 3.5],\n",
       "       [2. , 2.5, 3. , 3.5, 4. ],\n",
       "       [2.5, 3. , 3.5, 4. , 4.5]])"
      ]
     },
     "execution_count": 27,
     "metadata": {},
     "output_type": "execute_result"
    }
   ],
   "source": [
    "arr_5_5 = np.array([[1,2,3,4,5],[2,3,4,5,6],[3,4,5,6,7],[4,5,6,7,8],[5,6,7,8,9]])\n",
    "arr_5_5/2"
   ]
  },
  {
   "cell_type": "code",
   "execution_count": 34,
   "id": "153e556b",
   "metadata": {},
   "outputs": [
    {
     "data": {
      "text/plain": [
       "array([[1.        , 1.41421356, 1.73205081, 2.        , 2.23606798,\n",
       "        2.44948974],\n",
       "       [2.44948974, 2.23606798, 2.        , 1.73205081, 1.41421356,\n",
       "        1.        ],\n",
       "       [1.41421356, 1.73205081, 2.        , 2.23606798, 2.44948974,\n",
       "        2.64575131],\n",
       "       [2.64575131, 2.44948974, 2.23606798, 2.        , 1.73205081,\n",
       "        1.41421356],\n",
       "       [1.73205081, 2.        , 2.23606798, 2.44948974, 2.64575131,\n",
       "        2.82842712],\n",
       "       [2.82842712, 2.64575131, 2.44948974, 2.23606798, 2.        ,\n",
       "        1.73205081]])"
      ]
     },
     "execution_count": 34,
     "metadata": {},
     "output_type": "execute_result"
    }
   ],
   "source": [
    "arr_6_6 = np.array([[1,2,3,4,5,6],[6,5,4,3,2,1],[2,3,4,5,6,7],[7,6,5,4,3,2],[3,4,5,6,7,8],[8,7,6,5,4,3]])\n",
    "np.sqrt(arr_6_6)"
   ]
  },
  {
   "cell_type": "code",
   "execution_count": 35,
   "id": "0d9a30c7",
   "metadata": {},
   "outputs": [
    {
     "data": {
      "text/plain": [
       "array([[ 9, 12, 15],\n",
       "       [19, 26, 33]])"
      ]
     },
     "execution_count": 35,
     "metadata": {},
     "output_type": "execute_result"
    }
   ],
   "source": [
    "arr_2_2_mult = np.array([[1,2,3],[4,5,6]])\n",
    "np.matmul(arr_2_2,arr_2_2_mult)"
   ]
  },
  {
   "cell_type": "code",
   "execution_count": 36,
   "id": "bae38d8a",
   "metadata": {},
   "outputs": [
    {
     "data": {
      "text/plain": [
       "array([[ 28,  33,  38],\n",
       "       [ 70,  81,  92],\n",
       "       [112, 129, 146]])"
      ]
     },
     "execution_count": 36,
     "metadata": {},
     "output_type": "execute_result"
    }
   ],
   "source": [
    "arr_3_3_dot = np.array([[3,4,5],[8,7,6],[3,5,7]])\n",
    "np.dot(arr_3_3,arr_3_3_dot)"
   ]
  },
  {
   "cell_type": "code",
   "execution_count": 42,
   "id": "68e9aaca",
   "metadata": {},
   "outputs": [
    {
     "data": {
      "text/plain": [
       "array([[14, 32],\n",
       "       [32, 77]])"
      ]
     },
     "execution_count": 42,
     "metadata": {},
     "output_type": "execute_result"
    }
   ],
   "source": [
    "arr_2_3 = np.array([[1,2,3],[4,5,6]])\n",
    "arr_3_2 = arr_2_3.T\n",
    "np.matmul(arr_2_3,arr_3_2)"
   ]
  },
  {
   "cell_type": "code",
   "execution_count": 43,
   "id": "b03e4a48",
   "metadata": {},
   "outputs": [
    {
     "data": {
      "text/plain": [
       "array([[14, 32],\n",
       "       [32, 77]])"
      ]
     },
     "execution_count": 43,
     "metadata": {},
     "output_type": "execute_result"
    }
   ],
   "source": [
    "np.dot(arr_2_3,arr_3_2)"
   ]
  },
  {
   "cell_type": "code",
   "execution_count": 48,
   "id": "10eff005",
   "metadata": {},
   "outputs": [
    {
     "data": {
      "text/plain": [
       "array([ 0,  1,  2,  3,  4,  5,  6,  7,  8,  9, 10])"
      ]
     },
     "execution_count": 48,
     "metadata": {},
     "output_type": "execute_result"
    }
   ],
   "source": [
    "arr_ara = np.arange(0,11)\n",
    "arr_ara"
   ]
  },
  {
   "cell_type": "code",
   "execution_count": 49,
   "id": "7cc8c33c",
   "metadata": {},
   "outputs": [
    {
     "data": {
      "text/plain": [
       "array([0, 1, 2])"
      ]
     },
     "execution_count": 49,
     "metadata": {},
     "output_type": "execute_result"
    }
   ],
   "source": [
    "arr_ara[:3]"
   ]
  },
  {
   "cell_type": "code",
   "execution_count": 101,
   "id": "720665de",
   "metadata": {},
   "outputs": [
    {
     "data": {
      "text/plain": [
       "array([[[7, 0]],\n",
       "\n",
       "       [[1, 3]]])"
      ]
     },
     "execution_count": 101,
     "metadata": {},
     "output_type": "execute_result"
    }
   ],
   "source": [
    "arr_rand = np.array([[np.random.randint(0,10,2)],[np.random.randint(0,13,2)]])\n",
    "arr_rand"
   ]
  },
  {
   "cell_type": "code",
   "execution_count": 134,
   "id": "706c9ffa",
   "metadata": {},
   "outputs": [
    {
     "data": {
      "text/plain": [
       "1"
      ]
     },
     "execution_count": 134,
     "metadata": {},
     "output_type": "execute_result"
    }
   ],
   "source": [
    "arr_rand[1][0][0]"
   ]
  },
  {
   "cell_type": "code",
   "execution_count": 135,
   "id": "a5851a47",
   "metadata": {},
   "outputs": [
    {
     "data": {
      "text/plain": [
       "array([[[3, 0, 3, 3]],\n",
       "\n",
       "       [[7, 6, 6, 7]]])"
      ]
     },
     "execution_count": 135,
     "metadata": {},
     "output_type": "execute_result"
    }
   ],
   "source": [
    "arr_4_2_rand = np.array([[np.random.randint(0,4,4)],[np.random.randint(5,9,4)]])\n",
    "arr_4_2_rand"
   ]
  },
  {
   "cell_type": "code",
   "execution_count": 136,
   "id": "db31d84d",
   "metadata": {},
   "outputs": [
    {
     "data": {
      "text/plain": [
       "array([7, 6])"
      ]
     },
     "execution_count": 136,
     "metadata": {},
     "output_type": "execute_result"
    }
   ],
   "source": [
    "arr_4_2_rand[1][0][0:2]"
   ]
  },
  {
   "cell_type": "code",
   "execution_count": null,
   "id": "87ce8da8",
   "metadata": {},
   "outputs": [],
   "source": [
    "arr_2_2_rand = np.array([[np.random.randint(0,4,4)],[np.random.randint(5,9,4)]])\n",
    "arr_2_2_rand"
   ]
  },
  {
   "cell_type": "code",
   "execution_count": 140,
   "id": "32d86802",
   "metadata": {},
   "outputs": [
    {
     "data": {
      "text/plain": [
       "array([0, 1, 2])"
      ]
     },
     "execution_count": 140,
     "metadata": {},
     "output_type": "execute_result"
    }
   ],
   "source": [
    "arr_1 = np.arange(0,9)\n",
    "arr_1[:3]"
   ]
  },
  {
   "cell_type": "code",
   "execution_count": 157,
   "id": "810a29da",
   "metadata": {},
   "outputs": [
    {
     "data": {
      "text/plain": [
       "array([[0, 1, 2],\n",
       "       [3, 4, 5],\n",
       "       [6, 7, 8]])"
      ]
     },
     "execution_count": 157,
     "metadata": {},
     "output_type": "execute_result"
    }
   ],
   "source": [
    "arr_1.reshape(3,3)"
   ]
  },
  {
   "cell_type": "code",
   "execution_count": 159,
   "id": "505a5cf5",
   "metadata": {},
   "outputs": [
    {
     "data": {
      "text/plain": [
       "array([[1, 2, 3, 4, 2, 3, 4, 5, 3, 4, 5, 6, 4, 5, 6, 7]])"
      ]
     },
     "execution_count": 159,
     "metadata": {},
     "output_type": "execute_result"
    }
   ],
   "source": [
    "arr_4_4.reshape(1,-1)"
   ]
  },
  {
   "cell_type": "code",
   "execution_count": 160,
   "id": "3ff64366",
   "metadata": {},
   "outputs": [
    {
     "data": {
      "text/plain": [
       "array([0, 1, 2, 3, 4, 5, 6, 7, 8])"
      ]
     },
     "execution_count": 160,
     "metadata": {},
     "output_type": "execute_result"
    }
   ],
   "source": [
    "arr_1"
   ]
  },
  {
   "cell_type": "code",
   "execution_count": 171,
   "id": "0e319355",
   "metadata": {},
   "outputs": [
    {
     "data": {
      "text/plain": [
       "array([0, 1, 2, 3, 4, 4, 3, 2, 1, 0])"
      ]
     },
     "execution_count": 171,
     "metadata": {},
     "output_type": "execute_result"
    }
   ],
   "source": [
    "arr_1_1 = np.array([0,1,2,3,4])\n",
    "arr_1_1_T = np.array([4,3,2,1,0])\n",
    "np.concatenate([arr_1_1,arr_1_1_T])"
   ]
  },
  {
   "cell_type": "code",
   "execution_count": 201,
   "id": "dcaca2af",
   "metadata": {},
   "outputs": [],
   "source": [
    "arr_randn = randn(5,5)\n",
    "arr_randn = 2+1.5*arr_randn"
   ]
  },
  {
   "cell_type": "code",
   "execution_count": 202,
   "id": "49bb6922",
   "metadata": {},
   "outputs": [
    {
     "data": {
      "image/png": "[encoded data removed]",
      "text/plain": [
       "<Figure size 432x288 with 1 Axes>"
      ]
     },
     "metadata": {
      "needs_background": "light"
     },
     "output_type": "display_data"
    }
   ],
   "source": [
    "plt.hist(arr_randn,bins=2,edgecolor='black');"
   ]
  },
  {
   "cell_type": "code",
   "execution_count": 189,
   "id": "2b42e5ec",
   "metadata": {},
   "outputs": [
    {
     "data": {
      "image/png": "[encoded data removed]",
      "text/plain": [
       "<Figure size 432x288 with 1 Axes>"
      ]
     },
     "metadata": {
      "needs_background": "light"
     },
     "output_type": "display_data"
    }
   ],
   "source": [
    "plt.plot(arr_randn);"
   ]
  },
  {
   "cell_type": "code",
   "execution_count": 221,
   "id": "f6f2a873",
   "metadata": {},
   "outputs": [
    {
     "data": {
      "text/plain": [
       "array([ 2.69536510e+00,  2.37833739e+00,  1.14333487e+00,  4.82667669e+00,\n",
       "        1.35348173e+00,  3.00772320e+00,  7.85201316e-01,  4.95832230e-01,\n",
       "        3.99300391e+00,  9.12192157e-01,  1.53222429e+00, -1.14562281e-01,\n",
       "       -3.98671508e-01,  1.63733021e+00,  4.25941416e+00,  1.91348382e+00,\n",
       "        3.51230888e+00,  1.23635326e+00,  7.04929918e-01,  5.62657653e-01,\n",
       "        6.73028319e-01,  1.84718071e+00,  2.33525352e+00,  2.63867595e+00,\n",
       "        1.77289878e+00,  4.34421589e+00,  1.63487677e+00,  3.89254091e+00,\n",
       "        2.13023650e+00,  1.75451820e+00,  1.79701426e+00,  7.32974554e-01,\n",
       "        2.17305576e+00,  2.16370731e+00,  5.96024786e-01, -1.79725675e-01,\n",
       "        3.14996157e+00,  3.97908527e+00,  3.36826181e+00,  4.61591178e-01,\n",
       "        2.37402082e+00,  2.78542529e+00,  2.58419295e+00,  2.19553259e+00,\n",
       "        1.91135473e+00,  1.91188331e+00,  1.99561448e+00,  1.33889784e+00,\n",
       "        1.44557679e+00,  2.57990329e+00,  4.77064403e+00,  1.54545496e+00,\n",
       "       -1.38188476e+00,  2.58703102e+00,  7.32864072e-01,  4.86831848e+00,\n",
       "       -4.02936563e-02,  3.40882497e+00,  1.76716756e+00,  1.55375144e+00,\n",
       "        3.47654074e-01,  1.83074044e+00,  3.47488662e+00,  3.11420228e+00,\n",
       "        9.65411639e-01, -1.57037473e+00,  1.91897523e+00,  1.70622683e+00,\n",
       "        3.18443263e+00,  5.21373071e-01,  2.29980554e-01,  1.99904691e+00,\n",
       "        2.31441829e+00,  2.62662159e+00,  3.30565338e+00,  1.03574875e+00,\n",
       "        2.01466367e+00, -5.81193556e-01,  3.56566922e+00,  2.33751554e+00,\n",
       "        4.80373697e+00,  4.88677528e+00,  2.06320995e+00,  1.67626396e+00,\n",
       "        1.16945930e+00,  1.05768127e+00,  3.73997448e+00,  1.01875048e+00,\n",
       "        1.12354560e+00,  3.62646941e+00,  1.87904951e-01,  4.12061529e+00,\n",
       "        1.30801680e+00,  1.03027390e+00,  2.20851418e+00,  9.98675339e-01,\n",
       "        1.80643392e+00,  5.73668394e+00,  4.27073565e+00,  2.90024043e+00,\n",
       "        1.06504968e+00,  7.22260586e-01,  1.28441692e+00,  1.66263951e+00,\n",
       "        3.37031676e+00,  1.96989863e+00,  1.91669653e+00,  1.70595290e+00,\n",
       "        4.91474228e+00,  2.72202239e+00,  1.77535231e+00,  5.42959842e-01,\n",
       "        1.08571693e+00,  4.31123204e+00,  2.44663427e+00,  3.92445321e-01,\n",
       "        2.26007791e+00,  3.82441679e+00,  2.84590165e+00,  2.58137550e+00,\n",
       "        1.67420086e+00,  1.04561874e-01,  2.29632083e+00,  2.80788648e+00,\n",
       "        9.28374038e-01, -7.69321249e-01,  2.36098797e+00,  3.84459628e+00,\n",
       "        1.38637774e-01,  1.87603791e+00,  2.36313982e+00, -1.70836172e+00,\n",
       "        2.39808227e+00,  5.19916887e+00,  2.04895850e+00,  4.03424050e+00,\n",
       "        4.33660060e+00, -5.26649204e-01,  3.32748235e+00,  1.14528810e+00,\n",
       "        2.66523984e+00,  2.80423369e+00,  2.84067637e+00,  7.88331873e-02,\n",
       "        4.23713522e-01, -1.31794010e+00,  3.99741241e+00,  3.02821570e+00,\n",
       "        1.43222807e+00,  3.79656664e+00,  3.90474024e+00,  5.08260823e+00,\n",
       "        1.69654071e+00,  2.19932644e+00,  1.82297498e+00,  2.69259594e-03,\n",
       "        3.50686294e+00,  1.14849006e+00, -2.76388704e-02,  1.89466941e+00,\n",
       "        5.67242171e-01,  1.79851523e+00,  7.37091680e-01,  1.13608079e+00,\n",
       "        1.28466866e+00,  1.95482345e+00,  1.66286554e+00,  2.14797442e+00,\n",
       "        2.61046687e-01,  2.98817386e+00,  5.09879684e-01,  5.45505896e-01,\n",
       "        2.41512212e+00,  3.01306907e+00,  9.24873554e-01,  2.96725884e+00,\n",
       "        4.87800695e+00,  4.23912947e-01,  7.90500804e-01,  2.27077647e+00,\n",
       "        1.61043171e+00,  2.37982198e+00,  3.01049619e+00,  2.35068905e+00,\n",
       "        1.87804976e-01,  2.56441445e+00,  1.76758426e+00,  2.45869362e-01,\n",
       "        1.95654260e+00,  1.68799066e+00,  9.45824291e-01,  3.41835653e+00,\n",
       "       -8.91269016e-01,  8.26123130e-01,  1.85484613e+00,  9.12329395e-01,\n",
       "        1.31690723e+00,  1.09719019e+00,  1.87951612e+00,  3.03067850e+00,\n",
       "        3.40633047e+00,  2.49992545e+00,  2.34973270e+00,  1.96248831e+00,\n",
       "        1.44039218e+00,  9.52397119e-01,  2.77149878e+00,  1.85061542e+00,\n",
       "        4.08577301e+00,  4.46450688e+00,  8.70041378e-01,  2.17952058e+00,\n",
       "        3.47299228e+00, -1.03980841e+00,  1.73692794e+00, -2.73244775e-01,\n",
       "        2.16951536e+00,  3.41340679e-01,  3.33830691e+00,  2.44792158e+00,\n",
       "        2.46864129e+00,  7.69650708e-01,  9.97822577e-01,  1.71691607e-01,\n",
       "        3.73682096e+00,  3.15962779e+00,  1.33695336e+00,  3.70148037e+00,\n",
       "        4.10880933e+00,  2.81948281e+00,  1.74891489e+00,  1.31546581e+00,\n",
       "        2.28793019e+00,  2.16103847e+00,  3.90261342e+00,  1.99150319e-01,\n",
       "        1.84151645e+00,  3.89227114e-01, -2.18401574e-01,  7.66301154e-01,\n",
       "        2.97030987e+00,  1.44788681e+00,  2.68498161e+00,  2.49996405e+00,\n",
       "        1.11055126e+00, -4.24555147e-02,  1.08756960e+00,  3.55939094e+00,\n",
       "        2.95830657e+00,  1.71524832e+00,  2.90383974e+00,  8.32478324e-01,\n",
       "        4.15623932e+00,  1.83011995e+00,  5.14126092e-01, -4.28262588e-01,\n",
       "        3.19139979e+00,  2.57020845e+00,  1.86015907e+00,  2.51882651e+00,\n",
       "       -5.49023118e-02,  1.57685664e+00,  3.44427437e+00,  1.70489903e+00,\n",
       "        1.56099229e+00,  1.17469240e+00,  6.45077975e-01,  2.73733074e+00,\n",
       "        1.64912650e+00, -9.97440487e-01,  7.93340797e-01,  1.68385610e+00,\n",
       "        7.38116350e-01,  1.19974199e+00,  1.60491364e+00, -4.41773250e-01,\n",
       "        2.86280832e-01,  1.85776031e+00,  3.93540354e+00,  3.77429078e+00,\n",
       "        3.62244369e+00,  2.44515550e+00,  2.13793074e+00,  4.75417359e+00,\n",
       "        1.61824161e+00,  1.76833137e+00,  3.70651100e-01,  1.47569924e+00,\n",
       "        2.11394381e-01,  4.38792436e+00,  2.43734287e-01,  3.56945253e+00,\n",
       "        1.69849536e+00,  4.00966258e+00,  3.53513357e+00, -2.00021965e-01,\n",
       "        2.38387439e+00,  1.19363262e+00,  1.71784800e+00,  1.07742820e+00,\n",
       "        1.89448806e+00,  7.64488701e-01,  8.44566613e-01,  1.89263755e+00,\n",
       "        2.83120650e-02,  2.98914797e+00,  8.79436505e-01, -3.27878777e-01,\n",
       "        1.31112349e+00,  2.66857198e+00,  6.56398472e+00,  3.14739467e+00,\n",
       "        1.31034210e-01,  1.37439711e+00,  4.00805903e+00, -3.25955519e-01,\n",
       "       -1.12545008e+00,  9.03538857e-01,  3.35393920e+00,  1.61651648e+00,\n",
       "        1.41093869e+00,  2.32466878e+00,  1.06961298e+00,  2.51655724e+00,\n",
       "        6.13648315e-01,  1.41479467e+00,  2.41890096e+00,  1.78294198e+00,\n",
       "        2.57517020e+00,  7.52612171e-01,  4.08450468e-01,  3.41854221e+00,\n",
       "        2.86639821e-01,  2.65372093e+00,  5.16554835e+00,  4.75990664e+00,\n",
       "        3.13127221e+00,  2.68970577e+00,  6.87543820e-01,  3.56332779e-01,\n",
       "        1.64188386e+00,  3.23785022e+00,  1.39282748e-01,  1.11095288e+00,\n",
       "        7.98931113e-01,  1.83478944e+00,  1.34848851e+00,  3.12291707e+00,\n",
       "        3.57926737e+00,  3.62144302e+00,  4.90018743e-02,  2.32522434e+00,\n",
       "        1.66879426e-01, -8.26820072e-01, -1.32503052e-01,  9.99971967e-01,\n",
       "        2.70161434e+00,  2.76443558e+00,  3.03145524e+00,  1.34334472e+00,\n",
       "        3.19383519e+00,  1.18940503e+00,  1.20086193e+00,  1.38659385e+00,\n",
       "        1.90473060e+00,  1.67671400e+00,  7.65390396e-01, -4.03574993e-01,\n",
       "        1.83194590e+00,  1.90693582e+00,  2.71714616e+00,  3.52023289e+00,\n",
       "        3.25913967e+00,  3.43658666e+00,  2.76789965e+00,  1.36334504e+00,\n",
       "        2.46455814e-02,  2.39283344e-01,  1.66806839e+00,  3.50995720e+00,\n",
       "        3.61822657e+00,  3.59459153e+00,  1.03165998e+00, -2.66688368e-01,\n",
       "        5.03340140e-01,  3.45007566e+00,  2.34754823e+00,  3.30905748e-01,\n",
       "        4.11724182e+00,  3.97570732e+00,  1.50322230e+00,  1.40150674e+00,\n",
       "        1.21976531e+00,  2.44990499e+00,  9.05461999e-01,  3.60732769e+00,\n",
       "        2.15251140e+00,  2.04051541e+00,  5.06045161e+00,  2.40715941e+00,\n",
       "        4.70916655e+00, -6.87610700e-01,  2.57751307e-01,  5.25659723e-01,\n",
       "        2.28377469e+00,  8.17066767e-01,  2.88824802e+00,  1.27447697e-02,\n",
       "        4.28889494e+00,  1.55677045e+00,  2.78888353e+00,  3.50385710e+00,\n",
       "        9.39651010e-01,  2.23504439e+00,  1.25544814e+00,  1.87464782e+00,\n",
       "        1.55671574e+00,  3.80947966e+00,  3.01894551e+00,  1.66821612e+00,\n",
       "        9.60662675e-01,  3.96356433e+00,  2.82953951e+00,  1.54131582e+00,\n",
       "        7.05555776e+00,  2.65312738e+00,  1.75334322e+00,  1.31855397e+00,\n",
       "        5.24384633e+00,  1.23621932e+00,  6.94594343e-01,  1.37331995e+00,\n",
       "        3.25441639e+00,  2.27359926e+00, -1.60413863e+00, -3.60613552e-01,\n",
       "        3.49600028e+00,  4.76942354e+00,  3.13037976e+00,  2.75295771e-01,\n",
       "        2.50064783e+00,  1.58206993e+00,  2.23957999e+00,  4.31175925e+00,\n",
       "        5.82346922e-01,  1.28331801e-02,  8.95301706e-01,  3.01086659e+00,\n",
       "        3.79405631e+00,  5.59524929e+00,  5.84916549e+00,  1.41255828e+00,\n",
       "        4.72263113e+00,  1.06790326e+00,  3.34674789e-01, -1.02420263e+00,\n",
       "        2.27210991e+00,  1.43635392e+00,  3.91743361e+00,  3.05100181e+00,\n",
       "        1.48115712e+00,  1.30245513e+00,  1.58580185e+00,  3.87763885e+00,\n",
       "        2.25987260e+00, -1.00438238e+00,  1.31618839e+00,  1.57550966e+00,\n",
       "       -7.32255483e-02,  2.89407667e+00,  6.27068202e-01,  3.35488283e+00,\n",
       "        7.32570028e-01,  2.49797392e+00,  1.46004765e+00,  3.83581761e-01,\n",
       "        6.95951694e-01,  2.98032552e+00,  2.57193875e+00,  2.38458425e+00,\n",
       "        2.37187995e+00,  3.32052018e+00,  2.93123380e-01,  1.72597877e+00,\n",
       "        2.78048835e+00,  2.78589694e+00,  2.86219082e+00,  2.08183002e+00,\n",
       "        3.33301738e+00,  3.02004965e+00, -8.54802905e-01,  1.08359991e+00,\n",
       "        2.62955361e+00,  2.83079401e+00,  3.37209300e+00,  1.71175838e+00,\n",
       "        5.74442380e-02,  2.63820489e+00,  3.15499301e+00,  1.63300185e+00,\n",
       "        2.25367761e+00,  1.80221344e+00,  6.44880953e+00,  3.27700694e+00,\n",
       "       -1.05253264e-01,  2.24860464e+00,  2.74279727e+00,  1.58777164e+00,\n",
       "        1.89672316e+00,  8.95139865e-01,  1.21231007e+00,  3.93478878e+00,\n",
       "        3.13672962e+00, -1.11935666e+00,  4.19161646e+00,  8.55109210e-01,\n",
       "        2.80982116e+00,  6.97785842e-01,  3.94214784e+00,  1.63267559e+00,\n",
       "        3.11407316e+00,  6.25543032e-01,  1.06128808e+00,  2.62123571e+00,\n",
       "        8.13943760e-01,  2.78941198e+00,  4.11881418e-01,  1.19974762e+00,\n",
       "        5.02258825e+00,  2.89370350e+00,  8.11568277e-01,  1.97095377e+00,\n",
       "        1.00796510e+00,  3.38525791e+00,  3.18828623e+00,  3.76087122e-01,\n",
       "        6.08915716e-01,  2.96549738e+00,  5.49615161e-01,  2.22741888e+00,\n",
       "        2.44314633e+00,  9.41853700e-02,  2.01370809e+00, -7.21552565e-01,\n",
       "        3.40881204e+00,  5.63148916e-01,  2.23415641e+00,  1.52551906e+00,\n",
       "        3.57940391e-01,  2.50900092e+00,  1.13438974e+00,  5.00688552e+00,\n",
       "        3.60530148e-01,  4.23533368e+00,  2.17010682e+00,  3.39363333e+00,\n",
       "        4.46288206e+00,  2.33332636e+00,  1.32429357e+00, -1.02685998e+00,\n",
       "        5.12453078e+00,  3.06787516e+00,  3.67549696e+00,  1.48886819e+00,\n",
       "       -5.80941990e-01,  2.73515338e+00,  1.65736360e+00,  3.01981551e+00,\n",
       "        2.71292043e+00,  9.00881733e-01, -3.88629293e-01,  2.26864254e+00,\n",
       "        1.65540688e+00,  4.69197687e-01,  2.07438061e+00,  2.11388531e+00,\n",
       "       -2.23119709e+00,  1.22914874e+00,  2.56279809e+00,  4.01669028e+00,\n",
       "       -6.27926352e-01, -6.54974101e-01,  2.71283054e+00,  2.99093809e+00,\n",
       "        2.46043726e+00,  2.52942039e+00,  2.93116704e-01,  4.38604110e+00,\n",
       "        4.88453852e-02,  3.52616982e+00,  8.82219757e-01,  3.72726082e+00,\n",
       "        3.28066339e+00,  1.12946805e+00,  3.45899957e+00, -9.36702511e-01,\n",
       "        2.99579255e+00,  7.18590923e-01, -1.22394971e+00,  3.63372264e+00,\n",
       "       -4.39042551e-02,  1.58731446e+00,  1.40805824e+00,  2.09024515e+00,\n",
       "        5.81702617e+00,  2.59552217e+00,  5.38594892e+00,  1.84196626e+00,\n",
       "        4.18745633e-01,  2.40477986e+00,  2.96095323e+00,  4.18491690e-01,\n",
       "        1.33461852e+00,  8.00430567e-01,  9.51473930e-01,  6.46928921e-01,\n",
       "        4.00231228e+00,  2.83740923e+00,  2.15123446e+00,  1.49532320e+00,\n",
       "        3.12480659e+00,  3.12909997e+00, -2.99690877e-01,  4.57207385e+00,\n",
       "        2.99151269e+00,  3.59644152e-01,  5.25146694e-02,  2.63114343e+00,\n",
       "        3.09043029e+00,  5.44396789e+00,  1.78081336e+00,  4.41402525e+00,\n",
       "        2.88767853e-01,  1.34941071e+00,  1.90845291e+00,  3.40925446e+00,\n",
       "        2.04116319e+00,  1.27757297e+00,  1.07032419e+00,  1.92503221e+00,\n",
       "        1.35283366e+00,  2.55004677e+00,  1.98776086e+00,  8.42839180e-01,\n",
       "        1.04875857e+00,  6.52518075e-01,  1.54350372e+00,  9.74222957e-01,\n",
       "        5.39730957e+00,  1.29963444e+00,  3.13846302e+00,  2.66702615e-01,\n",
       "        3.33064724e+00,  4.59806767e+00,  9.67405228e-01, -2.23033608e-01,\n",
       "        1.55219677e+00,  3.27798101e-01, -8.01196119e-01,  3.08128857e+00,\n",
       "        5.53127799e+00,  3.07757933e+00,  1.35617409e+00,  1.01503852e+00,\n",
       "        6.00451102e+00,  2.23236330e+00,  4.55504813e+00,  3.32367357e-01,\n",
       "        1.30875497e+00,  2.67721394e+00,  1.56082951e+00,  9.25313322e-01,\n",
       "       -3.08782966e-02,  3.35309750e+00, -7.45531585e-01,  2.60006272e+00,\n",
       "       -2.28979100e-01,  2.85344824e+00,  3.03947262e+00,  3.34380484e+00,\n",
       "        3.26715976e+00,  3.50217720e+00,  9.56401572e-01,  1.28896018e+00,\n",
       "        2.53030608e+00,  2.68158524e+00,  2.26592744e+00,  1.06743722e-01,\n",
       "        1.84783694e+00,  7.15796647e-01,  2.36006080e+00,  2.55906180e+00,\n",
       "        4.03152960e+00, -1.32472513e+00,  2.70608851e+00,  4.74735532e+00,\n",
       "        3.23016696e+00,  3.21094702e+00,  4.07671860e-01,  2.96431559e+00,\n",
       "        4.71762146e-01,  2.86175889e+00,  2.27511988e+00,  1.34800219e+00,\n",
       "        5.31944884e-01,  8.12675952e-01,  1.51591924e-01,  3.56908501e+00,\n",
       "        3.38172555e+00, -8.72907756e-01, -3.74469685e-01,  3.44074409e+00,\n",
       "        3.23661886e+00,  2.94440165e+00,  3.28766388e+00,  1.70309470e+00,\n",
       "        3.01778171e+00,  3.92722201e+00,  2.23359726e+00, -2.55084414e-01,\n",
       "        3.55612939e+00,  2.32170518e+00,  2.66004111e+00,  2.19229832e+00,\n",
       "        3.36732874e+00,  3.15366008e+00,  2.56356685e+00,  2.26863510e+00,\n",
       "        6.57843703e-01,  1.96506951e+00,  5.87141817e-01,  2.25926310e+00,\n",
       "        1.60826319e+00,  1.54445177e+00,  1.48311916e+00,  1.67914496e+00,\n",
       "        1.97317561e+00,  6.97446248e-01, -1.23964515e+00,  3.96259014e+00,\n",
       "        3.58884009e+00,  1.61014221e+00,  3.47430582e+00,  2.50018229e+00,\n",
       "        2.42773931e+00,  1.98205958e+00,  4.87678524e-01,  1.21172862e+00,\n",
       "        2.10373703e+00,  6.54721451e+00,  1.22107860e+00,  4.69443826e+00,\n",
       "        1.81245865e+00,  4.57177986e-01,  3.95910490e-01,  1.28246317e+00,\n",
       "        2.80900633e+00,  2.25881271e+00,  2.56000039e+00,  1.58083220e+00,\n",
       "        3.85903322e+00,  3.89248977e+00,  3.79363220e+00,  2.66593060e+00,\n",
       "       -1.02454675e-01,  2.82612403e+00,  1.50590157e+00,  2.36665912e+00,\n",
       "        7.47650238e-01,  9.87988140e-01,  1.32708798e+00,  2.12785427e+00,\n",
       "        3.57252962e+00,  7.90202576e-01,  6.82717823e-01,  2.54997533e+00,\n",
       "        4.89389718e-01,  3.27445153e+00,  3.01603272e+00,  1.48610500e+00,\n",
       "        2.19690563e+00,  1.41452972e+00,  2.01158504e-01,  2.62576705e+00,\n",
       "        2.43522207e+00,  2.89343311e+00,  3.82540347e+00,  1.17699272e+00,\n",
       "        1.74204478e+00,  1.84188711e+00,  1.89284731e+00,  5.70682338e+00,\n",
       "        1.53095933e+00, -1.86756203e+00,  2.05658761e+00,  3.68619538e+00,\n",
       "        1.56501809e+00,  2.41526229e+00,  1.44392051e+00,  2.19877964e+00,\n",
       "       -1.63758960e+00,  3.63727159e+00,  3.47471028e+00, -1.78428987e+00,\n",
       "        2.24621573e+00,  2.30854530e+00, -5.01077020e-01,  2.11240024e+00,\n",
       "        3.66648076e+00, -2.84863322e-01,  2.47889838e+00,  4.73608399e-01,\n",
       "        2.95550386e+00,  1.65883678e+00,  2.53127020e+00,  1.82165995e+00,\n",
       "        2.97739607e+00,  9.33258654e-01,  3.59566761e+00,  1.94977659e+00,\n",
       "        4.43186513e+00,  2.32597523e+00,  1.15335464e+00,  2.75170024e+00,\n",
       "       -1.23460048e+00,  3.93810542e-01, -1.29670640e+00,  4.07089330e+00,\n",
       "        1.00854228e+00, -2.15503704e+00, -4.37311340e-02,  6.71336237e-01,\n",
       "        3.38916751e-01,  3.98971181e+00,  1.66406315e+00,  1.32397269e-04,\n",
       "        1.88708307e+00, -2.86185807e-01, -1.19786558e+00,  2.47662833e+00,\n",
       "        3.22272821e+00,  3.19098300e+00,  1.52194373e-01,  1.38376925e+00,\n",
       "        1.87040184e+00,  1.29400084e+00,  1.21727610e+00,  2.47340946e+00,\n",
       "        2.20929135e+00,  3.22212513e+00,  1.09336243e+00, -7.51810324e-01,\n",
       "       -1.00866823e-01,  1.43697996e+00,  2.58908303e+00,  1.01649734e+00,\n",
       "        3.24345597e+00,  3.76065167e+00,  3.10768093e+00,  7.50737353e-01,\n",
       "        1.54073242e+00,  1.33911662e+00,  8.77090126e-01,  1.88342358e+00,\n",
       "        2.35067949e+00,  5.78157233e+00,  3.33131111e+00,  1.20443214e+00,\n",
       "        1.32760542e+00,  2.56232520e+00,  4.59515025e+00,  6.47547461e+00,\n",
       "        1.21828739e+00,  1.26940507e+00,  5.87722161e-01, -1.13063079e+00,\n",
       "        9.33441567e-01, -2.13543375e+00,  6.99540902e-01, -4.58130211e-01,\n",
       "        3.83714213e+00,  4.34503669e+00, -1.15541656e+00,  6.27104340e-01,\n",
       "       -3.26550959e-01,  3.18510107e+00,  1.68057343e+00,  8.64076427e-01,\n",
       "       -1.99955792e-01,  3.71769444e+00,  3.96517166e+00,  1.50255783e+00,\n",
       "        2.43662533e-01,  4.07356573e+00,  2.36517491e+00,  4.93223204e+00,\n",
       "        1.37391998e-01,  3.94838765e+00,  2.13711299e+00,  2.70367350e+00,\n",
       "        1.69861136e+00,  4.48759223e+00,  3.22793078e+00,  3.24802457e+00,\n",
       "        9.61223931e-02, -7.10513727e-01,  3.01994800e+00,  2.04090414e+00,\n",
       "        3.37543312e+00,  3.14615510e+00,  3.11415139e+00, -6.35888670e-02,\n",
       "        1.27951042e+00,  2.74016748e+00,  3.16524170e+00,  2.89698386e+00,\n",
       "        2.61685873e+00,  2.56136652e+00,  3.18678190e+00, -8.86162291e-01,\n",
       "        2.43357708e+00,  1.12560782e+00,  3.90637983e-01,  2.22205241e-01,\n",
       "        9.55250366e-01,  2.28763490e+00,  2.94196811e+00,  3.83372781e+00,\n",
       "        6.52674687e-01,  1.79894062e+00,  3.24119886e+00,  1.44404960e+00,\n",
       "        2.27281009e+00,  8.12077732e-01,  5.57070954e-01,  2.97504863e+00,\n",
       "        2.84964819e+00,  6.05518240e-01, -4.85825417e-01,  3.11423433e+00,\n",
       "        3.00204014e+00,  2.38526084e+00, -1.41526520e+00,  1.82724736e+00,\n",
       "        3.63398280e-03,  4.80496987e-01,  2.17379439e+00,  1.16730707e+00,\n",
       "        2.79869320e+00,  2.32639842e+00,  6.33902883e-01,  1.70045295e-01,\n",
       "        4.08699436e-01,  3.99767854e+00,  2.08446599e+00,  2.53184280e+00,\n",
       "        2.08843291e+00,  3.08858087e+00,  1.25270861e+00,  1.61984039e+00,\n",
       "        4.28943729e+00,  3.28477610e+00,  4.01789032e+00, -3.55973496e-01,\n",
       "        2.77725886e+00,  2.57189019e+00, -3.33991852e-01,  1.52237174e+00,\n",
       "        1.43115196e+00,  2.52850417e+00,  5.84292632e+00,  2.66009930e+00,\n",
       "        1.88732991e+00,  1.35520036e+00,  1.37095580e+00,  3.23696825e-01,\n",
       "        2.35004452e+00,  2.06578295e+00,  1.01269193e+00,  1.62020440e+00,\n",
       "        2.35791609e+00, -7.50814301e-01,  2.56259277e+00,  9.83297181e-01,\n",
       "        2.71183576e+00,  1.80871312e+00,  6.43889111e-02,  3.47630075e+00,\n",
       "        6.89935790e+00,  2.76828254e+00,  2.36312846e+00,  1.48952979e+00,\n",
       "        3.95749339e+00, -8.57664946e-01,  2.71577706e+00,  1.42546845e+00,\n",
       "        2.91553410e+00,  1.86394281e+00,  4.00555648e+00,  4.34322139e-01])"
      ]
     },
     "execution_count": 221,
     "metadata": {},
     "output_type": "execute_result"
    }
   ],
   "source": [
    "arr_randn_100 = randn(1000)\n",
    "arr_randn_100 = 2+1.5*arr_randn_100\n",
    "arr_randn_100"
   ]
  },
  {
   "cell_type": "code",
   "execution_count": 241,
   "id": "5495c2a2",
   "metadata": {},
   "outputs": [
    {
     "data": {
      "image/png": "[encoded data removed]",
      "text/plain": [
       "<Figure size 432x288 with 1 Axes>"
      ]
     },
     "metadata": {
      "needs_background": "light"
     },
     "output_type": "display_data"
    }
   ],
   "source": [
    "plt.hist(arr_randn_100, density=True, edgecolor='black')\n",
    "x = np.linspace(min(arr_randn_100), max(arr_randn_100), 100)\n",
    "y = (1 / (1.5 * np.sqrt(2 * np.pi))) * np.exp(-(x - 2)**2 / (2 * 1.5**2))\n",
    "plt.plot(x,y, color='red', linewidth=2);"
   ]
  },
  {
   "cell_type": "code",
   "execution_count": 234,
   "id": "0fd6a7b7",
   "metadata": {},
   "outputs": [],
   "source": [
    "import seaborn as sns"
   ]
  },
  {
   "cell_type": "code",
   "execution_count": 211,
   "id": "4bf0e028",
   "metadata": {},
   "outputs": [
    {
     "data": {
      "text/plain": [
       "array([-2, -1,  0,  9, 10])"
      ]
     },
     "execution_count": 211,
     "metadata": {},
     "output_type": "execute_result"
    }
   ],
   "source": [
    "A = np.array([-1,-2,0,10,9])\n",
    "np.sort(A)"
   ]
  },
  {
   "cell_type": "code",
   "execution_count": 212,
   "id": "1f691f85",
   "metadata": {},
   "outputs": [
    {
     "data": {
      "text/plain": [
       "array([10,  9,  0, -1, -2])"
      ]
     },
     "execution_count": 212,
     "metadata": {},
     "output_type": "execute_result"
    }
   ],
   "source": [
    "np.sort(A)[::-1]"
   ]
  },
  {
   "cell_type": "code",
   "execution_count": 216,
   "id": "d8fbabd6",
   "metadata": {},
   "outputs": [
    {
     "data": {
      "text/plain": [
       "array(['Ahmed', 'Ali', 'Muaeen', 'Salim'], dtype='<U6')"
      ]
     },
     "execution_count": 216,
     "metadata": {},
     "output_type": "execute_result"
    }
   ],
   "source": [
    "name = np.array(['Muaeen','Ahmed','Ali','Salim'])\n",
    "np.unique(name)"
   ]
  },
  {
   "cell_type": "code",
   "execution_count": 220,
   "id": "df9b3282",
   "metadata": {},
   "outputs": [
    {
     "data": {
      "text/plain": [
       "array([False,  True])"
      ]
     },
     "execution_count": 220,
     "metadata": {},
     "output_type": "execute_result"
    }
   ],
   "source": [
    "np.in1d(['Gharib','Muaeen'],name)"
   ]
  },
  {
   "cell_type": "code",
   "execution_count": 243,
   "id": "a80e74e7",
   "metadata": {},
   "outputs": [
    {
     "data": {
      "text/plain": [
       "array([[1, 4],\n",
       "       [2, 5],\n",
       "       [3, 6]])"
      ]
     },
     "execution_count": 243,
     "metadata": {},
     "output_type": "execute_result"
    }
   ],
   "source": [
    "arr = np.array([[1, 2, 3],\n",
    "                [4, 5, 6]])\n",
    "arr_transpose = np.transpose(arr)\n",
    "arr_transpose"
   ]
  },
  {
   "cell_type": "code",
   "execution_count": 244,
   "id": "7636b918",
   "metadata": {},
   "outputs": [
    {
     "data": {
      "text/plain": [
       "array([[ 1,  5,  9],\n",
       "       [ 2,  6, 10],\n",
       "       [ 3,  7, 11],\n",
       "       [ 4,  8, 12]])"
      ]
     },
     "execution_count": 244,
     "metadata": {},
     "output_type": "execute_result"
    }
   ],
   "source": [
    "arr = np.array([[1, 2, 3, 4],\n",
    "                [5, 6, 7, 8],\n",
    "                [9, 10, 11, 12]])\n",
    "arr_transpose = np.transpose(arr)\n",
    "arr_transpose"
   ]
  },
  {
   "cell_type": "code",
   "execution_count": 245,
   "id": "abbeeb57",
   "metadata": {},
   "outputs": [
    {
     "data": {
      "text/plain": [
       "array([[1, 5, 6, 7, 4],\n",
       "       [2, 4, 5, 6, 9],\n",
       "       [3, 3, 7, 8, 0],\n",
       "       [4, 2, 3, 3, 6],\n",
       "       [5, 1, 5, 5, 8]])"
      ]
     },
     "execution_count": 245,
     "metadata": {},
     "output_type": "execute_result"
    }
   ],
   "source": [
    "arr = np.array([[1,2,3,4,5],\n",
    "                [5,4,3,2,1],\n",
    "                [6,5,7,3,5],\n",
    "                [7,6,8,3,5],\n",
    "                [4,9,0,6,8]])\n",
    "arr_transpose = np.transpose(arr)\n",
    "arr_transpose"
   ]
  },
  {
   "cell_type": "code",
   "execution_count": 252,
   "id": "66712f53",
   "metadata": {},
   "outputs": [
    {
     "name": "stdout",
     "output_type": "stream",
     "text": [
      "[[1 2]\n",
      " [5 4]]\n",
      "[[1 5]\n",
      " [2 4]]\n"
     ]
    },
    {
     "data": {
      "text/plain": [
       "array([[26, 22],\n",
       "       [22, 20]])"
      ]
     },
     "execution_count": 252,
     "metadata": {},
     "output_type": "execute_result"
    }
   ],
   "source": [
    "arr = np.array([[1,2],[5,4]])\n",
    "arr_transpose = np.transpose(arr)\n",
    "print(arr)\n",
    "print(arr_transpose)\n",
    "arr_dot = np.dot(arr_transpose,arr)\n",
    "arr_dot"
   ]
  },
  {
   "cell_type": "code",
   "execution_count": 253,
   "id": "717df41b",
   "metadata": {},
   "outputs": [
    {
     "data": {
      "text/plain": [
       "array([[19, 22],\n",
       "       [43, 50]])"
      ]
     },
     "execution_count": 253,
     "metadata": {},
     "output_type": "execute_result"
    }
   ],
   "source": [
    "arr1 = np.array([[1, 2],\n",
    "                 [3, 4]])\n",
    "arr2 = np.array([[5, 6],\n",
    "                 [7, 8]])\n",
    "arr_dot = np.dot(arr1, arr2)\n",
    "arr_dot"
   ]
  },
  {
   "cell_type": "code",
   "execution_count": 254,
   "id": "96d9a7eb",
   "metadata": {},
   "outputs": [
    {
     "data": {
      "text/plain": [
       "array([[ 30,  24,  18],\n",
       "       [ 84,  69,  54],\n",
       "       [138, 114,  90]])"
      ]
     },
     "execution_count": 254,
     "metadata": {},
     "output_type": "execute_result"
    }
   ],
   "source": [
    "arr1 = np.array([[1, 2, 3],\n",
    "                 [4, 5, 6],\n",
    "                 [7, 8, 9]])\n",
    "arr2 = np.array([[9, 8, 7],\n",
    "                 [6, 5, 4],\n",
    "                 [3, 2, 1]])\n",
    "arr_dot = np.dot(arr1, arr2)\n",
    "arr_dot"
   ]
  },
  {
   "cell_type": "code",
   "execution_count": 255,
   "id": "04abed70",
   "metadata": {},
   "outputs": [
    {
     "data": {
      "text/plain": [
       "array([[ 58,  64],\n",
       "       [139, 154]])"
      ]
     },
     "execution_count": 255,
     "metadata": {},
     "output_type": "execute_result"
    }
   ],
   "source": [
    "arr1 = np.array([[1, 2, 3],\n",
    "                 [4, 5, 6]])\n",
    "arr2 = np.array([[7, 8],\n",
    "                 [9, 10],\n",
    "                 [11, 12]])\n",
    "arr_dot = np.dot(arr1, arr2)\n",
    "arr_dot"
   ]
  },
  {
   "cell_type": "code",
   "execution_count": 256,
   "id": "a568f60d",
   "metadata": {},
   "outputs": [
    {
     "data": {
      "text/plain": [
       "array([[ 27,  30,  33],\n",
       "       [ 61,  68,  75],\n",
       "       [ 95, 106, 117]])"
      ]
     },
     "execution_count": 256,
     "metadata": {},
     "output_type": "execute_result"
    }
   ],
   "source": [
    "arr1 = np.array([[1, 2],\n",
    "                 [3, 4],\n",
    "                 [5, 6]])\n",
    "arr2 = np.array([[7, 8, 9],\n",
    "                 [10, 11, 12]])\n",
    "arr_dot = np.dot(arr1, arr2)\n",
    "arr_dot"
   ]
  },
  {
   "cell_type": "code",
   "execution_count": 259,
   "id": "08744b38",
   "metadata": {},
   "outputs": [
    {
     "name": "stdout",
     "output_type": "stream",
     "text": [
      "[[ 1  5  9 13]\n",
      " [ 2  6 10 14]\n",
      " [ 3  7 11 15]\n",
      " [ 4  8 12 16]]\n",
      "\n",
      "[[ 30  70 110 150]\n",
      " [ 70 174 278 382]\n",
      " [110 278 446 614]\n",
      " [150 382 614 846]]\n"
     ]
    }
   ],
   "source": [
    "arr = np.array([[1, 2, 3, 4],\n",
    "                [5, 6, 7, 8],\n",
    "                [9, 10, 11, 12],\n",
    "                [13, 14, 15, 16]])\n",
    "arr_transpose = np.transpose(arr)\n",
    "print(arr_transpose)\n",
    "arr_dot = np.dot(arr, arr_transpose)\n",
    "print('')\n",
    "print(arr_dot)"
   ]
  },
  {
   "cell_type": "code",
   "execution_count": 292,
   "id": "ccdfff03",
   "metadata": {},
   "outputs": [
    {
     "name": "stdout",
     "output_type": "stream",
     "text": [
      "[[-0.32498943 -1.06047591  1.55989411  0.29937268  0.20946131]\n",
      " [-0.86098877 -0.16256686  0.91504136 -0.26559528  1.3086655 ]\n",
      " [ 0.58684502  0.01447933 -1.81293862  1.11243583 -0.03327672]\n",
      " [ 1.4116177   0.30658376 -0.30876893 -0.50647569 -0.39230127]\n",
      " [-1.86182     2.3913886   0.34217666  0.55367405 -1.98334326]]\n",
      "\n",
      "[[ 1.00000000e+00 -2.54157984e-17  4.53368290e-17  4.17177389e-17\n",
      "   8.16736988e-17]\n",
      " [ 4.91835038e-17  1.00000000e+00  1.05562987e-16  1.25605733e-17\n",
      "   1.32508907e-16]\n",
      " [-5.61193328e-17 -1.36209671e-16  1.00000000e+00 -2.48169910e-19\n",
      "   7.93838562e-17]\n",
      " [-3.97742414e-17  4.73923175e-17  5.66884939e-17  1.00000000e+00\n",
      "  -4.64579695e-17]\n",
      " [-2.56965361e-18 -9.58825261e-18  3.18423949e-17 -2.88155584e-19\n",
      "   1.00000000e+00]]\n"
     ]
    }
   ],
   "source": [
    "arr = np.random.rand(5,5)\n",
    "arr_inverse = np.linalg.inv(arr)\n",
    "print(arr_inverse)\n",
    "arr_dot = np.dot(arr, arr_inverse)\n",
    "print('')\n",
    "print(arr_dot)"
   ]
  },
  {
   "cell_type": "code",
   "execution_count": 284,
   "id": "53bf182d",
   "metadata": {},
   "outputs": [
    {
     "data": {
      "text/plain": [
       "array([[15.86666667, 18.15      , 20.43333333, 22.71666667, 25.        ],\n",
       "       [ 6.2765873 ,  6.92222222,  7.56785714,  8.21349206,  8.85912698],\n",
       "       [ 3.97992008,  4.36918082,  4.75844156,  5.1477023 ,  5.53696304],\n",
       "       [ 2.91865755,  3.19816821,  3.47767888,  3.75718954,  4.03670021],\n",
       "       [ 2.30527386,  2.52349238,  2.7417109 ,  2.95992942,  3.17814794]])"
      ]
     },
     "execution_count": 284,
     "metadata": {},
     "output_type": "execute_result"
    }
   ],
   "source": [
    "arr = np.array([[1, 2, 3, 4, 5],\n",
    "                [6, 7, 8, 9, 10],\n",
    "                [11, 12, 13, 14, 15],\n",
    "                [16, 17, 18, 19, 20],\n",
    "                [21, 22, 23, 24, 25]])\n",
    "arr_lang = 1/arr\n",
    "arr_dot = np.dot(arr_lang,arr)\n",
    "arr_dot"
   ]
  },
  {
   "cell_type": "code",
   "execution_count": 285,
   "id": "42bf9dda",
   "metadata": {},
   "outputs": [],
   "source": [
    "arr = np.random.rand(5,5)\n",
    "arr_inv = np.linalg.inv(arr)\n",
    "dot_product = np.dot(arr, arr_inv)"
   ]
  },
  {
   "cell_type": "code",
   "execution_count": 286,
   "id": "4bca4ab6",
   "metadata": {},
   "outputs": [
    {
     "data": {
      "text/plain": [
       "array([[ 1.00000000e+00, -6.38114483e-17, -6.86580490e-17,\n",
       "        -7.14052384e-18, -1.68552941e-17],\n",
       "       [-2.86309420e-16,  1.00000000e+00,  2.38532584e-16,\n",
       "         2.93982960e-17, -8.41633059e-18],\n",
       "       [ 8.44852294e-17,  5.53306121e-18,  1.00000000e+00,\n",
       "         1.45887889e-17,  3.05087278e-18],\n",
       "       [ 1.33628698e-16, -8.90003676e-17, -7.80205939e-18,\n",
       "         1.00000000e+00, -4.36782171e-18],\n",
       "       [ 4.08001871e-18, -2.72313658e-17,  1.51766192e-16,\n",
       "         6.11623846e-17,  1.00000000e+00]])"
      ]
     },
     "execution_count": 286,
     "metadata": {},
     "output_type": "execute_result"
    }
   ],
   "source": [
    "dot_product"
   ]
  },
  {
   "cell_type": "code",
   "execution_count": 288,
   "id": "e6195166",
   "metadata": {},
   "outputs": [
    {
     "name": "stdout",
     "output_type": "stream",
     "text": [
      "[[-0.66666667 -1.33333333  1.        ]\n",
      " [-0.66666667  3.66666667 -2.        ]\n",
      " [ 1.         -2.          1.        ]]\n"
     ]
    }
   ],
   "source": [
    "arr = np.array([[1, 2, 3],\n",
    "                [4, 5, 6],\n",
    "                [7, 8, 10]])\n",
    "arr_inverse = np.linalg.inv(arr)\n",
    "print(arr_inverse)\n"
   ]
  },
  {
   "cell_type": "code",
   "execution_count": null,
   "id": "284de9c2",
   "metadata": {},
   "outputs": [],
   "source": []
  }
 ],
 "metadata": {
  "kernelspec": {
   "display_name": "Python 3 (ipykernel)",
   "language": "python",
   "name": "python3"
  },
  "language_info": {
   "codemirror_mode": {
    "name": "ipython",
    "version": 3
   },
   "file_extension": ".py",
   "mimetype": "text/x-python",
   "name": "python",
   "nbconvert_exporter": "python",
   "pygments_lexer": "ipython3",
   "version": "3.9.12"
  }
 },
 "nbformat": 4,
 "nbformat_minor": 5
}
