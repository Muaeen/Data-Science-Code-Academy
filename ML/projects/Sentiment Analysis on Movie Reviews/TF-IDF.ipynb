{
 "cells": [
  {
   "cell_type": "code",
   "execution_count": 108,
   "id": "421af4c5",
   "metadata": {},
   "outputs": [],
   "source": [
    "import pandas as pd "
   ]
  },
  {
   "cell_type": "code",
   "execution_count": 109,
   "id": "a28c6e7a",
   "metadata": {},
   "outputs": [
    {
     "data": {
      "text/html": [
       "<div>\n",
       "<style scoped>\n",
       "    .dataframe tbody tr th:only-of-type {\n",
       "        vertical-align: middle;\n",
       "    }\n",
       "\n",
       "    .dataframe tbody tr th {\n",
       "        vertical-align: top;\n",
       "    }\n",
       "\n",
       "    .dataframe thead th {\n",
       "        text-align: right;\n",
       "    }\n",
       "</style>\n",
       "<table border=\"1\" class=\"dataframe\">\n",
       "  <thead>\n",
       "    <tr style=\"text-align: right;\">\n",
       "      <th></th>\n",
       "      <th>PhraseId</th>\n",
       "      <th>Sentiment</th>\n",
       "    </tr>\n",
       "  </thead>\n",
       "  <tbody>\n",
       "    <tr>\n",
       "      <th>0</th>\n",
       "      <td>156061</td>\n",
       "      <td>2</td>\n",
       "    </tr>\n",
       "    <tr>\n",
       "      <th>1</th>\n",
       "      <td>156062</td>\n",
       "      <td>2</td>\n",
       "    </tr>\n",
       "    <tr>\n",
       "      <th>2</th>\n",
       "      <td>156063</td>\n",
       "      <td>2</td>\n",
       "    </tr>\n",
       "    <tr>\n",
       "      <th>3</th>\n",
       "      <td>156064</td>\n",
       "      <td>2</td>\n",
       "    </tr>\n",
       "    <tr>\n",
       "      <th>4</th>\n",
       "      <td>156065</td>\n",
       "      <td>2</td>\n",
       "    </tr>\n",
       "  </tbody>\n",
       "</table>\n",
       "</div>"
      ],
      "text/plain": [
       "   PhraseId  Sentiment\n",
       "0    156061          2\n",
       "1    156062          2\n",
       "2    156063          2\n",
       "3    156064          2\n",
       "4    156065          2"
      ]
     },
     "execution_count": 109,
     "metadata": {},
     "output_type": "execute_result"
    }
   ],
   "source": [
    "data = pd.read_csv(\"sampleSubmission.csv\")\n",
    "train = pd.read_csv('train.tsv',sep='\\t')\n",
    "test = pd.read_csv('test.tsv',sep='\\t')\n",
    "data.head()"
   ]
  },
  {
   "cell_type": "code",
   "execution_count": 110,
   "id": "35a32f4c",
   "metadata": {},
   "outputs": [
    {
     "data": {
      "text/html": [
       "<div>\n",
       "<style scoped>\n",
       "    .dataframe tbody tr th:only-of-type {\n",
       "        vertical-align: middle;\n",
       "    }\n",
       "\n",
       "    .dataframe tbody tr th {\n",
       "        vertical-align: top;\n",
       "    }\n",
       "\n",
       "    .dataframe thead th {\n",
       "        text-align: right;\n",
       "    }\n",
       "</style>\n",
       "<table border=\"1\" class=\"dataframe\">\n",
       "  <thead>\n",
       "    <tr style=\"text-align: right;\">\n",
       "      <th></th>\n",
       "      <th>PhraseId</th>\n",
       "      <th>SentenceId</th>\n",
       "      <th>Phrase</th>\n",
       "      <th>Sentiment</th>\n",
       "    </tr>\n",
       "  </thead>\n",
       "  <tbody>\n",
       "    <tr>\n",
       "      <th>0</th>\n",
       "      <td>1</td>\n",
       "      <td>1</td>\n",
       "      <td>A series of escapades demonstrating the adage ...</td>\n",
       "      <td>1</td>\n",
       "    </tr>\n",
       "    <tr>\n",
       "      <th>1</th>\n",
       "      <td>2</td>\n",
       "      <td>1</td>\n",
       "      <td>A series of escapades demonstrating the adage ...</td>\n",
       "      <td>2</td>\n",
       "    </tr>\n",
       "    <tr>\n",
       "      <th>2</th>\n",
       "      <td>3</td>\n",
       "      <td>1</td>\n",
       "      <td>A series</td>\n",
       "      <td>2</td>\n",
       "    </tr>\n",
       "    <tr>\n",
       "      <th>3</th>\n",
       "      <td>4</td>\n",
       "      <td>1</td>\n",
       "      <td>A</td>\n",
       "      <td>2</td>\n",
       "    </tr>\n",
       "    <tr>\n",
       "      <th>4</th>\n",
       "      <td>5</td>\n",
       "      <td>1</td>\n",
       "      <td>series</td>\n",
       "      <td>2</td>\n",
       "    </tr>\n",
       "  </tbody>\n",
       "</table>\n",
       "</div>"
      ],
      "text/plain": [
       "   PhraseId  SentenceId                                             Phrase  \\\n",
       "0         1           1  A series of escapades demonstrating the adage ...   \n",
       "1         2           1  A series of escapades demonstrating the adage ...   \n",
       "2         3           1                                           A series   \n",
       "3         4           1                                                  A   \n",
       "4         5           1                                             series   \n",
       "\n",
       "   Sentiment  \n",
       "0          1  \n",
       "1          2  \n",
       "2          2  \n",
       "3          2  \n",
       "4          2  "
      ]
     },
     "execution_count": 110,
     "metadata": {},
     "output_type": "execute_result"
    }
   ],
   "source": [
    "train.head()"
   ]
  },
  {
   "cell_type": "code",
   "execution_count": 111,
   "id": "a2322a10",
   "metadata": {},
   "outputs": [
    {
     "data": {
      "text/html": [
       "<div>\n",
       "<style scoped>\n",
       "    .dataframe tbody tr th:only-of-type {\n",
       "        vertical-align: middle;\n",
       "    }\n",
       "\n",
       "    .dataframe tbody tr th {\n",
       "        vertical-align: top;\n",
       "    }\n",
       "\n",
       "    .dataframe thead th {\n",
       "        text-align: right;\n",
       "    }\n",
       "</style>\n",
       "<table border=\"1\" class=\"dataframe\">\n",
       "  <thead>\n",
       "    <tr style=\"text-align: right;\">\n",
       "      <th></th>\n",
       "      <th>PhraseId</th>\n",
       "      <th>SentenceId</th>\n",
       "      <th>Phrase</th>\n",
       "    </tr>\n",
       "  </thead>\n",
       "  <tbody>\n",
       "    <tr>\n",
       "      <th>0</th>\n",
       "      <td>156061</td>\n",
       "      <td>8545</td>\n",
       "      <td>An intermittently pleasing but mostly routine ...</td>\n",
       "    </tr>\n",
       "    <tr>\n",
       "      <th>1</th>\n",
       "      <td>156062</td>\n",
       "      <td>8545</td>\n",
       "      <td>An intermittently pleasing but mostly routine ...</td>\n",
       "    </tr>\n",
       "    <tr>\n",
       "      <th>2</th>\n",
       "      <td>156063</td>\n",
       "      <td>8545</td>\n",
       "      <td>An</td>\n",
       "    </tr>\n",
       "    <tr>\n",
       "      <th>3</th>\n",
       "      <td>156064</td>\n",
       "      <td>8545</td>\n",
       "      <td>intermittently pleasing but mostly routine effort</td>\n",
       "    </tr>\n",
       "    <tr>\n",
       "      <th>4</th>\n",
       "      <td>156065</td>\n",
       "      <td>8545</td>\n",
       "      <td>intermittently pleasing but mostly routine</td>\n",
       "    </tr>\n",
       "  </tbody>\n",
       "</table>\n",
       "</div>"
      ],
      "text/plain": [
       "   PhraseId  SentenceId                                             Phrase\n",
       "0    156061        8545  An intermittently pleasing but mostly routine ...\n",
       "1    156062        8545  An intermittently pleasing but mostly routine ...\n",
       "2    156063        8545                                                 An\n",
       "3    156064        8545  intermittently pleasing but mostly routine effort\n",
       "4    156065        8545         intermittently pleasing but mostly routine"
      ]
     },
     "execution_count": 111,
     "metadata": {},
     "output_type": "execute_result"
    }
   ],
   "source": [
    "test.head()"
   ]
  },
  {
   "cell_type": "code",
   "execution_count": 112,
   "id": "c90c67f2",
   "metadata": {},
   "outputs": [
    {
     "data": {
      "text/plain": [
       "(PhraseId     0\n",
       " Sentiment    0\n",
       " dtype: int64,\n",
       " PhraseId      0\n",
       " SentenceId    0\n",
       " Phrase        0\n",
       " Sentiment     0\n",
       " dtype: int64,\n",
       " PhraseId      0\n",
       " SentenceId    0\n",
       " Phrase        0\n",
       " dtype: int64)"
      ]
     },
     "execution_count": 112,
     "metadata": {},
     "output_type": "execute_result"
    }
   ],
   "source": [
    "data.isnull().sum(),train.isnull().sum(),test.isnull().sum()"
   ]
  },
  {
   "cell_type": "code",
   "execution_count": 113,
   "id": "c6811b68",
   "metadata": {},
   "outputs": [
    {
     "data": {
      "text/plain": [
       "(Index(['PhraseId', 'Sentiment'], dtype='object'),\n",
       " Index(['PhraseId', 'SentenceId', 'Phrase', 'Sentiment'], dtype='object'),\n",
       " Index(['PhraseId', 'SentenceId', 'Phrase'], dtype='object'))"
      ]
     },
     "execution_count": 113,
     "metadata": {},
     "output_type": "execute_result"
    }
   ],
   "source": [
    "data.columns, train.columns, test.columns"
   ]
  },
  {
   "cell_type": "code",
   "execution_count": 114,
   "id": "737ab686",
   "metadata": {},
   "outputs": [
    {
     "name": "stdout",
     "output_type": "stream",
     "text": [
      "<class 'pandas.core.frame.DataFrame'>\n",
      "RangeIndex: 66292 entries, 0 to 66291\n",
      "Data columns (total 2 columns):\n",
      " #   Column     Non-Null Count  Dtype\n",
      "---  ------     --------------  -----\n",
      " 0   PhraseId   66292 non-null  int64\n",
      " 1   Sentiment  66292 non-null  int64\n",
      "dtypes: int64(2)\n",
      "memory usage: 1.0 MB\n",
      "<class 'pandas.core.frame.DataFrame'>\n",
      "RangeIndex: 156060 entries, 0 to 156059\n",
      "Data columns (total 4 columns):\n",
      " #   Column      Non-Null Count   Dtype \n",
      "---  ------      --------------   ----- \n",
      " 0   PhraseId    156060 non-null  int64 \n",
      " 1   SentenceId  156060 non-null  int64 \n",
      " 2   Phrase      156060 non-null  object\n",
      " 3   Sentiment   156060 non-null  int64 \n",
      "dtypes: int64(3), object(1)\n",
      "memory usage: 4.8+ MB\n",
      "<class 'pandas.core.frame.DataFrame'>\n",
      "RangeIndex: 66292 entries, 0 to 66291\n",
      "Data columns (total 3 columns):\n",
      " #   Column      Non-Null Count  Dtype \n",
      "---  ------      --------------  ----- \n",
      " 0   PhraseId    66292 non-null  int64 \n",
      " 1   SentenceId  66292 non-null  int64 \n",
      " 2   Phrase      66292 non-null  object\n",
      "dtypes: int64(2), object(1)\n",
      "memory usage: 1.5+ MB\n"
     ]
    },
    {
     "data": {
      "text/plain": [
       "(None, None, None)"
      ]
     },
     "execution_count": 114,
     "metadata": {},
     "output_type": "execute_result"
    }
   ],
   "source": [
    "data.info(), train.info(), test.info()"
   ]
  },
  {
   "cell_type": "code",
   "execution_count": 115,
   "id": "37683884",
   "metadata": {},
   "outputs": [
    {
     "data": {
      "text/plain": [
       "((66292, 2), (156060, 4), (66292, 3))"
      ]
     },
     "execution_count": 115,
     "metadata": {},
     "output_type": "execute_result"
    }
   ],
   "source": [
    "data.shape, train.shape ,test.shape"
   ]
  },
  {
   "cell_type": "code",
   "execution_count": 116,
   "id": "b9f32f35",
   "metadata": {},
   "outputs": [
    {
     "data": {
      "text/plain": [
       "0    0.045316\n",
       "1    0.174760\n",
       "2    0.509945\n",
       "3    0.210989\n",
       "4    0.058990\n",
       "Name: Sentiment, dtype: float64"
      ]
     },
     "execution_count": 116,
     "metadata": {},
     "output_type": "execute_result"
    }
   ],
   "source": [
    "train['Sentiment'].value_counts(normalize=True).sort_index()"
   ]
  },
  {
   "cell_type": "code",
   "execution_count": 117,
   "id": "ee75f4f0",
   "metadata": {},
   "outputs": [
    {
     "data": {
      "text/plain": [
       "0    0.045316\n",
       "4    0.058990\n",
       "1    0.174760\n",
       "3    0.210989\n",
       "2    0.509945\n",
       "Name: Sentiment, dtype: float64"
      ]
     },
     "execution_count": 117,
     "metadata": {},
     "output_type": "execute_result"
    }
   ],
   "source": [
    "train['Sentiment'].value_counts(normalize=True).sort_values()"
   ]
  },
  {
   "cell_type": "code",
   "execution_count": 118,
   "id": "2cbb124c",
   "metadata": {},
   "outputs": [
    {
     "data": {
      "image/png": "[encoded data removed]",
      "text/plain": [
       "<Figure size 720x432 with 1 Axes>"
      ]
     },
     "metadata": {
      "needs_background": "light"
     },
     "output_type": "display_data"
    }
   ],
   "source": [
    "import matplotlib.pyplot as plt \n",
    "\n",
    "plt.figure(figsize=(10,6))\n",
    "train['Sentiment'].value_counts().sort_index().plot(kind='bar',color='hotpink');"
   ]
  },
  {
   "cell_type": "code",
   "execution_count": 119,
   "id": "b5df2694",
   "metadata": {},
   "outputs": [],
   "source": [
    "train_copy = train.copy(deep=True)\n"
   ]
  },
  {
   "cell_type": "code",
   "execution_count": 120,
   "id": "4f6ca87d",
   "metadata": {},
   "outputs": [
    {
     "data": {
      "text/html": [
       "<div>\n",
       "<style scoped>\n",
       "    .dataframe tbody tr th:only-of-type {\n",
       "        vertical-align: middle;\n",
       "    }\n",
       "\n",
       "    .dataframe tbody tr th {\n",
       "        vertical-align: top;\n",
       "    }\n",
       "\n",
       "    .dataframe thead th {\n",
       "        text-align: right;\n",
       "    }\n",
       "</style>\n",
       "<table border=\"1\" class=\"dataframe\">\n",
       "  <thead>\n",
       "    <tr style=\"text-align: right;\">\n",
       "      <th></th>\n",
       "      <th>Sentiment</th>\n",
       "    </tr>\n",
       "  </thead>\n",
       "  <tbody>\n",
       "    <tr>\n",
       "      <th>Neutral</th>\n",
       "      <td>79582</td>\n",
       "    </tr>\n",
       "    <tr>\n",
       "      <th>Little positive</th>\n",
       "      <td>32927</td>\n",
       "    </tr>\n",
       "    <tr>\n",
       "      <th>Little negative</th>\n",
       "      <td>27273</td>\n",
       "    </tr>\n",
       "    <tr>\n",
       "      <th>Psitive</th>\n",
       "      <td>9206</td>\n",
       "    </tr>\n",
       "    <tr>\n",
       "      <th>Negative</th>\n",
       "      <td>7072</td>\n",
       "    </tr>\n",
       "  </tbody>\n",
       "</table>\n",
       "</div>"
      ],
      "text/plain": [
       "                 Sentiment\n",
       "Neutral              79582\n",
       "Little positive      32927\n",
       "Little negative      27273\n",
       "Psitive               9206\n",
       "Negative              7072"
      ]
     },
     "execution_count": 120,
     "metadata": {},
     "output_type": "execute_result"
    }
   ],
   "source": [
    "pie1 = pd.DataFrame(train_copy['Sentiment'].replace(0,'Negative').replace(1,'Little negative').replace(2,'Neutral').replace(3,'Little positive').replace(4,'Psitive').value_counts())\n",
    "pie1\n"
   ]
  },
  {
   "cell_type": "code",
   "execution_count": 121,
   "id": "5c2bbee9",
   "metadata": {},
   "outputs": [
    {
     "data": {
      "text/html": [
       "<div>\n",
       "<style scoped>\n",
       "    .dataframe tbody tr th:only-of-type {\n",
       "        vertical-align: middle;\n",
       "    }\n",
       "\n",
       "    .dataframe tbody tr th {\n",
       "        vertical-align: top;\n",
       "    }\n",
       "\n",
       "    .dataframe thead th {\n",
       "        text-align: right;\n",
       "    }\n",
       "</style>\n",
       "<table border=\"1\" class=\"dataframe\">\n",
       "  <thead>\n",
       "    <tr style=\"text-align: right;\">\n",
       "      <th></th>\n",
       "      <th>index</th>\n",
       "      <th>Sentiment</th>\n",
       "    </tr>\n",
       "  </thead>\n",
       "  <tbody>\n",
       "    <tr>\n",
       "      <th>0</th>\n",
       "      <td>Neutral</td>\n",
       "      <td>79582</td>\n",
       "    </tr>\n",
       "    <tr>\n",
       "      <th>1</th>\n",
       "      <td>Little positive</td>\n",
       "      <td>32927</td>\n",
       "    </tr>\n",
       "    <tr>\n",
       "      <th>2</th>\n",
       "      <td>Little negative</td>\n",
       "      <td>27273</td>\n",
       "    </tr>\n",
       "    <tr>\n",
       "      <th>3</th>\n",
       "      <td>Psitive</td>\n",
       "      <td>9206</td>\n",
       "    </tr>\n",
       "    <tr>\n",
       "      <th>4</th>\n",
       "      <td>Negative</td>\n",
       "      <td>7072</td>\n",
       "    </tr>\n",
       "  </tbody>\n",
       "</table>\n",
       "</div>"
      ],
      "text/plain": [
       "             index  Sentiment\n",
       "0          Neutral      79582\n",
       "1  Little positive      32927\n",
       "2  Little negative      27273\n",
       "3          Psitive       9206\n",
       "4         Negative       7072"
      ]
     },
     "execution_count": 121,
     "metadata": {},
     "output_type": "execute_result"
    }
   ],
   "source": [
    "pie1.reset_index(inplace=True)\n",
    "pie1"
   ]
  },
  {
   "cell_type": "code",
   "execution_count": 122,
   "id": "43943737",
   "metadata": {},
   "outputs": [
    {
     "data": {
      "image/png": "[encoded data removed]",
      "text/plain": [
       "<Figure size 720x720 with 1 Axes>"
      ]
     },
     "metadata": {},
     "output_type": "display_data"
    }
   ],
   "source": [
    "pie1.plot(kind='pie',y='Sentiment',figsize=(10,10),autopct='%1.1f%%',legend=False,\n",
    "         labels=pie1['index'],fontsize=14,title='Pie chart of Sentiment Class');"
   ]
  },
  {
   "cell_type": "code",
   "execution_count": 123,
   "id": "3bbbaa01",
   "metadata": {},
   "outputs": [
    {
     "data": {
      "text/plain": [
       "80641                              with some hippie getting\n",
       "61107                                       a decent budget\n",
       "76193                                             responses\n",
       "23927     artificial , ill-constructed and fatally overlong\n",
       "130727            If it 's unnerving suspense you 're after\n",
       "33075     If you 're not fans of the adventues of Steve ...\n",
       "10130                                             cathartic\n",
       "101368                                           Wilson and\n",
       "68138                                           past decade\n",
       "57839                                     my crappola radar\n",
       "Name: Phrase, dtype: object"
      ]
     },
     "execution_count": 123,
     "metadata": {},
     "output_type": "execute_result"
    }
   ],
   "source": [
    "train['Phrase'].sample(10)"
   ]
  },
  {
   "cell_type": "code",
   "execution_count": 124,
   "id": "cbf592d2",
   "metadata": {},
   "outputs": [
    {
     "data": {
      "text/plain": [
       "array(['would have a hard time sitting through this one',\n",
       "       'have a hard time sitting through this one',\n",
       "       'Aggressive self-glorification and a manipulative whitewash',\n",
       "       'self-glorification and a manipulative whitewash',\n",
       "       'Trouble Every Day is a plodding mess .', 'is a plodding mess',\n",
       "       'plodding mess', 'could hate it for the same reason', 'hate it',\n",
       "       'hate'], dtype=object)"
      ]
     },
     "execution_count": 124,
     "metadata": {},
     "output_type": "execute_result"
    }
   ],
   "source": [
    "train[train['Sentiment'] == 0].Phrase.values[:10]"
   ]
  },
  {
   "cell_type": "code",
   "execution_count": 125,
   "id": "fe21e26b",
   "metadata": {},
   "outputs": [
    {
     "data": {
      "text/plain": [
       "array(['A series of escapades demonstrating the adage that what is good for the goose is also good for the gander , some of which occasionally amuses but none of which amounts to much of a story .',\n",
       "       'the gander , some of which occasionally amuses but none of which amounts to much of a story',\n",
       "       'but none of which amounts to much of a story',\n",
       "       'none of which amounts to much of a story',\n",
       "       \"Even fans of Ismail Merchant 's work , I suspect , would have a hard time sitting through this one .\",\n",
       "       ', I suspect , would have a hard time sitting through this one .',\n",
       "       'would have a hard time sitting through this one .',\n",
       "       'a hard time sitting through this one', 'a hard time', 'hard time'],\n",
       "      dtype=object)"
      ]
     },
     "execution_count": 125,
     "metadata": {},
     "output_type": "execute_result"
    }
   ],
   "source": [
    "train[train['Sentiment'] == 1].Phrase.values[:10]"
   ]
  },
  {
   "cell_type": "code",
   "execution_count": 126,
   "id": "2075b610",
   "metadata": {},
   "outputs": [
    {
     "data": {
      "text/plain": [
       "array(['A series of escapades demonstrating the adage that what is good for the goose',\n",
       "       'A series', 'A', 'series',\n",
       "       'of escapades demonstrating the adage that what is good for the goose',\n",
       "       'of',\n",
       "       'escapades demonstrating the adage that what is good for the goose',\n",
       "       'escapades',\n",
       "       'demonstrating the adage that what is good for the goose',\n",
       "       'demonstrating the adage'], dtype=object)"
      ]
     },
     "execution_count": 126,
     "metadata": {},
     "output_type": "execute_result"
    }
   ],
   "source": [
    "train[train['Sentiment'] == 2].Phrase.values[:10]"
   ]
  },
  {
   "cell_type": "code",
   "execution_count": 127,
   "id": "540bce90",
   "metadata": {},
   "outputs": [
    {
     "data": {
      "text/plain": [
       "array(['good for the goose', 'good', 'amuses',\n",
       "       'This quiet , introspective and entertaining independent',\n",
       "       'quiet , introspective and entertaining',\n",
       "       ', introspective and entertaining',\n",
       "       'introspective and entertaining', 'introspective and',\n",
       "       'is worth seeking .', 'fans'], dtype=object)"
      ]
     },
     "execution_count": 127,
     "metadata": {},
     "output_type": "execute_result"
    }
   ],
   "source": [
    "train[train['Sentiment'] == 3].Phrase.values[:10]"
   ]
  },
  {
   "cell_type": "code",
   "execution_count": 128,
   "id": "b9ab750e",
   "metadata": {},
   "outputs": [
    {
     "data": {
      "text/plain": [
       "array(['This quiet , introspective and entertaining independent is worth seeking .',\n",
       "       'quiet , introspective and entertaining independent',\n",
       "       'entertaining', 'is worth seeking',\n",
       "       'A positively thrilling combination of ethnography and all the intrigue , betrayal , deceit and murder of a Shakespearean tragedy or a juicy soap opera',\n",
       "       'A positively thrilling combination of ethnography and all the intrigue , betrayal , deceit and murder',\n",
       "       'thrilling',\n",
       "       'A comedy-drama of nearly epic proportions rooted in a sincere performance by the title character undergoing midlife crisis .',\n",
       "       'nearly epic',\n",
       "       'rooted in a sincere performance by the title character undergoing midlife crisis .'],\n",
       "      dtype=object)"
      ]
     },
     "execution_count": 128,
     "metadata": {},
     "output_type": "execute_result"
    }
   ],
   "source": [
    "train[train['Sentiment'] == 4].Phrase.values[:10]"
   ]
  },
  {
   "cell_type": "code",
   "execution_count": 129,
   "id": "0ab25395",
   "metadata": {},
   "outputs": [
    {
     "data": {
      "text/plain": [
       "((156060, 4), (66292, 3))"
      ]
     },
     "execution_count": 129,
     "metadata": {},
     "output_type": "execute_result"
    }
   ],
   "source": [
    "train.shape, test.shape"
   ]
  },
  {
   "cell_type": "code",
   "execution_count": null,
   "id": "39dcf82e",
   "metadata": {},
   "outputs": [],
   "source": []
  },
  {
   "cell_type": "code",
   "execution_count": null,
   "id": "623a1f51",
   "metadata": {},
   "outputs": [],
   "source": []
  }
 ],
 "metadata": {
  "kernelspec": {
   "display_name": "Python 3 (ipykernel)",
   "language": "python",
   "name": "python3"
  },
  "language_info": {
   "codemirror_mode": {
    "name": "ipython",
    "version": 3
   },
   "file_extension": ".py",
   "mimetype": "text/x-python",
   "name": "python",
   "nbconvert_exporter": "python",
   "pygments_lexer": "ipython3",
   "version": "3.9.12"
  }
 },
 "nbformat": 4,
 "nbformat_minor": 5
}
