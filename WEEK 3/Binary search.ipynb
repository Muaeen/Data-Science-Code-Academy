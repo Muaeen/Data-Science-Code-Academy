{
 "cells": [
  {
   "cell_type": "code",
   "execution_count": 1,
   "id": "45060d8f",
   "metadata": {},
   "outputs": [
    {
     "name": "stdout",
     "output_type": "stream",
     "text": [
      "4\n"
     ]
    }
   ],
   "source": [
    "def binary_search(my_list, ky):\n",
    "    my_list.sort()\n",
    "    L = 0\n",
    "    H = len(a) - 1\n",
    "    while L <= H:\n",
    "        mid = (L + H) // 2\n",
    "        if my_list[mid] == ky:\n",
    "            return mid\n",
    "        elif my_list[mid] < ky:\n",
    "            L = mid + 1\n",
    "        else:\n",
    "            H = mid - 1\n",
    "    return None\n",
    "\n",
    "a = [5,20,23,67,15,1,33,50]\n",
    "ky = 23\n",
    "print(binary_search(a, ky)) \n"
   ]
  },
  {
   "cell_type": "code",
   "execution_count": null,
   "id": "e17a8c80",
   "metadata": {},
   "outputs": [],
   "source": []
  }
 ],
 "metadata": {
  "kernelspec": {
   "display_name": "Python 3 (ipykernel)",
   "language": "python",
   "name": "python3"
  },
  "language_info": {
   "codemirror_mode": {
    "name": "ipython",
    "version": 3
   },
   "file_extension": ".py",
   "mimetype": "text/x-python",
   "name": "python",
   "nbconvert_exporter": "python",
   "pygments_lexer": "ipython3",
   "version": "3.9.12"
  }
 },
 "nbformat": 4,
 "nbformat_minor": 5
}
