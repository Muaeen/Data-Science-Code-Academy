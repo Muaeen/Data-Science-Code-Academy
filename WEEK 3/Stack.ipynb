{
 "cells": [
  {
   "cell_type": "code",
   "execution_count": 2,
   "id": "d8a9f9fd",
   "metadata": {},
   "outputs": [],
   "source": [
    "class Stack:\n",
    "    def __init__(self,stack):\n",
    "        self.__stack = stack\n",
    "    \n",
    "    def __str__(self):\n",
    "        return f'{self.__stack}'\n",
    "        \n",
    "    def reverse(self):\n",
    "        self.__stack = self.__stack[::-1]\n",
    "\n",
    "    def is_empty(self):\n",
    "        return len(self.__stack) == 0\n",
    "\n",
    "    def push(self, item):\n",
    "        self.__stack.append(item)\n",
    "\n",
    "    def pop(self):\n",
    "        if not self.is_empty():\n",
    "            return self.__stack.pop()\n",
    "        else:\n",
    "            raise IndexError(\"Stack is empty\")\n",
    "\n",
    "    def peek(self):\n",
    "        if not self.is_empty():\n",
    "            return self.__stack[-1]\n",
    "        else:\n",
    "            raise IndexError(\"Stack is empty\")\n",
    "\n",
    "    def size(self):\n",
    "        return len(self.__stack)\n"
   ]
  },
  {
   "cell_type": "code",
   "execution_count": 8,
   "id": "091a6d83",
   "metadata": {},
   "outputs": [
    {
     "name": "stdout",
     "output_type": "stream",
     "text": [
      "['j', 'h', 't', 'u', 'r']\n",
      "j\n",
      "j\n",
      "h\n",
      "t\n",
      "2\n",
      "False\n"
     ]
    }
   ],
   "source": [
    "x = ['j','h','t','u']\n",
    "stack = Stack(x)\n",
    "\n",
    "stack.push('r')\n",
    "print(stack)\n",
    "stack.reverse()\n",
    "\n",
    "print(stack.peek())  \n",
    "\n",
    "print(stack.pop())   \n",
    "print(stack.pop())\n",
    "print(stack.pop()) \n",
    "\n",
    "print(stack.size())  \n",
    "\n",
    "print(stack.is_empty())  \n"
   ]
  },
  {
   "cell_type": "code",
   "execution_count": null,
   "id": "eb044f7d",
   "metadata": {},
   "outputs": [],
   "source": []
  }
 ],
 "metadata": {
  "kernelspec": {
   "display_name": "Python 3 (ipykernel)",
   "language": "python",
   "name": "python3"
  },
  "language_info": {
   "codemirror_mode": {
    "name": "ipython",
    "version": 3
   },
   "file_extension": ".py",
   "mimetype": "text/x-python",
   "name": "python",
   "nbconvert_exporter": "python",
   "pygments_lexer": "ipython3",
   "version": "3.9.12"
  }
 },
 "nbformat": 4,
 "nbformat_minor": 5
}
