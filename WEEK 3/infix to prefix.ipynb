{
 "cells": [
  {
   "cell_type": "code",
   "execution_count": 1,
   "id": "542aadcf",
   "metadata": {},
   "outputs": [
    {
     "name": "stdout",
     "output_type": "stream",
     "text": [
      "+a-bc\n"
     ]
    }
   ],
   "source": [
    "def infix_to_prefix(infix):\n",
    "    def precedence(op):\n",
    "        if op == '+' or op == '-':\n",
    "            return 1\n",
    "        if op == '*' or op == '/':\n",
    "            return 2\n",
    "        return 0\n",
    "\n",
    "    # Step 1: Reverse the infix expression\n",
    "    infix = infix[::-1]\n",
    "\n",
    "    # Swap opening and closing parenthesis\n",
    "    infix = [')' if c == '(' else '(' if c == ')' else c for c in infix]\n",
    "\n",
    "    stack = []\n",
    "    output = ''\n",
    "\n",
    "    for character in infix:\n",
    "        if character.isalpha():\n",
    "            output += character\n",
    "        elif character == ')':\n",
    "            stack.append(character)\n",
    "        elif character == '(':\n",
    "            while stack and stack[-1] != ')':\n",
    "                output += stack.pop()\n",
    "            stack.pop()  # Discard the closing parenthesis\n",
    "        else:\n",
    "            while (stack and stack[-1] != ')' and\n",
    "                   precedence(character) <= precedence(stack[-1])):\n",
    "                output += stack.pop()\n",
    "            stack.append(character)\n",
    "\n",
    "    while stack:\n",
    "        output += stack.pop()\n",
    "\n",
    "    # Step 6: Reverse the final output\n",
    "    return output[::-1]\n",
    "\n",
    "\n",
    "infix = \"a+b-c\"\n",
    "print(infix_to_prefix(infix))\n"
   ]
  },
  {
   "cell_type": "code",
   "execution_count": null,
   "id": "42a89a29",
   "metadata": {},
   "outputs": [],
   "source": []
  }
 ],
 "metadata": {
  "kernelspec": {
   "display_name": "Python 3 (ipykernel)",
   "language": "python",
   "name": "python3"
  },
  "language_info": {
   "codemirror_mode": {
    "name": "ipython",
    "version": 3
   },
   "file_extension": ".py",
   "mimetype": "text/x-python",
   "name": "python",
   "nbconvert_exporter": "python",
   "pygments_lexer": "ipython3",
   "version": "3.9.12"
  }
 },
 "nbformat": 4,
 "nbformat_minor": 5
}
