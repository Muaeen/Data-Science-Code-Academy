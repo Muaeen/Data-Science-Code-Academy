{
 "cells": [
  {
   "cell_type": "code",
   "execution_count": 1,
   "id": "ee74a791",
   "metadata": {},
   "outputs": [
    {
     "name": "stdout",
     "output_type": "stream",
     "text": [
      "['In', 'Out', '_', '__', '___', '__builtin__', '__builtins__', '__doc__', '__loader__', '__name__', '__package__', '__spec__', '_dh', '_i', '_i1', '_ih', '_ii', '_iii', '_oh', 'exit', 'get_ipython', 'quit']\n"
     ]
    }
   ],
   "source": [
    "print(dir())"
   ]
  },
  {
   "cell_type": "code",
   "execution_count": 2,
   "id": "63eaf007",
   "metadata": {},
   "outputs": [
    {
     "name": "stdout",
     "output_type": "stream",
     "text": [
      "this person name is Moh and he is 22\n",
      "<class '__main__.Person'>\n",
      "this person name is Moh and he is 22\n",
      "2\n",
      "this person name is Ali and he is 27\n"
     ]
    }
   ],
   "source": [
    "class Person :\n",
    "    no_of_person = 0 \n",
    "    def __init__(self,name,age):\n",
    "        self.name = name\n",
    "        self.__age = age\n",
    "        Person.no_of_person += 1\n",
    "        \n",
    "    def __str__(self) :\n",
    "        return f'this person name is {self.name} and he is {self.__age}'\n",
    "    def set_age(self,new_age) :\n",
    "        self.__age = new_age\n",
    "p1 = Person('Moh',22)\n",
    "p2 = Person('Ali',32)\n",
    "print(p1)\n",
    "print(type(p1))\n",
    "print(p1.__str__())\n",
    "print(Person.no_of_person)\n",
    "p2.set_age(27)\n",
    "print(p2.__str__())"
   ]
  },
  {
   "cell_type": "code",
   "execution_count": 3,
   "id": "0401ea07",
   "metadata": {},
   "outputs": [
    {
     "name": "stdout",
     "output_type": "stream",
     "text": [
      "the name of empolyee is Mohammed, ID: 12K873m, salary 5000 and he is IT \n",
      " the name of empolyee is Ali, ID: H335M23, salary 8000 and he is ACCOUNTING\n"
     ]
    },
    {
     "data": {
      "text/plain": [
       "6000.0"
      ]
     },
     "execution_count": 3,
     "metadata": {},
     "output_type": "execute_result"
    }
   ],
   "source": [
    "class Employee :\n",
    "    def __init__(self,name,ID,salary,emp):\n",
    "        self.__name = name\n",
    "        self.__ID = ID\n",
    "        self.__salary = salary\n",
    "        self.__emp = emp\n",
    "    def salary(self,hour:float,salary):\n",
    "        if hour > 50 :\n",
    "            OverTime = hour - 50\n",
    "            NewSalary = OverTime * (salary / 50)\n",
    "            return  NewSalary + salary\n",
    "        else:\n",
    "            return salarya\n",
    "    def __str__(self):\n",
    "        return f'the name of empolyee is {self.__name}, ID: {self.__ID}, salary {self.__salary} and he is {self.__emp}'\n",
    "    def set_name(self,new_name):\n",
    "        self.__name = new_name\n",
    "    def set_ID(self,new_ID):\n",
    "        self.__ID = new_ID\n",
    "    def set_salary(self,new_salary):\n",
    "        self.__salary = new_salary\n",
    "    def set_emp(self,new_emp):\n",
    "        self.__emp = new_emp    \n",
    "em1 = Employee('Mohammed','12K873m',5000,'IT')\n",
    "em2 = Employee('Ali','H335M23',8000,'ACCOUNTING')\n",
    "print(em1,'\\n',em2)\n",
    "(em1.salary(60,5000))\n"
   ]
  },
  {
   "cell_type": "code",
   "execution_count": 4,
   "id": "35f2bfd1",
   "metadata": {},
   "outputs": [
    {
     "name": "stdout",
     "output_type": "stream",
     "text": [
      "the name of employee is Mohammed, ID: 12K873m, salary 5000 and he is IT \n",
      " the name of employee is Ali, ID: H335M23, salary 8000 and he is ACCOUNTING\n",
      "6000.0\n"
     ]
    }
   ],
   "source": [
    "class Employee :\n",
    "    WORK_WEEK = 50\n",
    "\n",
    "    def __init__(self, name, ID, salary, emp):\n",
    "        self.__name = name\n",
    "        self.__ID = ID\n",
    "        self.__salary = salary\n",
    "        self.__emp = emp\n",
    "\n",
    "    def compute_salary(self, hours_worked):\n",
    "        if hours_worked > self.WORK_WEEK:\n",
    "            overtime_hours = hours_worked - self.WORK_WEEK\n",
    "            overtime_pay = overtime_hours * (self.__salary / self.WORK_WEEK)\n",
    "            return self.__salary + overtime_pay\n",
    "        else:\n",
    "            return self.__salary\n",
    "\n",
    "    def __str__(self):\n",
    "        return f'the name of employee is {self.__name}, ID: {self.__ID}, salary {self.__salary} and he is {self.__emp}'\n",
    "\n",
    "\n",
    "em1 = Employee('Mohammed', '12K873m', 5000, 'IT')\n",
    "em2 = Employee('Ali', 'H335M23', 8000, 'ACCOUNTING')\n",
    "\n",
    "print(em1, '\\n', em2)\n",
    "print(em1.compute_salary(60))\n"
   ]
  },
  {
   "cell_type": "code",
   "execution_count": 5,
   "id": "e54710ea",
   "metadata": {},
   "outputs": [
    {
     "name": "stdout",
     "output_type": "stream",
     "text": [
      "the name of employee is Mohammed, ID: 12K873m, salary 5000 and he is IT \n",
      " the name of employee is Ali, ID: H335M23, salary 8000 and he is ACCOUNTING\n",
      "Total payroll: 17875.0\n"
     ]
    }
   ],
   "source": [
    "class Employee:\n",
    "    employees = []\n",
    "\n",
    "    def __init__(self, name, ID, salary, emp):\n",
    "        self.__name = name\n",
    "        self.__ID = ID\n",
    "        self.__salary = salary\n",
    "        self.__emp = emp\n",
    "        Employee.employees.append(self)\n",
    "\n",
    "    def salary(self, hours_worked):\n",
    "        if hours_worked > 50:\n",
    "            overtime_hours = hours_worked - 50\n",
    "            overtime_pay = overtime_hours * (self.__salary / 40) * 1.5  # 1.5 times the normal rate for overtime\n",
    "            return (self.__salary + overtime_pay)\n",
    "        elif hours_worked >= 0:\n",
    "            return self.__salary\n",
    "        else:\n",
    "            raise ValueError(\"Hours worked cannot be negative\")\n",
    "\n",
    "    def __str__(self):\n",
    "        return f'the name of employee is {self.__name}, ID: {self.__ID}, salary {self.__salary} and he is {self.__emp}'\n",
    "\n",
    "    @classmethod\n",
    "    def total_payroll(cls, hours):\n",
    "        total = 0\n",
    "        for employee in cls.employees:\n",
    "            total += employee.salary(hours)\n",
    "        return total\n",
    "\n",
    "em1 = Employee('Mohammed', '12K873m', 5000, 'IT')\n",
    "em2 = Employee('Ali', 'H335M23', 8000, 'ACCOUNTING')\n",
    "\n",
    "print(em1, '\\n', em2)\n",
    "print(\"Total payroll:\", Employee.total_payroll(60))\n"
   ]
  },
  {
   "cell_type": "code",
   "execution_count": 6,
   "id": "c44eddba",
   "metadata": {},
   "outputs": [
    {
     "name": "stdout",
     "output_type": "stream",
     "text": [
      "Water\n",
      "Orange\n",
      "barger\n",
      "Omani bread\n",
      "rice\n",
      "apple\n"
     ]
    }
   ],
   "source": [
    "class Restaurant:\n",
    "    reservations = 0\n",
    "    def __init__(self,menu_items:list,book_table,customer_order:list):\n",
    "        self.__menu_items = menu_items\n",
    "        self.__book_table = book_table\n",
    "        self.__customer_order = customer_order\n",
    "        Restaurant.reservations =+1\n",
    "    def add_item_2_menu(self,item:str):\n",
    "        self.__menu_items.append(item)\n",
    "    def add_item_2_menu(self,item:list):\n",
    "        for i in item:\n",
    "            self.__menu_items.append(i)\n",
    "    def P_menu(self):\n",
    "        for i in self.__menu_items:\n",
    "            print(i)\n",
    "    def P_order(self):\n",
    "        for i in self.__customer_order:\n",
    "            print(i)\n",
    "        \n",
    "        \n",
    "r = Restaurant(['Water','Orange','barger','Omani bread'],5,['barger','Omani bread'])        \n",
    "r.add_item_2_menu(['rice','apple'])\n",
    "r.P_menu()\n",
    "#print(Restaurant.reservations)"
   ]
  },
  {
   "cell_type": "code",
   "execution_count": null,
   "id": "7dec67c8",
   "metadata": {},
   "outputs": [],
   "source": []
  }
 ],
 "metadata": {
  "kernelspec": {
   "display_name": "Python 3 (ipykernel)",
   "language": "python",
   "name": "python3"
  },
  "language_info": {
   "codemirror_mode": {
    "name": "ipython",
    "version": 3
   },
   "file_extension": ".py",
   "mimetype": "text/x-python",
   "name": "python",
   "nbconvert_exporter": "python",
   "pygments_lexer": "ipython3",
   "version": "3.9.12"
  }
 },
 "nbformat": 4,
 "nbformat_minor": 5
}
