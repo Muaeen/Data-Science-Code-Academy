{
 "cells": [
  {
   "cell_type": "code",
   "execution_count": 1,
   "id": "0bd9cd28",
   "metadata": {},
   "outputs": [
    {
     "name": "stdout",
     "output_type": "stream",
     "text": [
      "account : 11230565, name : Muaeen Gharib        balance : 200, date : 7-5-2023\n",
      "account : 11230565, name : Muaeen Gharib        balance : 1000, date : 7-5-2023\n"
     ]
    }
   ],
   "source": [
    "class BankAccount:\n",
    "    def __init__(self,account_number,custmer_name,balance:float,date_of_opening):\n",
    "        self.__account_number = account_number\n",
    "        self.__custmer_name = custmer_name\n",
    "        self.__balance = balance\n",
    "        self.__date_of_opening = date_of_opening\n",
    "        \n",
    "        \n",
    "        \n",
    "    def check_balance(self):\n",
    "        return self.__balance\n",
    "    \n",
    "    \n",
    "    def __str__(self):\n",
    "        return f'account : {self.__account_number}, name : {self.__custmer_name}\\\n",
    "        balance : {self.__balance}, date : {self.__date_of_opening}'\n",
    "        \n",
    "        \n",
    "    def deposit(self,d_balance): #ايداع\n",
    "        self.__balance=self.__balance+d_balance\n",
    "        \n",
    "    \n",
    "    \n",
    "    def withdrow(self,d_balance:float):\n",
    "        self.__balance= self.__balance - d_balance\n",
    "    \n",
    "    \n",
    "Muaeen = BankAccount('11230565','Muaeen Gharib',200,'7-5-2023')\n",
    "print(Muaeen)\n",
    "Muaeen.deposit(1200)\n",
    "Muaeen.check_balance()\n",
    "Muaeen.withdrow(400)\n",
    "Muaeen.check_balance()\n",
    "print(Muaeen)"
   ]
  },
  {
   "cell_type": "code",
   "execution_count": null,
   "id": "b821747f",
   "metadata": {},
   "outputs": [],
   "source": []
  }
 ],
 "metadata": {
  "kernelspec": {
   "display_name": "Python 3 (ipykernel)",
   "language": "python",
   "name": "python3"
  },
  "language_info": {
   "codemirror_mode": {
    "name": "ipython",
    "version": 3
   },
   "file_extension": ".py",
   "mimetype": "text/x-python",
   "name": "python",
   "nbconvert_exporter": "python",
   "pygments_lexer": "ipython3",
   "version": "3.9.12"
  }
 },
 "nbformat": 4,
 "nbformat_minor": 5
}
