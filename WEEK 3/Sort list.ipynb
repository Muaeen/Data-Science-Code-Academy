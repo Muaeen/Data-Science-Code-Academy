{
 "cells": [
  {
   "cell_type": "code",
   "execution_count": 1,
   "id": "3dee9c86",
   "metadata": {},
   "outputs": [
    {
     "name": "stdout",
     "output_type": "stream",
     "text": [
      "['Said', 'Majid', 'Salim', 'Ali', 'Sultan']\n"
     ]
    }
   ],
   "source": [
    "lst = ['Said,25','Majid,19','Salim,32','Ali,21','Sultan,28']\n",
    "\n",
    "numbers = [str(x.split(',')[0]) for x in lst]\n",
    "\n",
    "print(numbers)  \n"
   ]
  },
  {
   "cell_type": "code",
   "execution_count": 2,
   "id": "2a17e677",
   "metadata": {},
   "outputs": [
    {
     "name": "stdout",
     "output_type": "stream",
     "text": [
      "['Majid', 'Ali', 'Said', 'Sultan', 'Salim']\n"
     ]
    }
   ],
   "source": [
    "def sort_list(array):\n",
    "    for step in range(len(array)):\n",
    "        min_idx = step\n",
    "        for j in range(step+1, len(array)):\n",
    "            if int(array[j].split(',')[1]) < int(array[min_idx].split(',')[1]):\n",
    "                min_idx = j\n",
    "        array[step], array[min_idx] = array[min_idx], array[step]\n",
    "    return [step.split(',')[0] for step in array]\n",
    "\n",
    "lst = ['Said,25','Majid,19','Salim,32','Ali,21','Sultan,28']\n",
    "print(sort_list(lst)) \n"
   ]
  },
  {
   "cell_type": "code",
   "execution_count": null,
   "id": "0c8c15b4",
   "metadata": {},
   "outputs": [],
   "source": []
  }
 ],
 "metadata": {
  "kernelspec": {
   "display_name": "Python 3 (ipykernel)",
   "language": "python",
   "name": "python3"
  },
  "language_info": {
   "codemirror_mode": {
    "name": "ipython",
    "version": 3
   },
   "file_extension": ".py",
   "mimetype": "text/x-python",
   "name": "python",
   "nbconvert_exporter": "python",
   "pygments_lexer": "ipython3",
   "version": "3.9.12"
  }
 },
 "nbformat": 4,
 "nbformat_minor": 5
}
