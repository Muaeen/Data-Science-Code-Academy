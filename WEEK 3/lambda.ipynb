{
 "cells": [
  {
   "cell_type": "code",
   "execution_count": 1,
   "id": "a601e180",
   "metadata": {},
   "outputs": [
    {
     "name": "stdout",
     "output_type": "stream",
     "text": [
      "6\n",
      "14\n",
      "17\n"
     ]
    }
   ],
   "source": [
    "sum_ = lambda a = 1, b = 2, c = 3 : a+b+c\n",
    "print(sum_())\n",
    "print(sum_(4,7))\n",
    "print(sum_(6,7,4))"
   ]
  },
  {
   "cell_type": "code",
   "execution_count": 2,
   "id": "35ca49ca",
   "metadata": {},
   "outputs": [
    {
     "data": {
      "text/plain": [
       "16"
      ]
     },
     "execution_count": 2,
     "metadata": {},
     "output_type": "execute_result"
    }
   ],
   "source": [
    "square = lambda x: x ** 2\n",
    "square(4)"
   ]
  },
  {
   "cell_type": "code",
   "execution_count": 3,
   "id": "e8f1d2bd",
   "metadata": {},
   "outputs": [
    {
     "data": {
      "text/plain": [
       "8"
      ]
     },
     "execution_count": 3,
     "metadata": {},
     "output_type": "execute_result"
    }
   ],
   "source": [
    "addition = lambda x, y: x + y\n",
    "addition(3, 5)\n"
   ]
  },
  {
   "cell_type": "code",
   "execution_count": 4,
   "id": "3039c270",
   "metadata": {},
   "outputs": [
    {
     "data": {
      "text/plain": [
       "15"
      ]
     },
     "execution_count": 4,
     "metadata": {},
     "output_type": "execute_result"
    }
   ],
   "source": [
    "addition = lambda *numbers : sum(numbers)\n",
    "addition(3,5,7)"
   ]
  },
  {
   "cell_type": "code",
   "execution_count": 5,
   "id": "2704910b",
   "metadata": {},
   "outputs": [
    {
     "data": {
      "text/plain": [
       "'even'"
      ]
     },
     "execution_count": 5,
     "metadata": {},
     "output_type": "execute_result"
    }
   ],
   "source": [
    "OddEven = lambda x:(x%2 and 'odd' or 'even')\n",
    "OddEven(4)"
   ]
  },
  {
   "cell_type": "code",
   "execution_count": 6,
   "id": "67aa5f32",
   "metadata": {},
   "outputs": [
    {
     "name": "stdout",
     "output_type": "stream",
     "text": [
      "[{'name': 'john', 'Age': 28}, {'name': 'Mary', 'Age': 23}, {'name': 'Bob', 'Age': 35}, {'name': 'Alice', 'Age': 32}]\n",
      "[{'name': 'Bob', 'Age': 35}, {'name': 'Alice', 'Age': 32}, {'name': 'john', 'Age': 28}, {'name': 'Mary', 'Age': 23}]\n"
     ]
    }
   ],
   "source": [
    "people =[ \n",
    "    {'name':'john','Age':28},\n",
    "    {'name':'Mary','Age':23},\n",
    "    {'name':'Bob','Age':35},\n",
    "    {'name':'Alice','Age':32}\n",
    "]\n",
    "sorted_people = sorted(people, key=lambda person: person['Age'],reverse=True)\n",
    "print(people)\n",
    "print(sorted_people)"
   ]
  },
  {
   "cell_type": "code",
   "execution_count": 7,
   "id": "dc2be77d",
   "metadata": {},
   "outputs": [
    {
     "name": "stdout",
     "output_type": "stream",
     "text": [
      "[1, 3, 5, 2, 7, 4, 10]\n",
      "[2, 4, 10]\n",
      "[2, 4, 10]\n"
     ]
    }
   ],
   "source": [
    "def is_even(i):\n",
    "    return i % 2 == 0\n",
    "data = [1,3,5,2,7,4,10]\n",
    "d1 = list(filter(lambda i : i % 2 == 0 ,data))\n",
    "d2 = list(filter(is_even,data))\n",
    "print(data)\n",
    "print(d1)\n",
    "print(d2)"
   ]
  },
  {
   "cell_type": "code",
   "execution_count": 8,
   "id": "57de3f61",
   "metadata": {},
   "outputs": [
    {
     "name": "stdout",
     "output_type": "stream",
     "text": [
      "Please enter a string: Hi my Name is\n",
      "Lower is:  imyameis\n",
      "Upper is:  HN\n"
     ]
    }
   ],
   "source": [
    "input_ = input(\"Please enter a string: \")\n",
    "\n",
    "l_ltt = filter(lambda letter: letter.islower(), input_)\n",
    "print(\"Lower is: \", \"\".join(l_ltt))\n",
    "\n",
    "u_ltt = filter(lambda letter: letter.isupper(), input_)\n",
    "print(\"Upper is: \", \"\".join(u_ltt))\n"
   ]
  },
  {
   "cell_type": "code",
   "execution_count": null,
   "id": "ec3a4c33",
   "metadata": {},
   "outputs": [],
   "source": []
  }
 ],
 "metadata": {
  "kernelspec": {
   "display_name": "Python 3 (ipykernel)",
   "language": "python",
   "name": "python3"
  },
  "language_info": {
   "codemirror_mode": {
    "name": "ipython",
    "version": 3
   },
   "file_extension": ".py",
   "mimetype": "text/x-python",
   "name": "python",
   "nbconvert_exporter": "python",
   "pygments_lexer": "ipython3",
   "version": "3.9.12"
  }
 },
 "nbformat": 4,
 "nbformat_minor": 5
}
