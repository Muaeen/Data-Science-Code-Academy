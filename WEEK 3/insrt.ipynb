{
 "cells": [
  {
   "cell_type": "code",
   "execution_count": 1,
   "id": "dbec3d1a",
   "metadata": {},
   "outputs": [
    {
     "name": "stdout",
     "output_type": "stream",
     "text": [
      "[2, 3, 5, 7, 9]\n",
      "[3, 7, 5, 9, 2, 47]\n"
     ]
    }
   ],
   "source": [
    "def insrta(array):\n",
    "    for step in range(1,len(array)):\n",
    "        key = array[step]\n",
    "        j = step -1 \n",
    "        \n",
    "        while j >= 0 and key < array[j]:\n",
    "            array[j+1]=array[j]\n",
    "            j = j -1\n",
    "            \n",
    "            array[j+1] = key\n",
    "            \n",
    "data = [3,7,5,9,2]\n",
    "data1 = [3,7,5,9,2,47]\n",
    "data.sort()\n",
    "insrta(data)\n",
    "print(data)\n",
    "print(data1)"
   ]
  },
  {
   "cell_type": "code",
   "execution_count": null,
   "id": "36ef726d",
   "metadata": {},
   "outputs": [],
   "source": []
  }
 ],
 "metadata": {
  "kernelspec": {
   "display_name": "Python 3 (ipykernel)",
   "language": "python",
   "name": "python3"
  },
  "language_info": {
   "codemirror_mode": {
    "name": "ipython",
    "version": 3
   },
   "file_extension": ".py",
   "mimetype": "text/x-python",
   "name": "python",
   "nbconvert_exporter": "python",
   "pygments_lexer": "ipython3",
   "version": "3.9.12"
  }
 },
 "nbformat": 4,
 "nbformat_minor": 5
}
