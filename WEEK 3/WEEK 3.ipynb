{
 "cells": [
  {
   "cell_type": "code",
   "execution_count": 1,
   "id": "490d9321",
   "metadata": {},
   "outputs": [
    {
     "ename": "SyntaxError",
     "evalue": "invalid syntax (1612778648.py, line 1)",
     "output_type": "error",
     "traceback": [
      "\u001b[0;36m  Input \u001b[0;32mIn [1]\u001b[0;36m\u001b[0m\n\u001b[0;31m    try\u001b[0m\n\u001b[0m       ^\u001b[0m\n\u001b[0;31mSyntaxError\u001b[0m\u001b[0;31m:\u001b[0m invalid syntax\n"
     ]
    }
   ],
   "source": [
    "try\n",
    "except \n",
    "finally "
   ]
  },
  {
   "cell_type": "code",
   "execution_count": 2,
   "id": "986d6e7f",
   "metadata": {},
   "outputs": [
    {
     "name": "stdout",
     "output_type": "stream",
     "text": [
      "aaa\n",
      "File aaa, could not be opened\n"
     ]
    }
   ],
   "source": [
    "try : \n",
    "    filename = input()\n",
    "    infile = open(filename)\n",
    "except IOError:\n",
    "    print(f'File {filename}, could not be opened')"
   ]
  },
  {
   "cell_type": "code",
   "execution_count": 21,
   "id": "ed723556",
   "metadata": {},
   "outputs": [
    {
     "name": "stdout",
     "output_type": "stream",
     "text": [
      "['In', 'Out', 'Person', '_', '_7', '__', '___', '__builtin__', '__builtins__', '__doc__', '__loader__', '__name__', '__package__', '__spec__', '_dh', '_i', '_i1', '_i10', '_i11', '_i12', '_i13', '_i14', '_i15', '_i16', '_i17', '_i18', '_i19', '_i2', '_i20', '_i21', '_i3', '_i4', '_i5', '_i6', '_i7', '_i8', '_i9', '_ih', '_ii', '_iii', '_oh', 'exit', 'filename', 'get_ipython', 'p1', 'quit']\n"
     ]
    }
   ],
   "source": [
    "print(dir())"
   ]
  },
  {
   "cell_type": "code",
   "execution_count": 90,
   "id": "41121385",
   "metadata": {},
   "outputs": [
    {
     "name": "stdout",
     "output_type": "stream",
     "text": [
      "this person name is Moh and he is 22\n",
      "<class '__main__.Person'>\n",
      "this person name is Moh and he is 22\n",
      "2\n",
      "this person name is Ali and he is 27\n"
     ]
    }
   ],
   "source": [
    "class Person :\n",
    "    no_of_person = 0 \n",
    "    def __init__(self,name,age):\n",
    "        self.name = name\n",
    "        self.__age = age\n",
    "        Person.no_of_person += 1\n",
    "        \n",
    "    def __str__(self) :\n",
    "        return f'this person name is {self.name} and he is {self.__age}'\n",
    "    def set_age(self,new_age) :\n",
    "        self.__age = new_age\n",
    "p1 = Person('Moh',22)\n",
    "p2 = Person('Ali',32)\n",
    "print(p1)\n",
    "print(type(p1))\n",
    "print(p1.__str__())\n",
    "print(Person.no_of_person)\n",
    "p2.set_age(27)\n",
    "print(p2.__str__())"
   ]
  },
  {
   "cell_type": "code",
   "execution_count": 67,
   "id": "8481cc23",
   "metadata": {},
   "outputs": [
    {
     "name": "stdout",
     "output_type": "stream",
     "text": [
      "the name of empolyee is Mohammed, ID: 12K873m, salary 5000 and he is IT \n",
      " the name of empolyee is Ali, ID: H335M23, salary 8000 and he is ACCOUNTING\n"
     ]
    },
    {
     "data": {
      "text/plain": [
       "6000.0"
      ]
     },
     "execution_count": 67,
     "metadata": {},
     "output_type": "execute_result"
    }
   ],
   "source": [
    "class Employee :\n",
    "    def __init__(self,name,ID,salary,emp):\n",
    "        self.__name = name\n",
    "        self.__ID = ID\n",
    "        self.__salary = salary\n",
    "        self.__emp = emp\n",
    "    def salary(self,hour:float,salary):\n",
    "        if hour > 50 :\n",
    "            OverTime = hour - 50\n",
    "            NewSalary = OverTime * (salary / 50)\n",
    "            return  NewSalary + salary\n",
    "        else:\n",
    "            return salarya\n",
    "    def __str__(self):\n",
    "        return f'the name of empolyee is {self.__name}, ID: {self.__ID}, salary {self.__salary} and he is {self.__emp}'\n",
    "    def set_name(self,new_name):\n",
    "        self.__name = new_name\n",
    "    def set_ID(self,new_ID):\n",
    "        self.__ID = new_ID\n",
    "    def set_salary(self,new_salary):\n",
    "        self.__salary = new_salary\n",
    "    def set_emp(self,new_emp):\n",
    "        self.__emp = new_emp    \n",
    "em1 = Employee('Mohammed','12K873m',5000,'IT')\n",
    "em2 = Employee('Ali','H335M23',8000,'ACCOUNTING')\n",
    "print(em1,'\\n',em2)\n",
    "(em1.salary(60,5000))\n"
   ]
  },
  {
   "cell_type": "code",
   "execution_count": 66,
   "id": "6f09b939",
   "metadata": {},
   "outputs": [
    {
     "name": "stdout",
     "output_type": "stream",
     "text": [
      "the name of employee is Mohammed, ID: 12K873m, salary 5000 and he is IT \n",
      " the name of employee is Ali, ID: H335M23, salary 8000 and he is ACCOUNTING\n",
      "6000.0\n"
     ]
    }
   ],
   "source": [
    "class Employee :\n",
    "    WORK_WEEK = 50\n",
    "\n",
    "    def __init__(self, name, ID, salary, emp):\n",
    "        self.__name = name\n",
    "        self.__ID = ID\n",
    "        self.__salary = salary\n",
    "        self.__emp = emp\n",
    "\n",
    "    def compute_salary(self, hours_worked):\n",
    "        if hours_worked > self.WORK_WEEK:\n",
    "            overtime_hours = hours_worked - self.WORK_WEEK\n",
    "            overtime_pay = overtime_hours * (self.__salary / self.WORK_WEEK)\n",
    "            return self.__salary + overtime_pay\n",
    "        else:\n",
    "            return self.__salary\n",
    "\n",
    "    def __str__(self):\n",
    "        return f'the name of employee is {self.__name}, ID: {self.__ID}, salary {self.__salary} and he is {self.__emp}'\n",
    "\n",
    "\n",
    "em1 = Employee('Mohammed', '12K873m', 5000, 'IT')\n",
    "em2 = Employee('Ali', 'H335M23', 8000, 'ACCOUNTING')\n",
    "\n",
    "print(em1, '\\n', em2)\n",
    "print(em1.compute_salary(60))\n"
   ]
  },
  {
   "cell_type": "code",
   "execution_count": 68,
   "id": "34129f42",
   "metadata": {},
   "outputs": [
    {
     "name": "stdout",
     "output_type": "stream",
     "text": [
      "the name of employee is Mohammed, ID: 12K873m, salary 5000 and he is IT \n",
      " the name of employee is Ali, ID: H335M23, salary 8000 and he is ACCOUNTING\n",
      "Total payroll: 17875.0\n"
     ]
    }
   ],
   "source": [
    "class Employee:\n",
    "    employees = []\n",
    "\n",
    "    def __init__(self, name, ID, salary, emp):\n",
    "        self.__name = name\n",
    "        self.__ID = ID\n",
    "        self.__salary = salary\n",
    "        self.__emp = emp\n",
    "        Employee.employees.append(self)\n",
    "\n",
    "    def salary(self, hours_worked):\n",
    "        if hours_worked > 50:\n",
    "            overtime_hours = hours_worked - 50\n",
    "            overtime_pay = overtime_hours * (self.__salary / 40) * 1.5  # 1.5 times the normal rate for overtime\n",
    "            return (self.__salary + overtime_pay)\n",
    "        elif hours_worked >= 0:\n",
    "            return self.__salary\n",
    "        else:\n",
    "            raise ValueError(\"Hours worked cannot be negative\")\n",
    "\n",
    "    def __str__(self):\n",
    "        return f'the name of employee is {self.__name}, ID: {self.__ID}, salary {self.__salary} and he is {self.__emp}'\n",
    "\n",
    "    @classmethod\n",
    "    def total_payroll(cls, hours):\n",
    "        total = 0\n",
    "        for employee in cls.employees:\n",
    "            total += employee.salary(hours)\n",
    "        return total\n",
    "\n",
    "em1 = Employee('Mohammed', '12K873m', 5000, 'IT')\n",
    "em2 = Employee('Ali', 'H335M23', 8000, 'ACCOUNTING')\n",
    "\n",
    "print(em1, '\\n', em2)\n",
    "print(\"Total payroll:\", Employee.total_payroll(60))\n"
   ]
  },
  {
   "cell_type": "code",
   "execution_count": 97,
   "id": "6b564789",
   "metadata": {},
   "outputs": [
    {
     "name": "stdout",
     "output_type": "stream",
     "text": [
      "Water\n",
      "Orange\n",
      "barger\n",
      "Omani bread\n",
      "rice\n",
      "apple\n"
     ]
    }
   ],
   "source": [
    "class Restaurant:\n",
    "    reservations = 0\n",
    "    def __init__(self,menu_items:list,book_table,customer_order:list):\n",
    "        self.__menu_items = menu_items\n",
    "        self.__book_table = book_table\n",
    "        self.__customer_order = customer_order\n",
    "        Restaurant.reservations =+1\n",
    "    def add_item_2_menu(self,item:str):\n",
    "        self.__menu_items.append(item)\n",
    "    def add_item_2_menu(self,item:list):\n",
    "        for i in item:\n",
    "            self.__menu_items.append(i)\n",
    "    def P_menu(self):\n",
    "        for i in self.__menu_items:\n",
    "            print(i)\n",
    "    def P_order(self):\n",
    "        for i in self.__customer_order:\n",
    "            print(i)\n",
    "        \n",
    "        \n",
    "r = Restaurant(['Water','Orange','barger','Omani bread'],5,['barger','Omani bread'])        \n",
    "r.add_item_2_menu(['rice','apple'])\n",
    "r.P_menu()\n",
    "#print(Restaurant.reservations)"
   ]
  },
  {
   "cell_type": "code",
   "execution_count": 137,
   "id": "09b9db8a",
   "metadata": {},
   "outputs": [
    {
     "name": "stdout",
     "output_type": "stream",
     "text": [
      "account : 11230565, name : Muaeen Gharib        balance : 200, date : 7-5-2023\n",
      "account : 11230565, name : Muaeen Gharib        balance : 1000, date : 7-5-2023\n"
     ]
    }
   ],
   "source": [
    "class BankAccount:\n",
    "    def __init__(self,account_number,custmer_name,balance:float,date_of_opening):\n",
    "        self.__account_number = account_number\n",
    "        self.__custmer_name = custmer_name\n",
    "        self.__balance = balance\n",
    "        self.__date_of_opening = date_of_opening\n",
    "        \n",
    "        \n",
    "        \n",
    "    def check_balance(self):\n",
    "        return self.__balance\n",
    "    \n",
    "    \n",
    "    def __str__(self):\n",
    "        return f'account : {self.__account_number}, name : {self.__custmer_name}\\\n",
    "        balance : {self.__balance}, date : {self.__date_of_opening}'\n",
    "        \n",
    "        \n",
    "    def deposit(self,d_balance): #ايداع\n",
    "        self.__balance=self.__balance+d_balance\n",
    "        \n",
    "    \n",
    "    \n",
    "    def withdrow(self,d_balance:float):\n",
    "        self.__balance= self.__balance - d_balance\n",
    "    \n",
    "    \n",
    "Muaeen = BankAccount('11230565','Muaeen Gharib',200,'7-5-2023')\n",
    "print(Muaeen)\n",
    "Muaeen.deposit(1200)\n",
    "Muaeen.check_balance()\n",
    "Muaeen.withdrow(400)\n",
    "Muaeen.check_balance()\n",
    "print(Muaeen)"
   ]
  },
  {
   "cell_type": "code",
   "execution_count": 337,
   "id": "e5b1c4d7",
   "metadata": {},
   "outputs": [],
   "source": [
    "class Stack:\n",
    "    def __init__(self,stack):\n",
    "        self.__stack = stack\n",
    "    \n",
    "    def __str__(self):\n",
    "        return f'{self.__stack}'\n",
    "        \n",
    "    def reverse(self):\n",
    "        self.__stack = self.__stack[::-1]\n",
    "\n",
    "    def is_empty(self):\n",
    "        return len(self.__stack) == 0\n",
    "\n",
    "    def push(self, item):\n",
    "        self.__stack.append(item)\n",
    "\n",
    "    def pop(self):\n",
    "        if not self.is_empty():\n",
    "            return self.__stack.pop()\n",
    "        else:\n",
    "            raise IndexError(\"Stack is empty\")\n",
    "\n",
    "    def peek(self):\n",
    "        if not self.is_empty():\n",
    "            return self.__stack[-1]\n",
    "        else:\n",
    "            raise IndexError(\"Stack is empty\")\n",
    "\n",
    "    def size(self):\n",
    "        return len(self.__stack)\n"
   ]
  },
  {
   "cell_type": "code",
   "execution_count": 200,
   "id": "3b5078e8",
   "metadata": {},
   "outputs": [
    {
     "name": "stdout",
     "output_type": "stream",
     "text": [
      "['j', 'h', 't', 'u', 'r']\n",
      "r\n",
      "r\n"
     ]
    }
   ],
   "source": [
    "x = ['j','h','t','u']\n",
    "stack = Stack(x)\n",
    "\n",
    "stack.push('r')\n",
    "print(stack)\n",
    "#stack.reverse()\n",
    "\n",
    "print(stack.peek())  \n",
    "\n",
    "print(stack.pop())   \n",
    "#print(stack.pop())\n",
    "#print(stack.pop()) \n",
    "\n",
    "#print(stack.size())  \n",
    "\n",
    "#print(stack.is_empty())  \n"
   ]
  },
  {
   "cell_type": "code",
   "execution_count": 201,
   "id": "d24a5035",
   "metadata": {},
   "outputs": [
    {
     "name": "stdout",
     "output_type": "stream",
     "text": [
      "+-cba\n"
     ]
    }
   ],
   "source": [
    "def infix_to_prefix(expression):\n",
    "    def precedence(op):\n",
    "        if op == '+' or op == '-':\n",
    "            return 1\n",
    "        if op == '*' or op == '/':\n",
    "            return 2\n",
    "        return 0\n",
    "\n",
    "    def apply_operator(operators, operands):\n",
    "        operator = operators[-1]\n",
    "        operators = operators[:-1]\n",
    "        right = operands[-1]\n",
    "        operands = operands[:-1]\n",
    "        left = operands[-1]\n",
    "        operands = operands[:-1]\n",
    "        temp = operator + left + right\n",
    "        operands.append(temp)\n",
    "        return operators, operands\n",
    "\n",
    "    def greater_precedence(op1, op2):\n",
    "        return precedence(op1) >= precedence(op2)\n",
    "\n",
    "    operators = []\n",
    "    operands = []\n",
    "    expression = '(' + expression + ')'\n",
    "    i = len(expression) - 1\n",
    "\n",
    "    while i >= 0:\n",
    "        if expression[i] == \" \":\n",
    "            i -= 1\n",
    "            continue\n",
    "\n",
    "        if expression[i] == '(':\n",
    "            while operators[-1] != ')':\n",
    "                operators, operands = apply_operator(operators, operands)\n",
    "            operators = operators[:-1]\n",
    "        elif expression[i] == ')':\n",
    "            operators.append(expression[i])\n",
    "        elif expression[i] in '+-*/':\n",
    "            while (operators and operators[-1] != ')' and\n",
    "                    greater_precedence(operators[-1], expression[i])):\n",
    "                operators, operands = apply_operator(operators, operands)\n",
    "            operators.append(expression[i])\n",
    "        else:\n",
    "            operands.append(expression[i])\n",
    "        i -= 1\n",
    "\n",
    "    while operators:\n",
    "        operators, operands = apply_operator(operators, operands)\n",
    "\n",
    "    return operands[0]\n",
    "\n",
    "\n",
    "print(infix_to_prefix('a+b-c'))  # Output: -+abc\n"
   ]
  },
  {
   "cell_type": "code",
   "execution_count": 338,
   "id": "67f7c090",
   "metadata": {},
   "outputs": [
    {
     "name": "stdout",
     "output_type": "stream",
     "text": [
      "+a-bc\n"
     ]
    }
   ],
   "source": [
    "def infix_to_prefix(infix):\n",
    "    def precedence(op):\n",
    "        if op == '+' or op == '-':\n",
    "            return 1\n",
    "        if op == '*' or op == '/':\n",
    "            return 2\n",
    "        return 0\n",
    "\n",
    "    # Step 1: Reverse the infix expression\n",
    "    infix = infix[::-1]\n",
    "\n",
    "    # Swap opening and closing parenthesis\n",
    "    infix = [')' if c == '(' else '(' if c == ')' else c for c in infix]\n",
    "\n",
    "    stack = []\n",
    "    output = ''\n",
    "\n",
    "    for character in infix:\n",
    "        if character.isalpha():\n",
    "            output += character\n",
    "        elif character == ')':\n",
    "            stack.append(character)\n",
    "        elif character == '(':\n",
    "            while stack and stack[-1] != ')':\n",
    "                output += stack.pop()\n",
    "            stack.pop()  # Discard the closing parenthesis\n",
    "        else:\n",
    "            while (stack and stack[-1] != ')' and\n",
    "                   precedence(character) <= precedence(stack[-1])):\n",
    "                output += stack.pop()\n",
    "            stack.append(character)\n",
    "\n",
    "    while stack:\n",
    "        output += stack.pop()\n",
    "\n",
    "    # Step 6: Reverse the final output\n",
    "    return output[::-1]\n",
    "\n",
    "\n",
    "infix = \"a+b-c\"\n",
    "print(infix_to_prefix(infix))\n"
   ]
  },
  {
   "cell_type": "code",
   "execution_count": null,
   "id": "3f5e5e1d",
   "metadata": {},
   "outputs": [],
   "source": []
  },
  {
   "cell_type": "code",
   "execution_count": 253,
   "id": "652542e3",
   "metadata": {},
   "outputs": [
    {
     "name": "stdout",
     "output_type": "stream",
     "text": [
      "the index of 50 is 4\n"
     ]
    }
   ],
   "source": [
    "a = [10,20,30,40,50,60,70]\n",
    "ky = 50\n",
    "L = 0\n",
    "H = len(a)-1\n",
    "found = False\n",
    "while L <= H and not found :\n",
    "    mid = (L+H) // 2\n",
    "    if a[mid] == ky :\n",
    "        found = True\n",
    "    elif a[mid] < ky :\n",
    "        L = mid + 1\n",
    "    else :\n",
    "        H = mid - 1\n",
    "\n",
    "if found:\n",
    "    print(f'the index of {ky} is {mid}')\n",
    "else :\n",
    "    print('F')"
   ]
  },
  {
   "cell_type": "code",
   "execution_count": 255,
   "id": "db81f1e9",
   "metadata": {},
   "outputs": [
    {
     "name": "stdout",
     "output_type": "stream",
     "text": [
      "4\n"
     ]
    }
   ],
   "source": [
    "def binary_search(my_list, ky):\n",
    "    my_list.sort()\n",
    "    L = 0\n",
    "    H = len(a) - 1\n",
    "    while L <= H:\n",
    "        mid = (L + H) // 2\n",
    "        if my_list[mid] == ky:\n",
    "            return mid\n",
    "        elif my_list[mid] < ky:\n",
    "            L = mid + 1\n",
    "        else:\n",
    "            H = mid - 1\n",
    "    return None\n",
    "\n",
    "a = [5,20,23,67,15,1,33,50]\n",
    "ky = 23\n",
    "print(binary_search(a, ky)) \n"
   ]
  },
  {
   "cell_type": "code",
   "execution_count": 256,
   "id": "018811e3",
   "metadata": {},
   "outputs": [
    {
     "data": {
      "text/plain": [
       "[1, 5, 15, 20, 23, 33, 50, 67]"
      ]
     },
     "execution_count": 256,
     "metadata": {},
     "output_type": "execute_result"
    }
   ],
   "source": [
    "a.sort()\n",
    "a"
   ]
  },
  {
   "cell_type": "code",
   "execution_count": 340,
   "id": "64579091",
   "metadata": {},
   "outputs": [
    {
     "name": "stdout",
     "output_type": "stream",
     "text": [
      "[2, 3, 5, 7, 9]\n",
      "[3, 7, 5, 9, 2, 47]\n"
     ]
    }
   ],
   "source": [
    "def insrta(array):\n",
    "    for step in range(1,len(array)):\n",
    "        key = array[step]\n",
    "        j = step -1 \n",
    "        \n",
    "        while j >= 0 and key < array[j]:\n",
    "            array[j+1]=array[j]\n",
    "            j = j -1\n",
    "            \n",
    "            array[j+1] = key\n",
    "            \n",
    "data = [3,7,5,9,2]\n",
    "data1 = [3,7,5,9,2,47]\n",
    "data.sort()\n",
    "insrta(data)\n",
    "print(data)\n",
    "print(data1)"
   ]
  },
  {
   "cell_type": "code",
   "execution_count": 277,
   "id": "134be58e",
   "metadata": {},
   "outputs": [
    {
     "name": "stdout",
     "output_type": "stream",
     "text": [
      "['Said', 'Majid', 'Salim', 'Ali', 'Sultan']\n"
     ]
    }
   ],
   "source": [
    "lst = ['Said,25','Majid,19','Salim,32','Ali,21','Sultan,28']\n",
    "\n",
    "numbers = [str(x.split(',')[0]) for x in lst]\n",
    "\n",
    "print(numbers)  \n"
   ]
  },
  {
   "cell_type": "code",
   "execution_count": null,
   "id": "ca25960e",
   "metadata": {},
   "outputs": [],
   "source": []
  },
  {
   "cell_type": "code",
   "execution_count": 341,
   "id": "2db80c73",
   "metadata": {},
   "outputs": [],
   "source": [
    "def insrta(array):\n",
    "    for step in range(1,len(array)):\n",
    "        key = array[step]\n",
    "        j = step -1 \n",
    "        \n",
    "        while j >= 0 and key < array[j]:\n",
    "            array[j+1]=array[j]\n",
    "            j = j -1\n",
    "            \n",
    "            array[j+1] = key\n",
    " "
   ]
  },
  {
   "cell_type": "code",
   "execution_count": 342,
   "id": "c6f4df97",
   "metadata": {},
   "outputs": [
    {
     "name": "stdout",
     "output_type": "stream",
     "text": [
      "['Majid', 'Ali', 'Said', 'Sultan', 'Salim']\n"
     ]
    }
   ],
   "source": [
    "def sort_list(array):\n",
    "    for step in range(len(array)):\n",
    "        min_idx = step\n",
    "        for j in range(step+1, len(array)):\n",
    "            if int(array[j].split(',')[1]) < int(array[min_idx].split(',')[1]):\n",
    "                min_idx = j\n",
    "        array[step], array[min_idx] = array[min_idx], array[step]\n",
    "    return [step.split(',')[0] for step in array]\n",
    "\n",
    "lst = ['Said,25','Majid,19','Salim,32','Ali,21','Sultan,28']\n",
    "print(sort_list(lst)) \n"
   ]
  },
  {
   "cell_type": "code",
   "execution_count": null,
   "id": "3e4d8346",
   "metadata": {},
   "outputs": [],
   "source": []
  },
  {
   "cell_type": "code",
   "execution_count": null,
   "id": "a21d4682",
   "metadata": {},
   "outputs": [],
   "source": []
  },
  {
   "cell_type": "code",
   "execution_count": null,
   "id": "61ad90c7",
   "metadata": {},
   "outputs": [],
   "source": [
    "lambda"
   ]
  },
  {
   "cell_type": "code",
   "execution_count": 285,
   "id": "3764644c",
   "metadata": {},
   "outputs": [
    {
     "name": "stdout",
     "output_type": "stream",
     "text": [
      "6\n",
      "14\n",
      "17\n"
     ]
    }
   ],
   "source": [
    "sum_ = lambda a = 1, b = 2, c = 3 : a+b+c\n",
    "print(sum_())\n",
    "print(sum_(4,7))\n",
    "print(sum_(6,7,4))"
   ]
  },
  {
   "cell_type": "code",
   "execution_count": 287,
   "id": "80db0e59",
   "metadata": {},
   "outputs": [
    {
     "data": {
      "text/plain": [
       "16"
      ]
     },
     "execution_count": 287,
     "metadata": {},
     "output_type": "execute_result"
    }
   ],
   "source": [
    "square = lambda x: x ** 2\n",
    "square(4)"
   ]
  },
  {
   "cell_type": "code",
   "execution_count": 288,
   "id": "634d42b9",
   "metadata": {},
   "outputs": [
    {
     "data": {
      "text/plain": [
       "8"
      ]
     },
     "execution_count": 288,
     "metadata": {},
     "output_type": "execute_result"
    }
   ],
   "source": [
    "addition = lambda x, y: x + y\n",
    "addition(3, 5)\n"
   ]
  },
  {
   "cell_type": "code",
   "execution_count": 290,
   "id": "64160308",
   "metadata": {},
   "outputs": [
    {
     "data": {
      "text/plain": [
       "15"
      ]
     },
     "execution_count": 290,
     "metadata": {},
     "output_type": "execute_result"
    }
   ],
   "source": [
    "addition = lambda *numbers : sum(numbers)\n",
    "addition(3,5,7)"
   ]
  },
  {
   "cell_type": "code",
   "execution_count": 294,
   "id": "e809d9db",
   "metadata": {},
   "outputs": [
    {
     "data": {
      "text/plain": [
       "'even'"
      ]
     },
     "execution_count": 294,
     "metadata": {},
     "output_type": "execute_result"
    }
   ],
   "source": [
    "OddEven = lambda x:(x%2 and 'odd' or 'even')\n",
    "OddEven(4)"
   ]
  },
  {
   "cell_type": "code",
   "execution_count": 304,
   "id": "5e5c73e7",
   "metadata": {},
   "outputs": [
    {
     "name": "stdout",
     "output_type": "stream",
     "text": [
      "[{'name': 'john', 'Age': 28}, {'name': 'Mary', 'Age': 23}, {'name': 'Bob', 'Age': 35}, {'name': 'Alice', 'Age': 32}]\n",
      "[{'name': 'Bob', 'Age': 35}, {'name': 'Alice', 'Age': 32}, {'name': 'john', 'Age': 28}, {'name': 'Mary', 'Age': 23}]\n"
     ]
    }
   ],
   "source": [
    "people =[ \n",
    "    {'name':'john','Age':28},\n",
    "    {'name':'Mary','Age':23},\n",
    "    {'name':'Bob','Age':35},\n",
    "    {'name':'Alice','Age':32}\n",
    "]\n",
    "sorted_people = sorted(people, key=lambda person: person['Age'],reverse=True)\n",
    "print(people)\n",
    "print(sorted_people)"
   ]
  },
  {
   "cell_type": "code",
   "execution_count": null,
   "id": "c0bfa930",
   "metadata": {},
   "outputs": [],
   "source": []
  },
  {
   "cell_type": "code",
   "execution_count": 310,
   "id": "20f37fd3",
   "metadata": {},
   "outputs": [
    {
     "name": "stdout",
     "output_type": "stream",
     "text": [
      "[1, 3, 5, 2, 7, 4, 10]\n",
      "[2, 4, 10]\n",
      "[2, 4, 10]\n"
     ]
    }
   ],
   "source": [
    "def is_even(i):\n",
    "    return i % 2 == 0\n",
    "data = [1,3,5,2,7,4,10]\n",
    "d1 = list(filter(lambda i : i % 2 == 0 ,data))\n",
    "d2 = list(filter(is_even,data))\n",
    "print(data)\n",
    "print(d1)\n",
    "print(d2)"
   ]
  },
  {
   "cell_type": "code",
   "execution_count": 312,
   "id": "4a247c58",
   "metadata": {},
   "outputs": [
    {
     "name": "stdout",
     "output_type": "stream",
     "text": [
      "Please enter a string: Hi My name Is \n",
      "Lower is:  iynames\n",
      "Upper is:  HMI\n"
     ]
    }
   ],
   "source": [
    "input_ = input(\"Please enter a string: \")\n",
    "\n",
    "l_ltt = filter(lambda letter: letter.islower(), input_)\n",
    "print(\"Lower is: \", \"\".join(l_ltt))\n",
    "\n",
    "u_ltt = filter(lambda letter: letter.isupper(), input_)\n",
    "print(\"Upper is: \", \"\".join(u_ltt))\n"
   ]
  },
  {
   "cell_type": "code",
   "execution_count": 309,
   "id": "722e91ab",
   "metadata": {},
   "outputs": [
    {
     "name": "stdout",
     "output_type": "stream",
     "text": [
      "('a', 'e', 'i', 'o')\n"
     ]
    }
   ],
   "source": [
    "letters = ['a', 'b', 'd', 'e', 'i', 'j', 'o']\n",
    "def filter_vowels(letter):\n",
    "    vowels = ['a', 'e', 'i', 'o', 'u']\n",
    "    return True if letter in vowels else False\n",
    "\n",
    "filtered_vowels = filter(filter_vowels, letters)\n",
    "\n",
    "vowels = tuple(filtered_vowels)\n",
    "print(vowels)"
   ]
  },
  {
   "cell_type": "code",
   "execution_count": 317,
   "id": "17f0a634",
   "metadata": {},
   "outputs": [
    {
     "data": {
      "text/plain": [
       "['MUAEEN', 'GHARIB']"
      ]
     },
     "execution_count": 317,
     "metadata": {},
     "output_type": "execute_result"
    }
   ],
   "source": [
    "def ltt(my_list):\n",
    "    return list(map(lambda x: x.upper(), my_list))\n",
    "ltt(['Muaeen','gharib'])"
   ]
  },
  {
   "cell_type": "code",
   "execution_count": 319,
   "id": "eb9649b5",
   "metadata": {},
   "outputs": [
    {
     "name": "stdout",
     "output_type": "stream",
     "text": [
      "32\n"
     ]
    }
   ],
   "source": [
    "from functools import reduce\n",
    "data = [1,3,5,3,6,4,10]\n",
    "result = reduce(lambda total, value: total + value,data)\n",
    "print(result)"
   ]
  },
  {
   "cell_type": "code",
   "execution_count": 320,
   "id": "77608c45",
   "metadata": {},
   "outputs": [
    {
     "name": "stdout",
     "output_type": "stream",
     "text": [
      "55\n"
     ]
    }
   ],
   "source": [
    "numbers = [1, 2, 3, 4, 5]\n",
    "\n",
    "sum_of_squares = reduce(lambda a, b: a + b*b, numbers, 0)\n",
    "\n",
    "print(sum_of_squares)\n"
   ]
  },
  {
   "cell_type": "code",
   "execution_count": null,
   "id": "32f278cb",
   "metadata": {},
   "outputs": [],
   "source": []
  },
  {
   "cell_type": "code",
   "execution_count": 326,
   "id": "b359d0b6",
   "metadata": {},
   "outputs": [
    {
     "name": "stdout",
     "output_type": "stream",
     "text": [
      "123"
     ]
    }
   ],
   "source": [
    "lsst = [1,2,3]\n",
    "for i in lsst:\n",
    "    print(i,end='')\n",
    "\n"
   ]
  },
  {
   "cell_type": "code",
   "execution_count": 324,
   "id": "47488741",
   "metadata": {},
   "outputs": [
    {
     "name": "stdout",
     "output_type": "stream",
     "text": [
      "1\n"
     ]
    }
   ],
   "source": [
    "valuee = iter(lsst)\n",
    "print(next(valuee))"
   ]
  },
  {
   "cell_type": "code",
   "execution_count": 332,
   "id": "e29ec705",
   "metadata": {},
   "outputs": [
    {
     "name": "stdout",
     "output_type": "stream",
     "text": [
      "217811\n"
     ]
    }
   ],
   "source": [
    "def fibonacci_numbers(nums):\n",
    "    x, y = 0, 1\n",
    "    for i in range(nums):\n",
    "        x, y = y, x+y\n",
    "        yield x\n",
    "def square(nums):\n",
    "    for num in nums:\n",
    "        yield num**3\n",
    "print(sum(square(fibonacci_numbers(10))))"
   ]
  },
  {
   "cell_type": "code",
   "execution_count": 329,
   "id": "39367209",
   "metadata": {},
   "outputs": [
    {
     "name": "stdout",
     "output_type": "stream",
     "text": [
      "29316316535\n"
     ]
    }
   ],
   "source": [
    "def fibonacci_numbers(nums):\n",
    "    x, y = 0, 1\n",
    "    for i in range(nums):\n",
    "        x, y = y, x+y\n",
    "        yield x\n",
    "def square(nums):\n",
    "    for num in nums:\n",
    "        yield num**3\n",
    "def square2(nums):\n",
    "    for num in nums:\n",
    "        yield num**2\n",
    "\n",
    "print(sum(square2(square(fibonacci_numbers(10)))))"
   ]
  },
  {
   "cell_type": "code",
   "execution_count": 331,
   "id": "0e2656da",
   "metadata": {},
   "outputs": [
    {
     "name": "stdout",
     "output_type": "stream",
     "text": [
      "217811\n"
     ]
    }
   ],
   "source": [
    "def fibonacci_(nums):\n",
    "    x, y = 0, 1\n",
    "    for i in range(nums):\n",
    "        x, y = y, x+y\n",
    "        yield x**3\n",
    "\n",
    "print(sum(fibonacci_(10)))\n"
   ]
  },
  {
   "cell_type": "code",
   "execution_count": 333,
   "id": "8f9a7ffe",
   "metadata": {},
   "outputs": [
    {
     "name": "stdout",
     "output_type": "stream",
     "text": [
      "2\n",
      "4\n",
      "6\n",
      "8\n",
      "10\n",
      "12\n",
      "14\n"
     ]
    }
   ],
   "source": [
    "def even_num_(nums):\n",
    "    for num in nums:\n",
    "        if num % 2 == 0:\n",
    "            yield num\n",
    "\n",
    "numbers = list(range(1, 16))\n",
    "\n",
    "for even_num in even_num_(numbers):\n",
    "    print(even_num)\n"
   ]
  },
  {
   "cell_type": "code",
   "execution_count": 335,
   "id": "4a2b2265",
   "metadata": {},
   "outputs": [
    {
     "name": "stdout",
     "output_type": "stream",
     "text": [
      "[0, 1, 2, 3, 4, 5, 6, 7, 8, 9]\n"
     ]
    }
   ],
   "source": [
    "def my_gen(n):\n",
    "    i = 0 \n",
    "    while i < n :\n",
    "        yield i \n",
    "        i += 1\n",
    "my_list = list(my_gen(10))\n",
    "print(my_list)"
   ]
  },
  {
   "cell_type": "code",
   "execution_count": 336,
   "id": "c6389335",
   "metadata": {},
   "outputs": [
    {
     "name": "stdout",
     "output_type": "stream",
     "text": [
      "Hello\n",
      "Code Academy\n",
      "Welcome to Python\n"
     ]
    }
   ],
   "source": [
    "def func1(fun):\n",
    "    def wrapper():\n",
    "        print('Hello')\n",
    "        fun()\n",
    "        print('Welcome to Python')\n",
    "    return wrapper\n",
    "\n",
    "def func2():\n",
    "    print('Code Academy')\n",
    "\n",
    "f = func1(func2)\n",
    "f()"
   ]
  },
  {
   "cell_type": "code",
   "execution_count": 141,
   "id": "50f7dc0d",
   "metadata": {},
   "outputs": [
    {
     "name": "stdout",
     "output_type": "stream",
     "text": [
      "3\n",
      "3\n",
      "2\n",
      "1\n"
     ]
    },
    {
     "ename": "AttributeError",
     "evalue": "'Stack' object has no attribute 'isempty'",
     "output_type": "error",
     "traceback": [
      "\u001b[0;31m---------------------------------------------------------------------------\u001b[0m",
      "\u001b[0;31mAttributeError\u001b[0m                            Traceback (most recent call last)",
      "Input \u001b[0;32mIn [141]\u001b[0m, in \u001b[0;36m<cell line: 14>\u001b[0;34m()\u001b[0m\n\u001b[1;32m     10\u001b[0m \u001b[38;5;28mprint\u001b[39m(stack\u001b[38;5;241m.\u001b[39mpop())   \n\u001b[1;32m     12\u001b[0m \u001b[38;5;28mprint\u001b[39m(stack\u001b[38;5;241m.\u001b[39msize())  \n\u001b[0;32m---> 14\u001b[0m \u001b[38;5;28mprint\u001b[39m(\u001b[43mstack\u001b[49m\u001b[38;5;241;43m.\u001b[39;49m\u001b[43misempty\u001b[49m())\n",
      "\u001b[0;31mAttributeError\u001b[0m: 'Stack' object has no attribute 'isempty'"
     ]
    }
   ],
   "source": [
    "stack = Stack()\n",
    "\n",
    "stack.push(1)\n",
    "stack.push(2)\n",
    "stack.push(3)\n",
    "\n",
    "print(stack.peek())  \n",
    "\n",
    "print(stack.pop())   \n",
    "print(stack.pop())   \n",
    "\n",
    "print(stack.size())  \n",
    "\n",
    "print(stack.is_empty())  \n"
   ]
  },
  {
   "cell_type": "code",
   "execution_count": null,
   "id": "d80580e0",
   "metadata": {},
   "outputs": [],
   "source": []
  }
 ],
 "metadata": {
  "kernelspec": {
   "display_name": "Python 3 (ipykernel)",
   "language": "python",
   "name": "python3"
  },
  "language_info": {
   "codemirror_mode": {
    "name": "ipython",
    "version": 3
   },
   "file_extension": ".py",
   "mimetype": "text/x-python",
   "name": "python",
   "nbconvert_exporter": "python",
   "pygments_lexer": "ipython3",
   "version": "3.9.12"
  }
 },
 "nbformat": 4,
 "nbformat_minor": 5
}
