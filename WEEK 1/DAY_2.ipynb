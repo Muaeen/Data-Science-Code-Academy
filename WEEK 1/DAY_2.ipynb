{
 "cells": [
  {
   "cell_type": "code",
   "execution_count": 8,
   "id": "b2a0e2c8",
   "metadata": {},
   "outputs": [
    {
     "data": {
      "text/plain": [
       "2.0"
      ]
     },
     "execution_count": 8,
     "metadata": {},
     "output_type": "execute_result"
    }
   ],
   "source": [
    "from math import *\n",
    "\n",
    "x = sqrt(4)\n",
    "\n",
    "x"
   ]
  },
  {
   "cell_type": "code",
   "execution_count": 34,
   "id": "c851497c",
   "metadata": {},
   "outputs": [
    {
     "name": "stdout",
     "output_type": "stream",
     "text": [
      "[99, 104, 97, 114]\n"
     ]
    }
   ],
   "source": [
    "# one way\n",
    "a = 'char'\n",
    "print([ord(char) for char in a])"
   ]
  },
  {
   "cell_type": "code",
   "execution_count": 32,
   "id": "40edecd4",
   "metadata": {},
   "outputs": [
    {
     "name": "stdout",
     "output_type": "stream",
     "text": [
      "99\n",
      "104\n",
      "97\n",
      "114\n"
     ]
    }
   ],
   "source": [
    "# other way\n",
    "a = ('char')\n",
    "for i in a :\n",
    "    print(ord(i))"
   ]
  },
  {
   "cell_type": "code",
   "execution_count": 31,
   "id": "107cdb6f",
   "metadata": {},
   "outputs": [
    {
     "name": "stdout",
     "output_type": "stream",
     "text": [
      "Enter your name :char\n",
      "99\n",
      "104\n",
      "97\n",
      "114\n"
     ]
    }
   ],
   "source": [
    "# other way\n",
    "a = str(input('Enter your name :'))\n",
    "character = []\n",
    "for i in a :\n",
    "    character.append(i)\n",
    "    print(ord(i))\n"
   ]
  },
  {
   "cell_type": "code",
   "execution_count": 35,
   "id": "99b104fc",
   "metadata": {},
   "outputs": [
    {
     "name": "stdout",
     "output_type": "stream",
     "text": [
      "21.0\n"
     ]
    }
   ],
   "source": [
    "tons = 20\n",
    "price = 1\n",
    "\n",
    "cost = tons * price\n",
    "tax = cost * 0.05\n",
    "\n",
    "total = cost + tax\n",
    "print(total)"
   ]
  },
  {
   "cell_type": "code",
   "execution_count": null,
   "id": "5c8613ae",
   "metadata": {},
   "outputs": [],
   "source": []
  }
 ],
 "metadata": {
  "kernelspec": {
   "display_name": "Python 3 (ipykernel)",
   "language": "python",
   "name": "python3"
  },
  "language_info": {
   "codemirror_mode": {
    "name": "ipython",
    "version": 3
   },
   "file_extension": ".py",
   "mimetype": "text/x-python",
   "name": "python",
   "nbconvert_exporter": "python",
   "pygments_lexer": "ipython3",
   "version": "3.9.12"
  }
 },
 "nbformat": 4,
 "nbformat_minor": 5
}
