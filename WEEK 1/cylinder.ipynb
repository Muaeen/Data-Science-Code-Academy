{
 "cells": [
  {
   "cell_type": "code",
   "execution_count": 2,
   "id": "0e60da81",
   "metadata": {},
   "outputs": [],
   "source": [
    "from math import *"
   ]
  },
  {
   "cell_type": "code",
   "execution_count": 3,
   "id": "eb9c118d",
   "metadata": {},
   "outputs": [],
   "source": [
    "def cylinder(pi,Height,rad):\n",
    "    VolumeTotal = pi*pow(r,2)*h\n",
    "    area = 2*pi*r*(r+h)\n",
    "    print(f'Height of cylinder is {h}\\nRadius of cylinder is {r}\\nVolume is {VolumeTotal}\\nSurface area is {round(area,3)}')\n",
    "    "
   ]
  },
  {
   "cell_type": "code",
   "execution_count": 4,
   "id": "5bc87764",
   "metadata": {},
   "outputs": [],
   "source": [
    "h = 4\n",
    "r = 6"
   ]
  },
  {
   "cell_type": "code",
   "execution_count": 5,
   "id": "7f2b4848",
   "metadata": {},
   "outputs": [
    {
     "name": "stdout",
     "output_type": "stream",
     "text": [
      "Height of cylinder is 4\n",
      "Radius of cylinder is 6\n",
      "Volume is 452.3893421169302\n",
      "Surface area is 376.991\n"
     ]
    }
   ],
   "source": [
    "cylinder(pi,h,r)"
   ]
  },
  {
   "cell_type": "code",
   "execution_count": null,
   "id": "3b708885",
   "metadata": {},
   "outputs": [],
   "source": []
  }
 ],
 "metadata": {
  "kernelspec": {
   "display_name": "Python 3 (ipykernel)",
   "language": "python",
   "name": "python3"
  },
  "language_info": {
   "codemirror_mode": {
    "name": "ipython",
    "version": 3
   },
   "file_extension": ".py",
   "mimetype": "text/x-python",
   "name": "python",
   "nbconvert_exporter": "python",
   "pygments_lexer": "ipython3",
   "version": "3.9.12"
  }
 },
 "nbformat": 4,
 "nbformat_minor": 5
}
