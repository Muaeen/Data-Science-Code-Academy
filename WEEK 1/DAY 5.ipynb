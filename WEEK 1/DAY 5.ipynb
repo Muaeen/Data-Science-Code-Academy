{
 "cells": [
  {
   "cell_type": "code",
   "execution_count": 1,
   "id": "e0800a02",
   "metadata": {},
   "outputs": [
    {
     "name": "stdout",
     "output_type": "stream",
     "text": [
      "6\n",
      "28\n"
     ]
    }
   ],
   "source": [
    "sum_ = 0\n",
    "for i in range(1,101):\n",
    "    for x in range(1,i):\n",
    "        if(i%x==0):\n",
    "            sum_ = sum_ + x\n",
    "    if (sum_ == i ):\n",
    "        print(i)\n",
    "    sum_ = 0\n"
   ]
  },
  {
   "cell_type": "code",
   "execution_count": 2,
   "id": "08ff7730",
   "metadata": {},
   "outputs": [
    {
     "name": "stdout",
     "output_type": "stream",
     "text": [
      "you are greate"
     ]
    }
   ],
   "source": [
    "message = '|rx#duh#juhdwh'\n",
    "for i in message:\n",
    "    print(chr(ord(i)-3),end='')"
   ]
  },
  {
   "cell_type": "code",
   "execution_count": 4,
   "id": "a73d32f0",
   "metadata": {},
   "outputs": [
    {
     "name": "stdout",
     "output_type": "stream",
     "text": [
      "Enter number: 76\n",
      "Enter number: 89\n",
      "Enter number: 54\n",
      "Enter number: 99\n",
      "Enter number: 7\n",
      "Enter number: 43\n",
      "Enter number: 98\n",
      "Enter number: 6\n",
      "Enter number: \n",
      "59.0\n"
     ]
    }
   ],
   "source": [
    "total = []\n",
    "average = 0.0\n",
    "sum_ = 0.0 \n",
    "num = float(input('Enter number: '))\n",
    "total.append(num)\n",
    "\n",
    "for i in total :\n",
    "    if (i == ''):\n",
    "        break\n",
    "    else :\n",
    "        num = input('Enter number: ')\n",
    "        total.append(num)\n",
    "size = len(total) - 1\n",
    "for i in range(0,size):\n",
    "    sum_ = sum_ + float(total[i])\n",
    "    \n",
    "average=sum_/size\n",
    "print(average)"
   ]
  },
  {
   "cell_type": "code",
   "execution_count": null,
   "id": "d726a871",
   "metadata": {},
   "outputs": [],
   "source": []
  }
 ],
 "metadata": {
  "kernelspec": {
   "display_name": "Python 3 (ipykernel)",
   "language": "python",
   "name": "python3"
  },
  "language_info": {
   "codemirror_mode": {
    "name": "ipython",
    "version": 3
   },
   "file_extension": ".py",
   "mimetype": "text/x-python",
   "name": "python",
   "nbconvert_exporter": "python",
   "pygments_lexer": "ipython3",
   "version": "3.9.12"
  }
 },
 "nbformat": 4,
 "nbformat_minor": 5
}
