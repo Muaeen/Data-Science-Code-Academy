{
 "cells": [
  {
   "cell_type": "code",
   "execution_count": 2,
   "id": "fc50f736",
   "metadata": {},
   "outputs": [
    {
     "name": "stdout",
     "output_type": "stream",
     "text": [
      "size of memory is :54\n",
      "What is the size of file ? 7\n",
      "Enter No. of filse :3\n",
      "Yes\n"
     ]
    }
   ],
   "source": [
    "memory = int(input('size of memory is :'))\n",
    "file_size = int(input('What is the size of file ? '))\n",
    "No_of_filse = int(input('Enter No. of filse :'))\n",
    "total_bit = No_of_filse*file_size\n",
    "\n",
    "if total_bit > memory :\n",
    "    print('No')\n",
    "else : \n",
    "    print('Yes')"
   ]
  },
  {
   "cell_type": "code",
   "execution_count": 4,
   "id": "9a983436",
   "metadata": {},
   "outputs": [
    {
     "name": "stdout",
     "output_type": "stream",
     "text": [
      "Enter ur name : wertyu\n",
      "(2, 'r') (3, 't')\n"
     ]
    }
   ],
   "source": [
    "string = str(input('Enter ur name : '))\n",
    "name = []\n",
    "for i in enumerate(string) :\n",
    "    name.append(i)\n",
    "\n",
    "x = int((len(name)-1)/2)\n",
    "y = int((len(name))/2)\n",
    "if len(name)%2 == 0 :\n",
    "    print(name[x],name[y])\n",
    "else :\n",
    "    print(name[int((len(name)-1)/2)])"
   ]
  },
  {
   "cell_type": "code",
   "execution_count": null,
   "id": "d005a3ed",
   "metadata": {},
   "outputs": [],
   "source": []
  }
 ],
 "metadata": {
  "kernelspec": {
   "display_name": "Python 3 (ipykernel)",
   "language": "python",
   "name": "python3"
  },
  "language_info": {
   "codemirror_mode": {
    "name": "ipython",
    "version": 3
   },
   "file_extension": ".py",
   "mimetype": "text/x-python",
   "name": "python",
   "nbconvert_exporter": "python",
   "pygments_lexer": "ipython3",
   "version": "3.9.12"
  }
 },
 "nbformat": 4,
 "nbformat_minor": 5
}
