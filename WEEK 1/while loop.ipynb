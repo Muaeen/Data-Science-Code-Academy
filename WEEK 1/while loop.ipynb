{
 "cells": [
  {
   "cell_type": "code",
   "execution_count": 1,
   "id": "e15609d6",
   "metadata": {},
   "outputs": [],
   "source": [
    "x = 9\n",
    "i = 1\n",
    "y = 105"
   ]
  },
  {
   "cell_type": "code",
   "execution_count": 2,
   "id": "3ae89e70",
   "metadata": {},
   "outputs": [
    {
     "name": "stdout",
     "output_type": "stream",
     "text": [
      "2\n",
      "4\n",
      "6\n",
      "8\n"
     ]
    }
   ],
   "source": [
    "while i <= x:\n",
    "    if i % 2 == 0:\n",
    "        print(i)\n",
    "    i = i + 1\n"
   ]
  },
  {
   "cell_type": "code",
   "execution_count": 3,
   "id": "c3b310b8",
   "metadata": {},
   "outputs": [],
   "source": [
    "while i <= x:\n",
    "    if i % 2 == 0:\n",
    "        print(i**2, end=\" \")\n",
    "    i = i + 1\n"
   ]
  },
  {
   "cell_type": "code",
   "execution_count": 4,
   "id": "8fd5c788",
   "metadata": {},
   "outputs": [],
   "source": [
    "while i <= x:\n",
    "    if i % 2 == 0:\n",
    "        print(i**2, end=\" \")\n",
    "    i = i + 1\n"
   ]
  },
  {
   "cell_type": "code",
   "execution_count": 5,
   "id": "bc1b65b9",
   "metadata": {},
   "outputs": [
    {
     "name": "stdout",
     "output_type": "stream",
     "text": [
      "105\n",
      "98\n",
      "91\n",
      "84\n",
      "77\n",
      "70\n",
      "63\n",
      "56\n",
      "49\n",
      "42\n",
      "35\n",
      "28\n",
      "21\n",
      "14\n",
      "7\n"
     ]
    }
   ],
   "source": [
    "while y >= 7:\n",
    "    print(y)\n",
    "    y -= 7\n"
   ]
  },
  {
   "cell_type": "code",
   "execution_count": 6,
   "id": "655929ae",
   "metadata": {},
   "outputs": [
    {
     "name": "stdout",
     "output_type": "stream",
     "text": [
      "Enter String: ko\n",
      "107\n",
      "111\n"
     ]
    }
   ],
   "source": [
    "y = str(input(\"Enter String: \"))\n",
    "i = 0\n",
    "while i < len(y):\n",
    "    print(ord(y[i]))\n",
    "    i += 1\n"
   ]
  },
  {
   "cell_type": "code",
   "execution_count": 9,
   "id": "bb4ebf92",
   "metadata": {},
   "outputs": [
    {
     "name": "stdout",
     "output_type": "stream",
     "text": [
      "4\n",
      "2\n",
      "4\n"
     ]
    }
   ],
   "source": [
    "x = int(input())\n",
    "count = 1\n",
    "while count <= x:\n",
    "    count += 1\n",
    "    if (x % count == 0):\n",
    "        print(count)"
   ]
  },
  {
   "cell_type": "code",
   "execution_count": null,
   "id": "c230420d",
   "metadata": {},
   "outputs": [],
   "source": []
  }
 ],
 "metadata": {
  "kernelspec": {
   "display_name": "Python 3 (ipykernel)",
   "language": "python",
   "name": "python3"
  },
  "language_info": {
   "codemirror_mode": {
    "name": "ipython",
    "version": 3
   },
   "file_extension": ".py",
   "mimetype": "text/x-python",
   "name": "python",
   "nbconvert_exporter": "python",
   "pygments_lexer": "ipython3",
   "version": "3.9.12"
  }
 },
 "nbformat": 4,
 "nbformat_minor": 5
}
