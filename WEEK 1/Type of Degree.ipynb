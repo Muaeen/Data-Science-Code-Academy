{
 "cells": [
  {
   "cell_type": "code",
   "execution_count": 1,
   "id": "48ec3910",
   "metadata": {},
   "outputs": [
    {
     "name": "stdout",
     "output_type": "stream",
     "text": [
      "Enter type of temp: (f/c) f\n",
      "Enter Degree : 34\n",
      "Temp in C :  1.1111111111111112\n"
     ]
    }
   ],
   "source": [
    "typeOfDegree = str(input(\"Enter type of temp: (f/c) \"))\n",
    "\n",
    "if(typeOfDegree == \"c\" or typeOfDegree == \"f\"):\n",
    "    num = int(input(\"Enter Degree : \"))\n",
    "    if(typeOfDegree == \"f\"):\n",
    "        c = (num-32)*5/9\n",
    "        print(\"Temp in C : \",str(c))\n",
    "    else:\n",
    "        f = num*(9/5)+32\n",
    "        print(\"Temp in F : \", str(f))\n",
    "else:\n",
    "    print(\"Wrong input\")\n",
    "    "
   ]
  },
  {
   "cell_type": "code",
   "execution_count": null,
   "id": "fd3780e8",
   "metadata": {},
   "outputs": [],
   "source": []
  }
 ],
 "metadata": {
  "kernelspec": {
   "display_name": "Python 3 (ipykernel)",
   "language": "python",
   "name": "python3"
  },
  "language_info": {
   "codemirror_mode": {
    "name": "ipython",
    "version": 3
   },
   "file_extension": ".py",
   "mimetype": "text/x-python",
   "name": "python",
   "nbconvert_exporter": "python",
   "pygments_lexer": "ipython3",
   "version": "3.9.12"
  }
 },
 "nbformat": 4,
 "nbformat_minor": 5
}
