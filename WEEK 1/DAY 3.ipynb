{
 "cells": [
  {
   "cell_type": "code",
   "execution_count": 1,
   "id": "dc85a9a7",
   "metadata": {},
   "outputs": [
    {
     "name": "stdout",
     "output_type": "stream",
     "text": [
      "Enter start number :2002\n",
      "Enter your year :2009\n",
      "it is dark\n"
     ]
    }
   ],
   "source": [
    "start = int(input('Enter start number :'))\n",
    "yur_year = int(input('Enter your year :'))\n",
    "if yur_year > start+3:\n",
    "    print('it is dark')\n",
    "else :\n",
    "    print('its not')"
   ]
  },
  {
   "cell_type": "code",
   "execution_count": 2,
   "id": "dab414f1",
   "metadata": {},
   "outputs": [
    {
     "data": {
      "text/plain": [
       "True"
      ]
     },
     "execution_count": 2,
     "metadata": {},
     "output_type": "execute_result"
    }
   ],
   "source": [
    "x,y,z=6,8,9\n",
    "(x+2>y-3) & (z != y+1 or z%3==0)"
   ]
  },
  {
   "cell_type": "code",
   "execution_count": 3,
   "id": "9089b3e0",
   "metadata": {},
   "outputs": [
    {
     "name": "stdout",
     "output_type": "stream",
     "text": [
      "Write anything : jhgfghj\n",
      "106 104 103 102 103 104 106 "
     ]
    }
   ],
   "source": [
    "x = str(input('Write anything : '))\n",
    "for i in x:\n",
    "    print(ord(i),end=' ')"
   ]
  },
  {
   "cell_type": "code",
   "execution_count": null,
   "id": "63a7fdba",
   "metadata": {},
   "outputs": [],
   "source": []
  },
  {
   "cell_type": "code",
   "execution_count": null,
   "id": "381905a5",
   "metadata": {},
   "outputs": [],
   "source": []
  }
 ],
 "metadata": {
  "kernelspec": {
   "display_name": "Python 3 (ipykernel)",
   "language": "python",
   "name": "python3"
  },
  "language_info": {
   "codemirror_mode": {
    "name": "ipython",
    "version": 3
   },
   "file_extension": ".py",
   "mimetype": "text/x-python",
   "name": "python",
   "nbconvert_exporter": "python",
   "pygments_lexer": "ipython3",
   "version": "3.9.12"
  }
 },
 "nbformat": 4,
 "nbformat_minor": 5
}
