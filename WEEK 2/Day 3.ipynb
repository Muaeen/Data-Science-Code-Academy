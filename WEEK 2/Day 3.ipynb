{
 "cells": [
  {
   "cell_type": "code",
   "execution_count": 5,
   "id": "ec4cf9df",
   "metadata": {},
   "outputs": [
    {
     "name": "stdout",
     "output_type": "stream",
     "text": [
      "Enter yous pass :Byawwn@1667\n",
      "its right Byawwn@1667\n"
     ]
    }
   ],
   "source": [
    "P = input('Enter yous pass :')\n",
    "upper = 0\n",
    "lower = 0\n",
    "number = 0\n",
    "sy = 0\n",
    "valid = len(P) >= 8\n",
    "if valid :\n",
    "    for i in range(len(P)) :\n",
    "        if P[i].isupper() :\n",
    "            upper +=1\n",
    "        elif P[i].islower() :\n",
    "            lower +=1\n",
    "        elif P[i].isdigit() :\n",
    "            number +=1\n",
    "        else :\n",
    "            sy += 1\n",
    "\n",
    "if (upper > 0 and lower > 0 and number > 0 and sy > 0) :\n",
    "    print(f'its right {P}')\n",
    "else :\n",
    "    print('Wrong Pass')"
   ]
  },
  {
   "cell_type": "code",
   "execution_count": 6,
   "id": "c242f0b8",
   "metadata": {},
   "outputs": [
    {
     "name": "stdout",
     "output_type": "stream",
     "text": [
      "345-567\n"
     ]
    }
   ],
   "source": [
    "txt = \"345-567\"\n",
    "\n",
    "st = txt.strip(\"-\")\n",
    "x = \"\".join(st)\n",
    "\n",
    "print(x)"
   ]
  },
  {
   "cell_type": "code",
   "execution_count": 7,
   "id": "9b212d66",
   "metadata": {},
   "outputs": [
    {
     "name": "stdout",
     "output_type": "stream",
     "text": [
      "345567\n"
     ]
    }
   ],
   "source": [
    "txt = \"345-567\"\n",
    "\n",
    "parts = txt.split(\"-\")\n",
    "x = \"\".join(parts)  \n",
    "\n",
    "print(x)  "
   ]
  },
  {
   "cell_type": "code",
   "execution_count": 8,
   "id": "ec34da18",
   "metadata": {},
   "outputs": [
    {
     "name": "stdout",
     "output_type": "stream",
     "text": [
      "banana\n"
     ]
    }
   ],
   "source": [
    "txt = \",,,,,rrttgg.....banana....rrr\"\n",
    "\n",
    "x = txt.strip(\",.grt\")\n",
    "\n",
    "print(x)"
   ]
  },
  {
   "cell_type": "code",
   "execution_count": null,
   "id": "c0a042f9",
   "metadata": {},
   "outputs": [],
   "source": []
  }
 ],
 "metadata": {
  "kernelspec": {
   "display_name": "Python 3 (ipykernel)",
   "language": "python",
   "name": "python3"
  },
  "language_info": {
   "codemirror_mode": {
    "name": "ipython",
    "version": 3
   },
   "file_extension": ".py",
   "mimetype": "text/x-python",
   "name": "python",
   "nbconvert_exporter": "python",
   "pygments_lexer": "ipython3",
   "version": "3.9.12"
  }
 },
 "nbformat": 4,
 "nbformat_minor": 5
}
