{
 "cells": [
  {
   "cell_type": "code",
   "execution_count": 1,
   "id": "212dd1d3",
   "metadata": {},
   "outputs": [
    {
     "name": "stdout",
     "output_type": "stream",
     "text": [
      "22\n",
      "3\n",
      "-2\n",
      "-1\n",
      "10\n",
      "1\n",
      "_______\n",
      " 33\n",
      "_______\n",
      " 2\n",
      "_______\n",
      " 1320\n"
     ]
    }
   ],
   "source": [
    "listA = [22,3,-2,-1,10,1]\n",
    "ne = 0\n",
    "product = 1\n",
    "for i in listA :\n",
    "    print(i)\n",
    "    product = product * i\n",
    "    if i < 0 :\n",
    "        ne += 1\n",
    "print('_______\\n',sum(listA))\n",
    "print('_______\\n',ne)\n",
    "print('_______\\n',product)"
   ]
  },
  {
   "cell_type": "code",
   "execution_count": 6,
   "id": "9850c21e",
   "metadata": {},
   "outputs": [
    {
     "data": {
      "text/plain": [
       "6"
      ]
     },
     "execution_count": 6,
     "metadata": {},
     "output_type": "execute_result"
    }
   ],
   "source": [
    "listB = [1,2,3]\n",
    "sum(listB)"
   ]
  },
  {
   "cell_type": "code",
   "execution_count": 7,
   "id": "df724228",
   "metadata": {},
   "outputs": [
    {
     "data": {
      "text/plain": [
       "[2, 3]"
      ]
     },
     "execution_count": 7,
     "metadata": {},
     "output_type": "execute_result"
    }
   ],
   "source": [
    "del listB[0]\n",
    "listB"
   ]
  },
  {
   "cell_type": "code",
   "execution_count": 9,
   "id": "109a3874",
   "metadata": {},
   "outputs": [
    {
     "name": "stdout",
     "output_type": "stream",
     "text": [
      "1|2|3\n",
      "<class 'str'>\n"
     ]
    }
   ],
   "source": [
    "y=[1,2,3]\n",
    "y = '|'.join(map(str,y))\n",
    "print(y)\n",
    "print(type(y))"
   ]
  },
  {
   "cell_type": "code",
   "execution_count": 10,
   "id": "decad7ba",
   "metadata": {},
   "outputs": [
    {
     "data": {
      "text/plain": [
       "[0, 2, 4]"
      ]
     },
     "execution_count": 10,
     "metadata": {},
     "output_type": "execute_result"
    }
   ],
   "source": [
    "r = [i for i in range(5) if (i % 2==0)]\n",
    "r\n"
   ]
  },
  {
   "cell_type": "code",
   "execution_count": 11,
   "id": "b6890b8b",
   "metadata": {},
   "outputs": [],
   "source": [
    "def multiply(values, factor):\n",
    "    for i in range(len(values)):\n",
    "        values[i] = values[i] * factor\n",
    "    print()"
   ]
  },
  {
   "cell_type": "code",
   "execution_count": 15,
   "id": "269c788a",
   "metadata": {},
   "outputs": [
    {
     "name": "stdout",
     "output_type": "stream",
     "text": [
      "\n"
     ]
    }
   ],
   "source": [
    "v = [1,2,3,4]\n",
    "f = 2\n",
    "multiply(v,f)"
   ]
  },
  {
   "cell_type": "code",
   "execution_count": 14,
   "id": "9d182605",
   "metadata": {},
   "outputs": [
    {
     "name": "stdout",
     "output_type": "stream",
     "text": [
      "1: 1, 2: 0, 3: 0, 4: 0, 5: 0, 6: 0, 1: 1, 2: 0, 3: 1, 4: 0, 5: 0, 6: 0, 1: 1, 2: 0, 3: 1, 4: 0, 5: 1, 6: 0, 1: 1, 2: 0, 3: 1, 4: 1, 5: 1, 6: 0, 1: 1, 2: 0, 3: 2, 4: 1, 5: 1, 6: 0, "
     ]
    }
   ],
   "source": [
    "def roll_sum(a) :\n",
    "    counts = {i:0 for i in range(1,7)}\n",
    "    for x in a :\n",
    "        if x in counts :\n",
    "            counts[x] += 1\n",
    "            for x,count in counts.items():\n",
    "                print(f'{x}: {count},',end=' ')\n",
    "a = [1,3,5,0,4,3]\n",
    "roll_sum(a)"
   ]
  },
  {
   "cell_type": "code",
   "execution_count": null,
   "id": "5ade1ac1",
   "metadata": {},
   "outputs": [],
   "source": []
  }
 ],
 "metadata": {
  "kernelspec": {
   "display_name": "Python 3 (ipykernel)",
   "language": "python",
   "name": "python3"
  },
  "language_info": {
   "codemirror_mode": {
    "name": "ipython",
    "version": 3
   },
   "file_extension": ".py",
   "mimetype": "text/x-python",
   "name": "python",
   "nbconvert_exporter": "python",
   "pygments_lexer": "ipython3",
   "version": "3.9.12"
  }
 },
 "nbformat": 4,
 "nbformat_minor": 5
}
