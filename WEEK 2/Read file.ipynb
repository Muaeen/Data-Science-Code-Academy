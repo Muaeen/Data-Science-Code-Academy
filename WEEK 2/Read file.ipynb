{
 "cells": [
  {
   "cell_type": "code",
   "execution_count": 13,
   "id": "d0b0a954",
   "metadata": {},
   "outputs": [
    {
     "name": "stdout",
     "output_type": "stream",
     "text": [
      "5 4\n",
      "9 9\n"
     ]
    }
   ],
   "source": [
    "phy = open('Ali&phy','r')\n",
    "print(phy.read())\n",
    "phy.close()"
   ]
  },
  {
   "cell_type": "code",
   "execution_count": 85,
   "id": "ec07a653",
   "metadata": {},
   "outputs": [
    {
     "name": "stdout",
     "output_type": "stream",
     "text": [
      "['5', '4']\n",
      "['9', '9']\n"
     ]
    }
   ],
   "source": [
    "phy = open('Ali&phy','r')\n",
    "speed = 0\n",
    "for i in phy :\n",
    "    line = i.split()\n",
    "    print(line)\n",
    "    #speed = int(line[0]) * int(line[1])\n",
    "    #print(speed)\n",
    "phy.close()"
   ]
  },
  {
   "cell_type": "code",
   "execution_count": 46,
   "id": "be776626",
   "metadata": {},
   "outputs": [
    {
     "name": "stdout",
     "output_type": "stream",
     "text": [
      "['A', 'h', 'm', 'e', 'd']\n"
     ]
    }
   ],
   "source": [
    "name = 'Ahmed'\n",
    "name_list = list(name)\n",
    "print(name_list)\n"
   ]
  },
  {
   "cell_type": "code",
   "execution_count": 64,
   "id": "04cfcec1",
   "metadata": {},
   "outputs": [
    {
     "name": "stdout",
     "output_type": "stream",
     "text": [
      "[1, 2, 3, 4, 5]\n"
     ]
    }
   ],
   "source": [
    "num = ['12345']\n",
    "numList = list(num[0])\n",
    "to_int = [int(i) for i in numList]\n",
    "print(to_int)\n"
   ]
  },
  {
   "cell_type": "code",
   "execution_count": null,
   "id": "3b915b64",
   "metadata": {},
   "outputs": [],
   "source": []
  },
  {
   "cell_type": "code",
   "execution_count": 79,
   "id": "8b49f7b1",
   "metadata": {},
   "outputs": [
    {
     "name": "stdout",
     "output_type": "stream",
     "text": [
      "Enter num :6\n"
     ]
    },
    {
     "data": {
      "text/plain": [
       "[1, 2, 3, 6]"
      ]
     },
     "execution_count": 79,
     "metadata": {},
     "output_type": "execute_result"
    }
   ],
   "source": [
    "x = int(input('Enter num :'))\n",
    "liist = []\n",
    "for i in range(1,x+1):\n",
    "    if x % i == 0 :\n",
    "        liist.append(i)\n",
    "liist"
   ]
  },
  {
   "cell_type": "code",
   "execution_count": 81,
   "id": "5b7012d4",
   "metadata": {},
   "outputs": [
    {
     "name": "stdout",
     "output_type": "stream",
     "text": [
      "6\n",
      "3\n",
      "8\n"
     ]
    }
   ],
   "source": [
    "factorsOfTheNumber = open('factors of the number')\n",
    "print(factorsOfTheNumber.read())\n",
    "factorsOfTheNumber.close()"
   ]
  },
  {
   "cell_type": "code",
   "execution_count": 118,
   "id": "dacc5e49",
   "metadata": {},
   "outputs": [
    {
     "name": "stdout",
     "output_type": "stream",
     "text": [
      "[1, 2, 3, 6]\n",
      "[1, 3]\n",
      "[1, 2, 4, 8]\n"
     ]
    }
   ],
   "source": [
    "factorsOfTheNumber = open('factors of the number')\n",
    "factors = []\n",
    "for i in factorsOfTheNumber:\n",
    "    num = factors.append(int(i.strip()))\n",
    "\n",
    "\n",
    "for i in factors:\n",
    "    num = []\n",
    "    for x in range(1,i+1):\n",
    "        if i % x == 0 :\n",
    "            num.append(x)\n",
    "    print(num)\n",
    "factorsOfTheNumber.close()"
   ]
  },
  {
   "cell_type": "code",
   "execution_count": null,
   "id": "ea5fed4d",
   "metadata": {},
   "outputs": [],
   "source": []
  }
 ],
 "metadata": {
  "kernelspec": {
   "display_name": "Python 3 (ipykernel)",
   "language": "python",
   "name": "python3"
  },
  "language_info": {
   "codemirror_mode": {
    "name": "ipython",
    "version": 3
   },
   "file_extension": ".py",
   "mimetype": "text/x-python",
   "name": "python",
   "nbconvert_exporter": "python",
   "pygments_lexer": "ipython3",
   "version": "3.9.12"
  }
 },
 "nbformat": 4,
 "nbformat_minor": 5
}
