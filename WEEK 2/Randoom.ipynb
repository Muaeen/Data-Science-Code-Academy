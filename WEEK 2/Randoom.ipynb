{
 "cells": [
  {
   "cell_type": "code",
   "execution_count": 6,
   "id": "a943aebf",
   "metadata": {},
   "outputs": [],
   "source": [
    "import random\n",
    "from random import *"
   ]
  },
  {
   "cell_type": "code",
   "execution_count": 2,
   "id": "edc8ccf9",
   "metadata": {},
   "outputs": [
    {
     "name": "stdout",
     "output_type": "stream",
     "text": [
      "Enter a text: Muaeen\n",
      "Meuean\n"
     ]
    }
   ],
   "source": [
    "import random\n",
    "\n",
    "def scramble(word):\n",
    "    if len(word) > 3:\n",
    "        middle = list(word[1:-1])\n",
    "        random.shuffle(middle)\n",
    "        return word[0] + ''.join(middle) + word[-1]\n",
    "    else:\n",
    "        return word\n",
    "\n",
    "text = input(\"Enter a text: \").split()\n",
    "scrambled_text = [scramble(word) for word in text]\n",
    "print(' '.join(scrambled_text))\n"
   ]
  },
  {
   "cell_type": "code",
   "execution_count": 7,
   "id": "8bc8872b",
   "metadata": {},
   "outputs": [
    {
     "name": "stdout",
     "output_type": "stream",
     "text": [
      "Enter Number :20\n",
      "Go up\n",
      "Enter Number :30\n",
      "Go up\n",
      "Enter Number :40\n",
      "Go up\n",
      "Enter Number :50\n",
      "Go up\n",
      "Enter Number :60\n",
      "Go down\n",
      "Enter Number :55\n",
      "Go up\n",
      "Enter Number :56\n",
      "Grate\n"
     ]
    }
   ],
   "source": [
    "random_number = randrange(100)\n",
    "done = False\n",
    "while not done :\n",
    "    Q = int(input('Enter Number :'))\n",
    "    if (Q < 0) or (Q > 100 ):\n",
    "        print('Outside range')\n",
    "    else :\n",
    "        if Q == random_number :\n",
    "            done = True\n",
    "            print('Grate')\n",
    "        elif Q < random_number :\n",
    "            print('Go up')\n",
    "        elif Q > random_number :\n",
    "            print('Go down')"
   ]
  },
  {
   "cell_type": "code",
   "execution_count": 8,
   "id": "50763e60",
   "metadata": {},
   "outputs": [
    {
     "name": "stdout",
     "output_type": "stream",
     "text": [
      "0\n",
      "1\n",
      "2\n",
      "3\n",
      "4\n",
      "5\n",
      "we skip 5\n",
      "6\n"
     ]
    }
   ],
   "source": [
    "x = range(10)\n",
    "for i in x :\n",
    "    print(i)\n",
    "    if i == 5 :\n",
    "        print('we skip', i)\n",
    "        continue\n",
    "    if i > 5 and i <9:\n",
    "        break"
   ]
  },
  {
   "cell_type": "code",
   "execution_count": null,
   "id": "507e0741",
   "metadata": {},
   "outputs": [],
   "source": []
  }
 ],
 "metadata": {
  "kernelspec": {
   "display_name": "Python 3 (ipykernel)",
   "language": "python",
   "name": "python3"
  },
  "language_info": {
   "codemirror_mode": {
    "name": "ipython",
    "version": 3
   },
   "file_extension": ".py",
   "mimetype": "text/x-python",
   "name": "python",
   "nbconvert_exporter": "python",
   "pygments_lexer": "ipython3",
   "version": "3.9.12"
  }
 },
 "nbformat": 4,
 "nbformat_minor": 5
}
