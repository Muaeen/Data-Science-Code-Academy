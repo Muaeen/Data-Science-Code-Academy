{
 "cells": [
  {
   "cell_type": "code",
   "execution_count": 1,
   "id": "3c89f430",
   "metadata": {},
   "outputs": [
    {
     "name": "stdout",
     "output_type": "stream",
     "text": [
      "Enter a Roman numeral: IV\n",
      "4\n"
     ]
    }
   ],
   "source": [
    "def roman_to_int(s):\n",
    "    roman_val = {'I': 1, 'V': 5, 'X': 10, 'L': 50, 'C': 100, 'D': 500, 'M': 1000}\n",
    "    int_val = 0\n",
    "    for i in range(len(s)):\n",
    "        if i > 0 and roman_val[s[i]] > roman_val[s[i - 1]]:\n",
    "            int_val += roman_val[s[i]] - 2 * roman_val[s[i - 1]]\n",
    "        else:\n",
    "            int_val += roman_val[s[i]]\n",
    "    return int_val\n",
    "\n",
    "roman_numeral = input(\"Enter a Roman numeral: \")\n",
    "print(roman_to_int(roman_numeral))\n"
   ]
  },
  {
   "cell_type": "code",
   "execution_count": 2,
   "id": "b5d3fe1b",
   "metadata": {},
   "outputs": [
    {
     "name": "stdout",
     "output_type": "stream",
     "text": [
      "First digit occurs at position 3\n"
     ]
    }
   ],
   "source": [
    "m = 'mua9876 1' \n",
    "found = False\n",
    "position = 0\n",
    "while not found and position < len(m) :\n",
    "    if m[position].isdigit() :\n",
    "        found = True\n",
    "    else :\n",
    "        position = position + 1\n",
    "if found :\n",
    "    print(\"First digit occurs at position\", position)\n",
    "else :\n",
    "    print(\"The string does not contain a digit.\")"
   ]
  },
  {
   "cell_type": "code",
   "execution_count": 3,
   "id": "aa704241",
   "metadata": {
    "collapsed": true
   },
   "outputs": [
    {
     "ename": "SyntaxError",
     "evalue": "invalid syntax (2731448275.py, line 1)",
     "output_type": "error",
     "traceback": [
      "\u001b[0;36m  Input \u001b[0;32mIn [3]\u001b[0;36m\u001b[0m\n\u001b[0;31m    (XXX)XXX-XXXX)\u001b[0m\n\u001b[0m         ^\u001b[0m\n\u001b[0;31mSyntaxError\u001b[0m\u001b[0;31m:\u001b[0m invalid syntax\n"
     ]
    }
   ],
   "source": [
    "(XXX)XXX-XXXX"
   ]
  },
  {
   "cell_type": "code",
   "execution_count": 8,
   "id": "5cff7926",
   "metadata": {},
   "outputs": [
    {
     "name": "stdout",
     "output_type": "stream",
     "text": [
      "Enter your number (XXX)XXX-XXXX :(473)847-7584\n",
      "right (473)847-7584\n"
     ]
    }
   ],
   "source": [
    "Number = input('Enter your number (XXX)XXX-XXXX :')\n",
    "position = 0 \n",
    "valid = len(Number) == 13\n",
    "while valid and position < len(Number):\n",
    "    if position == 0:\n",
    "        valid = Number[position] == '('\n",
    "    elif position == 4:\n",
    "        valid = Number[position] == ')'\n",
    "    elif position == 8:\n",
    "        valid = Number[position] == '-'\n",
    "    else :\n",
    "        valid = Number[position].isdigit()\n",
    "    position = position + 1\n",
    "if valid :\n",
    "    print(f'right {Number}')\n",
    "else :\n",
    "    print('Wrong')"
   ]
  },
  {
   "cell_type": "code",
   "execution_count": 9,
   "id": "b5301752",
   "metadata": {},
   "outputs": [
    {
     "name": "stdout",
     "output_type": "stream",
     "text": [
      "Enter your number :+(968)92945402\n",
      "its right +(968)92945402\n"
     ]
    }
   ],
   "source": [
    "OmanNumber = input('Enter your number :')\n",
    "position = 0 \n",
    "valid = len(OmanNumber) == 14\n",
    "while valid and position < len(OmanNumber):\n",
    "    if position == 0:\n",
    "        valid = OmanNumber[position] == '+'\n",
    "    elif position == 1:\n",
    "        valid = OmanNumber[position] == '('\n",
    "    elif position == 5 :\n",
    "        valid = OmanNumber[position] == ')'\n",
    "    else :\n",
    "        valid = OmanNumber[position].isdigit()\n",
    "    position = position + 1\n",
    "if valid :\n",
    "    print(f'its right {OmanNumber}')\n",
    "else :\n",
    "    print('Wrong Number')"
   ]
  },
  {
   "cell_type": "code",
   "execution_count": null,
   "id": "a1dc1847",
   "metadata": {},
   "outputs": [],
   "source": []
  }
 ],
 "metadata": {
  "kernelspec": {
   "display_name": "Python 3 (ipykernel)",
   "language": "python",
   "name": "python3"
  },
  "language_info": {
   "codemirror_mode": {
    "name": "ipython",
    "version": 3
   },
   "file_extension": ".py",
   "mimetype": "text/x-python",
   "name": "python",
   "nbconvert_exporter": "python",
   "pygments_lexer": "ipython3",
   "version": "3.9.12"
  }
 },
 "nbformat": 4,
 "nbformat_minor": 5
}
