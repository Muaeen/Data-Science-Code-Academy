{
 "cells": [
  {
   "cell_type": "code",
   "execution_count": 1,
   "id": "25e69094",
   "metadata": {},
   "outputs": [],
   "source": [
    "balance = 10000   \n",
    "def withdraw(amount) :\n",
    "    global balance\n",
    "    if balance >= amount :\n",
    "        balance = balance - amount\n",
    "    print('balance = ', balance)"
   ]
  },
  {
   "cell_type": "code",
   "execution_count": 2,
   "id": "ad2059f8",
   "metadata": {},
   "outputs": [
    {
     "name": "stdout",
     "output_type": "stream",
     "text": [
      "balance =  9650\n"
     ]
    }
   ],
   "source": [
    "withdraw(350)"
   ]
  },
  {
   "cell_type": "code",
   "execution_count": 3,
   "id": "6a9861b9",
   "metadata": {},
   "outputs": [
    {
     "name": "stdout",
     "output_type": "stream",
     "text": [
      "None\n"
     ]
    }
   ],
   "source": [
    "def main():\n",
    "    x = 3\n",
    "    y = 4\n",
    "    falseSwap(x,y)\n",
    "    print(x,y)\n",
    "def falseSwap(a,b):\n",
    "    temp = a\n",
    "    a = b\n",
    "    b = temp\n",
    "print(falseSwap(5,8))"
   ]
  },
  {
   "cell_type": "code",
   "execution_count": 4,
   "id": "feb010be",
   "metadata": {},
   "outputs": [
    {
     "name": "stdout",
     "output_type": "stream",
     "text": [
      "19\n"
     ]
    }
   ],
   "source": [
    "#wrong\n",
    "a = '159'\n",
    "def sum_digits(a):\n",
    "    for i in a[:]:\n",
    "        i = int(i)\n",
    "        x =+ i + 10\n",
    "    print(x)\n",
    "sum_digits(a)"
   ]
  },
  {
   "cell_type": "code",
   "execution_count": 5,
   "id": "5df99863",
   "metadata": {},
   "outputs": [
    {
     "name": "stdout",
     "output_type": "stream",
     "text": [
      "466\n"
     ]
    }
   ],
   "source": [
    "a = '234'\n",
    "def sum_digits(a):\n",
    "    a = int(a)\n",
    "    for i in range(a):\n",
    "        #i = int(i)\n",
    "        x = i + i\n",
    "    print(x)\n",
    "sum_digits(a)"
   ]
  },
  {
   "cell_type": "code",
   "execution_count": 6,
   "id": "863b7feb",
   "metadata": {},
   "outputs": [
    {
     "data": {
      "text/plain": [
       "6"
      ]
     },
     "execution_count": 6,
     "metadata": {},
     "output_type": "execute_result"
    }
   ],
   "source": [
    "m = '12345'\n",
    "def sum_string_digits(s):\n",
    "    if s.isdigit():\n",
    "        return sum(int(digit) for digit in s)\n",
    "    else:\n",
    "        return \"Input string is not numeric\"\n",
    "\n",
    "sum_string_digits('123')\n"
   ]
  },
  {
   "cell_type": "code",
   "execution_count": 7,
   "id": "2a15aa8d",
   "metadata": {},
   "outputs": [],
   "source": [
    "from math import *\n",
    "def area(n,side):\n",
    "    area = (n*pow(side,2))/(4*tan(pi/n))\n",
    "    return area"
   ]
  },
  {
   "cell_type": "code",
   "execution_count": 8,
   "id": "c6508ecc",
   "metadata": {},
   "outputs": [
    {
     "data": {
      "text/plain": [
       "72.69017017488385"
      ]
     },
     "execution_count": 8,
     "metadata": {},
     "output_type": "execute_result"
    }
   ],
   "source": [
    "area(5,6.5)\n"
   ]
  },
  {
   "cell_type": "code",
   "execution_count": 9,
   "id": "e6cb052f",
   "metadata": {},
   "outputs": [
    {
     "data": {
      "text/plain": [
       "8"
      ]
     },
     "execution_count": 9,
     "metadata": {},
     "output_type": "execute_result"
    }
   ],
   "source": [
    "def countVowels(string):\n",
    "    count = 0\n",
    "    vowels = \"aeiouAEIOU\"\n",
    "    for i in string:\n",
    "        if i in vowels:\n",
    "            count += 1\n",
    "    return count\n",
    "Name = 'Muaeen Gharib Ali'\n",
    "countVowels(Name)"
   ]
  },
  {
   "cell_type": "code",
   "execution_count": null,
   "id": "2adee78b",
   "metadata": {},
   "outputs": [],
   "source": []
  }
 ],
 "metadata": {
  "kernelspec": {
   "display_name": "Python 3 (ipykernel)",
   "language": "python",
   "name": "python3"
  },
  "language_info": {
   "codemirror_mode": {
    "name": "ipython",
    "version": 3
   },
   "file_extension": ".py",
   "mimetype": "text/x-python",
   "name": "python",
   "nbconvert_exporter": "python",
   "pygments_lexer": "ipython3",
   "version": "3.9.12"
  }
 },
 "nbformat": 4,
 "nbformat_minor": 5
}
