{
 "cells": [
  {
   "cell_type": "code",
   "execution_count": 1,
   "id": "8909ee75",
   "metadata": {},
   "outputs": [
    {
     "data": {
      "text/plain": [
       "[[1, 2, 3], [4, 5, 6]]"
      ]
     },
     "execution_count": 1,
     "metadata": {},
     "output_type": "execute_result"
    }
   ],
   "source": [
    "a = [\n",
    "    [1,2,3],\n",
    "    [4,5,6]\n",
    "]\n",
    "a"
   ]
  },
  {
   "cell_type": "code",
   "execution_count": 2,
   "id": "15cce5aa",
   "metadata": {},
   "outputs": [
    {
     "data": {
      "text/plain": [
       "{'A': [1, 2, 3], 'B': [5, 6, 7]}"
      ]
     },
     "execution_count": 2,
     "metadata": {},
     "output_type": "execute_result"
    }
   ],
   "source": [
    "b = {\n",
    "    'A' : [1,2,3],\n",
    "    'B' : [5,6,7]\n",
    "}\n",
    "b"
   ]
  },
  {
   "cell_type": "code",
   "execution_count": 3,
   "id": "5259ff73",
   "metadata": {},
   "outputs": [
    {
     "data": {
      "text/plain": [
       "2"
      ]
     },
     "execution_count": 3,
     "metadata": {},
     "output_type": "execute_result"
    }
   ],
   "source": [
    "b['A'][1]"
   ]
  },
  {
   "cell_type": "code",
   "execution_count": 4,
   "id": "ebcc47cf",
   "metadata": {},
   "outputs": [
    {
     "data": {
      "text/plain": [
       "(array([0, 1, 2, 3, 4, 5, 6, 7, 8, 9]),\n",
       " array([ 4,  5,  6,  7,  8,  9, 10, 11]),\n",
       " array([0.3816779 , 0.18507503, 0.31007382, 0.09038493, 0.47236337,\n",
       "        0.42788587, 0.44741068, 0.25366259, 0.1690731 , 0.41514576]),\n",
       " array([0.70893344, 0.90075108, 0.3695051 , 0.11590681, 0.1557851 ,\n",
       "        0.73578672, 0.75843094, 0.55079943]))"
      ]
     },
     "execution_count": 4,
     "metadata": {},
     "output_type": "execute_result"
    }
   ],
   "source": [
    "import numpy as np\n",
    "x1 = np.arange(10)\n",
    "x2 = np.arange(4,12)\n",
    "y1 = np.random.random(10)\n",
    "y2 = np.random.random(8)\n",
    "x1,x2,y1,y2"
   ]
  },
  {
   "cell_type": "code",
   "execution_count": 5,
   "id": "adeecea0",
   "metadata": {},
   "outputs": [
    {
     "name": "stdout",
     "output_type": "stream",
     "text": [
      "coco\n"
     ]
    }
   ],
   "source": [
    "dec = {1: {'name':'kuku','age':22}, 2: {'name':'coco','age':25}}\n",
    "for name in dec.values():\n",
    "    if name['age'] > 22:\n",
    "        print(name['name'])\n"
   ]
  },
  {
   "cell_type": "code",
   "execution_count": 6,
   "id": "5a789c74",
   "metadata": {},
   "outputs": [
    {
     "data": {
      "text/plain": [
       "dict_values([{'name': 'kuku', 'age': 22}, {'name': 'coco', 'age': 25}])"
      ]
     },
     "execution_count": 6,
     "metadata": {},
     "output_type": "execute_result"
    }
   ],
   "source": [
    "dec.values()"
   ]
  },
  {
   "cell_type": "code",
   "execution_count": 7,
   "id": "f776af49",
   "metadata": {},
   "outputs": [
    {
     "data": {
      "text/plain": [
       "[0, 10, 20, 30, 40, 50, 60, 70, 80, 90]"
      ]
     },
     "execution_count": 7,
     "metadata": {},
     "output_type": "execute_result"
    }
   ],
   "source": [
    "list1 = [num for num in range(100) if num % 5 == 0 if num % 10 == 0]\n",
    "list1"
   ]
  },
  {
   "cell_type": "code",
   "execution_count": 8,
   "id": "383182c1",
   "metadata": {},
   "outputs": [
    {
     "name": "stdout",
     "output_type": "stream",
     "text": [
      "{1, 2, 3, 4, 5, 6}\n",
      "{1, 2, 3, 4, 5, 6, 'h', 'Ahmed', 'H', 'g'}\n",
      "{33, 22, 55, 10, 11}\n"
     ]
    }
   ],
   "source": [
    "set1 = {1,2,3,4,5,6}\n",
    "set2 = {2,5,3,7,9,8}\n",
    "set3 = {10,11,22,33,55}\n",
    "print(set1)\n",
    "set1.update(\"gghhhH\")\n",
    "set1.add('Ahmed')\n",
    "print(set1)\n",
    "print(set3)"
   ]
  },
  {
   "cell_type": "code",
   "execution_count": 9,
   "id": "570b389b",
   "metadata": {},
   "outputs": [
    {
     "data": {
      "text/plain": [
       "False"
      ]
     },
     "execution_count": 9,
     "metadata": {},
     "output_type": "execute_result"
    }
   ],
   "source": [
    "set1.isdisjoint(set2)"
   ]
  },
  {
   "cell_type": "code",
   "execution_count": 10,
   "id": "dd9580de",
   "metadata": {},
   "outputs": [
    {
     "data": {
      "text/plain": [
       "False"
      ]
     },
     "execution_count": 10,
     "metadata": {},
     "output_type": "execute_result"
    }
   ],
   "source": [
    "set1.issuperset(set2)"
   ]
  },
  {
   "cell_type": "code",
   "execution_count": 11,
   "id": "f8d36789",
   "metadata": {},
   "outputs": [
    {
     "name": "stdout",
     "output_type": "stream",
     "text": [
      "123\n",
      "456\n"
     ]
    }
   ],
   "source": [
    "lst = [[1,2,3],\n",
    "      [4,5,6]]\n",
    "for i in range(2) :\n",
    "    for j in range(3):\n",
    "        print(lst[i][j],end='')\n",
    "    print()"
   ]
  },
  {
   "cell_type": "code",
   "execution_count": 12,
   "id": "8006b3bc",
   "metadata": {},
   "outputs": [
    {
     "name": "stdout",
     "output_type": "stream",
     "text": [
      "1 1 1 1 \n",
      "2 2 2 2 \n",
      "3 3 3 3 \n",
      "4 4 4 4 \n"
     ]
    }
   ],
   "source": [
    "x = [[i]*5 for i in range(1,5)]\n",
    "for i in range(4):\n",
    "    for j in range(4):\n",
    "        print(x[i][j],end=' ')\n",
    "    print( )"
   ]
  },
  {
   "cell_type": "code",
   "execution_count": 13,
   "id": "41150305",
   "metadata": {},
   "outputs": [
    {
     "name": "stdout",
     "output_type": "stream",
     "text": [
      "Enter col num: 4\n",
      "Enter row num: 4\n",
      "1 0 0 0 \n",
      "0 1 0 0 \n",
      "0 0 1 0 \n",
      "0 0 0 1 \n"
     ]
    }
   ],
   "source": [
    "c = int(input('Enter col num: '))\n",
    "r = int(input('Enter row num: '))\n",
    "x = [[0]*c for i in range(r)]\n",
    "for i in range(r):\n",
    "    for j in range(c):\n",
    "        if i == j:\n",
    "            x[i][j] = 1\n",
    "        elif j > i :\n",
    "            x[i][j] = 0\n",
    "        elif i < j :\n",
    "            x[i][j] = 0\n",
    "\n",
    "for i in range(r):\n",
    "    for j in range(c):\n",
    "        print(x[i][j], end=' ')\n",
    "    print()"
   ]
  },
  {
   "cell_type": "code",
   "execution_count": 14,
   "id": "b5078981",
   "metadata": {},
   "outputs": [
    {
     "name": "stdout",
     "output_type": "stream",
     "text": [
      "Enter col num: 4\n",
      "Enter row num: 4\n",
      "1 0 1 0 \n",
      "0 1 0 1 \n",
      "1 0 1 0 \n",
      "0 1 0 1 \n"
     ]
    }
   ],
   "source": [
    "c = int(input('Enter col num: '))\n",
    "r = int(input('Enter row num: '))\n",
    "x = [[0]*c for i in range(r)]\n",
    "for i in range(r):\n",
    "    for j in range(c):\n",
    "        if (i+j)%2 == 0 :\n",
    "            x[i][j] = 1\n",
    "\n",
    "for i in range(r):\n",
    "    for j in range(c):\n",
    "        print(x[i][j], end=' ')\n",
    "    print()"
   ]
  },
  {
   "cell_type": "code",
   "execution_count": null,
   "id": "07c08047",
   "metadata": {},
   "outputs": [],
   "source": []
  }
 ],
 "metadata": {
  "kernelspec": {
   "display_name": "Python 3 (ipykernel)",
   "language": "python",
   "name": "python3"
  },
  "language_info": {
   "codemirror_mode": {
    "name": "ipython",
    "version": 3
   },
   "file_extension": ".py",
   "mimetype": "text/x-python",
   "name": "python",
   "nbconvert_exporter": "python",
   "pygments_lexer": "ipython3",
   "version": "3.9.12"
  }
 },
 "nbformat": 4,
 "nbformat_minor": 5
}
