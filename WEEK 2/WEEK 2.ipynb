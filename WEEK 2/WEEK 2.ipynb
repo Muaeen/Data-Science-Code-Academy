{
 "cells": [
  {
   "cell_type": "code",
   "execution_count": 9,
   "id": "3c0ec8a9",
   "metadata": {},
   "outputs": [],
   "source": [
    "from random import *"
   ]
  },
  {
   "cell_type": "code",
   "execution_count": 18,
   "id": "58f11b13",
   "metadata": {},
   "outputs": [
    {
     "name": "stdout",
     "output_type": "stream",
     "text": [
      "Enter a text: muaeen\n",
      "maeeun\n"
     ]
    }
   ],
   "source": [
    "import random\n",
    "\n",
    "def scramble(word):\n",
    "    if len(word) > 3:\n",
    "        middle = list(word[1:-1])\n",
    "        random.shuffle(middle)\n",
    "        return word[0] + ''.join(middle) + word[-1]\n",
    "    else:\n",
    "        return word\n",
    "\n",
    "text = input(\"Enter a text: \").split()\n",
    "scrambled_text = [scramble(word) for word in text]\n",
    "print(' '.join(scrambled_text))\n"
   ]
  },
  {
   "cell_type": "code",
   "execution_count": 22,
   "id": "eb3c6777",
   "metadata": {},
   "outputs": [
    {
     "name": "stdout",
     "output_type": "stream",
     "text": [
      "Enter a Roman numeral: I\n",
      "1\n"
     ]
    }
   ],
   "source": [
    "def roman_to_int(s):\n",
    "    roman_val = {'I': 1, 'V': 5, 'X': 10, 'L': 50, 'C': 100, 'D': 500, 'M': 1000}\n",
    "    int_val = 0\n",
    "    for i in range(len(s)):\n",
    "        if i > 0 and roman_val[s[i]] > roman_val[s[i - 1]]:\n",
    "            int_val += roman_val[s[i]] - 2 * roman_val[s[i - 1]]\n",
    "        else:\n",
    "            int_val += roman_val[s[i]]\n",
    "    return int_val\n",
    "\n",
    "roman_numeral = input(\"Enter a Roman numeral: \")\n",
    "print(roman_to_int(roman_numeral))\n"
   ]
  },
  {
   "cell_type": "code",
   "execution_count": 23,
   "id": "42133dab",
   "metadata": {},
   "outputs": [
    {
     "name": "stdout",
     "output_type": "stream",
     "text": [
      "First digit occurs at position 3\n"
     ]
    }
   ],
   "source": [
    "m = 'mua9876 1' \n",
    "found = False\n",
    "position = 0\n",
    "while not found and position < len(m) :\n",
    "    if m[position].isdigit() :\n",
    "        found = True\n",
    "    else :\n",
    "        position = position + 1\n",
    "if found :\n",
    "    print(\"First digit occurs at position\", position)\n",
    "else :\n",
    "    print(\"The string does not contain a digit.\")"
   ]
  },
  {
   "cell_type": "code",
   "execution_count": null,
   "id": "10496738",
   "metadata": {},
   "outputs": [],
   "source": [
    "(XXX)XXX-XXXX)"
   ]
  },
  {
   "cell_type": "code",
   "execution_count": 1,
   "id": "c8a38b62",
   "metadata": {},
   "outputs": [
    {
     "name": "stdout",
     "output_type": "stream",
     "text": [
      "Enter your number :(123)123-1234\n",
      "right(123)123-1234\n"
     ]
    }
   ],
   "source": [
    "Number = input('Enter your number :')\n",
    "position = 0 \n",
    "valid = len(Number) == 13\n",
    "while valid and position < len(Number):\n",
    "    if position == 0:\n",
    "        valid = Number[position] == '('\n",
    "    elif position == 4:\n",
    "        valid = Number[position] == ')'\n",
    "    elif position == 8:\n",
    "        valid = Number[position] == '-'\n",
    "    else :\n",
    "        valid = Number[position].isdigit()\n",
    "    position = position + 1\n",
    "if valid :\n",
    "    print(f'right {Number}')\n",
    "else :\n",
    "    print('Wrong')"
   ]
  },
  {
   "cell_type": "markdown",
   "id": "57a9b982",
   "metadata": {},
   "source": [
    "+(968)92945402"
   ]
  },
  {
   "cell_type": "code",
   "execution_count": 2,
   "id": "2d03a616",
   "metadata": {},
   "outputs": [
    {
     "name": "stdout",
     "output_type": "stream",
     "text": [
      "Enter your number :+(968)92945402\n",
      "its right +(968)92945402\n"
     ]
    }
   ],
   "source": [
    "OmanNumber = input('Enter your number :')\n",
    "position = 0 \n",
    "valid = len(OmanNumber) == 14\n",
    "while valid and position < len(OmanNumber):\n",
    "    if position == 0:\n",
    "        valid = OmanNumber[position] == '+'\n",
    "    elif position == 1:\n",
    "        valid = OmanNumber[position] == '('\n",
    "    elif position == 5 :\n",
    "        valid = OmanNumber[position] == ')'\n",
    "    else :\n",
    "        valid = OmanNumber[position].isdigit()\n",
    "    position = position + 1\n",
    "if valid :\n",
    "    print(f'its right {OmanNumber}')\n",
    "else :\n",
    "    print('Wrong Number')"
   ]
  },
  {
   "cell_type": "code",
   "execution_count": null,
   "id": "d309da4d",
   "metadata": {},
   "outputs": [],
   "source": [
    "Pass = input('Enter your passowrd')\n",
    "position = 0 \n",
    "valid = len(Pass) >= 8\n",
    "while valid and position >= 8:\n",
    "    if valid "
   ]
  },
  {
   "cell_type": "code",
   "execution_count": 25,
   "id": "64efaed6",
   "metadata": {},
   "outputs": [
    {
     "name": "stdout",
     "output_type": "stream",
     "text": [
      "Enter yous pass :Muaeen@1998\n",
      "its right Muaeen@1998\n"
     ]
    }
   ],
   "source": [
    "P = input('Enter yous pass :')\n",
    "upper = 0\n",
    "lower = 0\n",
    "number = 0\n",
    "sy = 0\n",
    "valid = len(P) >= 8\n",
    "if valid :\n",
    "    for i in range(len(P)) :\n",
    "        if P[i].isupper() :\n",
    "            upper +=1\n",
    "        elif P[i].islower() :\n",
    "            lower +=1\n",
    "        elif P[i].isdigit() :\n",
    "            number +=1\n",
    "        else :\n",
    "            sy += 1\n",
    "\n",
    "if (upper > 0 and lower > 0 and number > 0 and sy > 0) :\n",
    "    print(f'its right {P}')\n",
    "else :\n",
    "    print('Wrong Number')"
   ]
  },
  {
   "cell_type": "code",
   "execution_count": 60,
   "id": "86fcc672",
   "metadata": {},
   "outputs": [
    {
     "name": "stdout",
     "output_type": "stream",
     "text": [
      "345-567\n"
     ]
    }
   ],
   "source": [
    "txt = \"345-567\"\n",
    "\n",
    "st = txt.strip(\"-\")\n",
    "x = \"\".join(st)\n",
    "\n",
    "print(x)"
   ]
  },
  {
   "cell_type": "code",
   "execution_count": 13,
   "id": "1b0d23de",
   "metadata": {},
   "outputs": [
    {
     "name": "stdout",
     "output_type": "stream",
     "text": [
      "345567\n"
     ]
    }
   ],
   "source": [
    "txt = \"345-567\"\n",
    "\n",
    "parts = txt.split(\"-\")\n",
    "x = \"\".join(parts)  \n",
    "\n",
    "print(x)  "
   ]
  },
  {
   "cell_type": "code",
   "execution_count": 37,
   "id": "30c928a8",
   "metadata": {},
   "outputs": [
    {
     "name": "stdout",
     "output_type": "stream",
     "text": [
      "banana\n"
     ]
    }
   ],
   "source": [
    "txt = \",,,,,rrttgg.....banana....rrr\"\n",
    "\n",
    "x = txt.strip(\",.grt\")\n",
    "\n",
    "print(x)"
   ]
  },
  {
   "cell_type": "code",
   "execution_count": 116,
   "id": "c4e50cbf",
   "metadata": {},
   "outputs": [
    {
     "data": {
      "text/plain": [
       "0.5837538288936345"
      ]
     },
     "execution_count": 116,
     "metadata": {},
     "output_type": "execute_result"
    }
   ],
   "source": [
    "random()"
   ]
  },
  {
   "cell_type": "code",
   "execution_count": 117,
   "id": "e4809c09",
   "metadata": {},
   "outputs": [
    {
     "data": {
      "text/plain": [
       "20"
      ]
     },
     "execution_count": 117,
     "metadata": {},
     "output_type": "execute_result"
    }
   ],
   "source": [
    "round(random()*100)"
   ]
  },
  {
   "cell_type": "code",
   "execution_count": 115,
   "id": "5362b4f6",
   "metadata": {},
   "outputs": [
    {
     "data": {
      "text/plain": [
       "23"
      ]
     },
     "execution_count": 115,
     "metadata": {},
     "output_type": "execute_result"
    }
   ],
   "source": [
    "randrange(100)"
   ]
  },
  {
   "cell_type": "code",
   "execution_count": 1,
   "id": "803a3cf0",
   "metadata": {},
   "outputs": [
    {
     "name": "stdout",
     "output_type": "stream",
     "text": [
      "Enter Number :10\n",
      "Go up\n",
      "Enter Number :20\n",
      "Go up\n",
      "Enter Number :30\n",
      "Go up\n",
      "Enter Number :40\n",
      "Go up\n",
      "Enter Number :50\n",
      "Go down\n",
      "Enter Number :45\n",
      "Grate\n"
     ]
    }
   ],
   "source": [
    "from random import *\n",
    "random_number = randrange(100)\n",
    "done = False\n",
    "while not done :\n",
    "    Q = int(input('Enter Number :'))\n",
    "    if (Q < 0) or (Q > 100 ):\n",
    "        print('Outside range')\n",
    "    else :\n",
    "        if Q == random_number :\n",
    "            done = True\n",
    "            print('Grate')\n",
    "        elif Q < random_number :\n",
    "            print('Go up')\n",
    "        elif Q > random_number :\n",
    "            print('Go down')"
   ]
  },
  {
   "cell_type": "code",
   "execution_count": 11,
   "id": "479a5c7e",
   "metadata": {},
   "outputs": [
    {
     "name": "stdout",
     "output_type": "stream",
     "text": [
      "0\n",
      "1\n",
      "2\n",
      "3\n",
      "4\n",
      "5\n",
      "we skip 5\n",
      "6\n"
     ]
    }
   ],
   "source": [
    "x = range(10)\n",
    "for i in x :\n",
    "    print(i)\n",
    "    if i == 5 :\n",
    "        print('we skip', i)\n",
    "        continue\n",
    "    if i > 5 and i <9:\n",
    "        break"
   ]
  },
  {
   "cell_type": "code",
   "execution_count": 16,
   "id": "aa4e78fb",
   "metadata": {},
   "outputs": [],
   "source": [
    "balance = 10000   \n",
    "def withdraw(amount) :\n",
    "    global balance\n",
    "    if balance >= amount :\n",
    "        balance = balance - amount\n",
    "    print('balance = ', balance)"
   ]
  },
  {
   "cell_type": "code",
   "execution_count": 17,
   "id": "48750d8e",
   "metadata": {},
   "outputs": [
    {
     "name": "stdout",
     "output_type": "stream",
     "text": [
      "balance =  9650\n"
     ]
    }
   ],
   "source": [
    "withdraw(350)"
   ]
  },
  {
   "cell_type": "code",
   "execution_count": 20,
   "id": "78c23de9",
   "metadata": {},
   "outputs": [
    {
     "name": "stdout",
     "output_type": "stream",
     "text": [
      "None\n"
     ]
    }
   ],
   "source": [
    "def main():\n",
    "    x = 3\n",
    "    y = 4\n",
    "    falseSwap(x,y)\n",
    "    print(x,y)\n",
    "def falseSwap(a,b):\n",
    "    temp = a\n",
    "    a = b\n",
    "    b = temp\n",
    "print(falseSwap(5,8))"
   ]
  },
  {
   "cell_type": "code",
   "execution_count": 24,
   "id": "5921b50a",
   "metadata": {},
   "outputs": [
    {
     "name": "stdout",
     "output_type": "stream",
     "text": [
      "19\n"
     ]
    }
   ],
   "source": [
    "#wrong\n",
    "a = '159'\n",
    "def sum_digits(a):\n",
    "    for i in a[:]:\n",
    "        i = int(i)\n",
    "        x =+ i + 10\n",
    "    print(x)\n",
    "sum_digits(a)"
   ]
  },
  {
   "cell_type": "code",
   "execution_count": 18,
   "id": "a2555911",
   "metadata": {},
   "outputs": [
    {
     "data": {
      "text/plain": [
       "12"
      ]
     },
     "execution_count": 18,
     "metadata": {},
     "output_type": "execute_result"
    }
   ],
   "source": [
    "1+2+9"
   ]
  },
  {
   "cell_type": "code",
   "execution_count": null,
   "id": "3f4e7852",
   "metadata": {},
   "outputs": [],
   "source": []
  },
  {
   "cell_type": "code",
   "execution_count": 7,
   "id": "17188369",
   "metadata": {},
   "outputs": [
    {
     "name": "stdout",
     "output_type": "stream",
     "text": [
      "466\n"
     ]
    }
   ],
   "source": [
    "a = '234'\n",
    "def sum_digits(a):\n",
    "    a = int(a)\n",
    "    for i in range(a):\n",
    "        #i = int(i)\n",
    "        x = i + i\n",
    "    print(x)\n",
    "sum_digits(a)"
   ]
  },
  {
   "cell_type": "code",
   "execution_count": 24,
   "id": "21feabaf",
   "metadata": {},
   "outputs": [
    {
     "data": {
      "text/plain": [
       "6"
      ]
     },
     "execution_count": 24,
     "metadata": {},
     "output_type": "execute_result"
    }
   ],
   "source": [
    "m = '12345'\n",
    "def sum_string_digits(s):\n",
    "    if s.isdigit():\n",
    "        return sum(int(digit) for digit in s)\n",
    "    else:\n",
    "        return \"Input string is not numeric\"\n",
    "\n",
    "sum_string_digits('123')\n"
   ]
  },
  {
   "cell_type": "code",
   "execution_count": 25,
   "id": "39ae6957",
   "metadata": {},
   "outputs": [
    {
     "ename": "TypeError",
     "evalue": "'tuple' object cannot be interpreted as an integer",
     "output_type": "error",
     "traceback": [
      "\u001b[0;31m---------------------------------------------------------------------------\u001b[0m",
      "\u001b[0;31mTypeError\u001b[0m                                 Traceback (most recent call last)",
      "Input \u001b[0;32mIn [25]\u001b[0m, in \u001b[0;36m<cell line: 2>\u001b[0;34m()\u001b[0m\n\u001b[1;32m      1\u001b[0m a \u001b[38;5;241m=\u001b[39m \u001b[38;5;241m1\u001b[39m,\u001b[38;5;241m2\u001b[39m,\u001b[38;5;241m3\u001b[39m,\u001b[38;5;241m4\u001b[39m\n\u001b[0;32m----> 2\u001b[0m \u001b[38;5;28;43mrange\u001b[39;49m\u001b[43m(\u001b[49m\u001b[43ma\u001b[49m\u001b[43m)\u001b[49m\n",
      "\u001b[0;31mTypeError\u001b[0m: 'tuple' object cannot be interpreted as an integer"
     ]
    }
   ],
   "source": [
    "a = 1,2,3,4\n",
    "range(a)"
   ]
  },
  {
   "cell_type": "code",
   "execution_count": 23,
   "id": "3940006e",
   "metadata": {},
   "outputs": [],
   "source": [
    "from math import *\n",
    "def area(n,side):\n",
    "    area = (n*pow(side,2))/(4*tan(pi/n))\n",
    "    return area"
   ]
  },
  {
   "cell_type": "code",
   "execution_count": 24,
   "id": "e4824037",
   "metadata": {},
   "outputs": [
    {
     "data": {
      "text/plain": [
       "72.69017017488385"
      ]
     },
     "execution_count": 24,
     "metadata": {},
     "output_type": "execute_result"
    }
   ],
   "source": [
    "area(5,6.5)"
   ]
  },
  {
   "cell_type": "code",
   "execution_count": 32,
   "id": "fb9c0021",
   "metadata": {},
   "outputs": [
    {
     "data": {
      "text/plain": [
       "8"
      ]
     },
     "execution_count": 32,
     "metadata": {},
     "output_type": "execute_result"
    }
   ],
   "source": [
    "def countVowels(string):\n",
    "    count = 0\n",
    "    vowels = \"aeiouAEIOU\"\n",
    "    for i in string:\n",
    "        if i in vowels:\n",
    "            count += 1\n",
    "    return count\n",
    "Name = 'Muaeen Gharib Ali'\n",
    "countVowels(Name)"
   ]
  },
  {
   "cell_type": "code",
   "execution_count": null,
   "id": "ecec2aeb",
   "metadata": {},
   "outputs": [],
   "source": []
  },
  {
   "cell_type": "code",
   "execution_count": null,
   "id": "769b2069",
   "metadata": {},
   "outputs": [],
   "source": []
  },
  {
   "cell_type": "code",
   "execution_count": 38,
   "id": "9b46c1ec",
   "metadata": {},
   "outputs": [
    {
     "name": "stdout",
     "output_type": "stream",
     "text": [
      "3\n"
     ]
    },
    {
     "data": {
      "text/plain": [
       "[1, 2, 9, 4, 5]"
      ]
     },
     "execution_count": 38,
     "metadata": {},
     "output_type": "execute_result"
    }
   ],
   "source": [
    "x = [1,2,3,4,5]\n",
    "print(x[2])\n",
    "x[2] = 9\n",
    "x"
   ]
  },
  {
   "cell_type": "code",
   "execution_count": 39,
   "id": "1ba76646",
   "metadata": {},
   "outputs": [
    {
     "data": {
      "text/plain": [
       "[2, 3, 5, 7, 11]"
      ]
     },
     "execution_count": 39,
     "metadata": {},
     "output_type": "execute_result"
    }
   ],
   "source": [
    "primes = [2, 3, 5, 7, 11]\n",
    "primes"
   ]
  },
  {
   "cell_type": "code",
   "execution_count": 5,
   "id": "c53b6070",
   "metadata": {},
   "outputs": [
    {
     "name": "stdout",
     "output_type": "stream",
     "text": [
      "22\n",
      "3\n",
      "-2\n",
      "-1\n",
      "10\n",
      "1\n",
      "_______\n",
      " 33\n",
      "_______\n",
      " 2\n",
      "_______\n",
      " 1320\n"
     ]
    }
   ],
   "source": [
    "listA = [22,3,-2,-1,10,1]\n",
    "ne = 0\n",
    "product = 1\n",
    "for i in listA :\n",
    "    print(i)\n",
    "    product = product * i\n",
    "    if i < 0 :\n",
    "        ne += 1\n",
    "print('_______\\n',sum(listA))\n",
    "print('_______\\n',ne)\n",
    "print('_______\\n',product)"
   ]
  },
  {
   "cell_type": "code",
   "execution_count": null,
   "id": "f827816f",
   "metadata": {},
   "outputs": [],
   "source": []
  },
  {
   "cell_type": "code",
   "execution_count": 19,
   "id": "383734f6",
   "metadata": {},
   "outputs": [
    {
     "data": {
      "text/plain": [
       "6"
      ]
     },
     "execution_count": 19,
     "metadata": {},
     "output_type": "execute_result"
    }
   ],
   "source": [
    "listB = [1,2,3]\n",
    "sum(listB)"
   ]
  },
  {
   "cell_type": "code",
   "execution_count": 20,
   "id": "b0663ca5",
   "metadata": {},
   "outputs": [],
   "source": [
    "del listB[0]"
   ]
  },
  {
   "cell_type": "code",
   "execution_count": 21,
   "id": "482c1c87",
   "metadata": {},
   "outputs": [
    {
     "data": {
      "text/plain": [
       "[2, 3]"
      ]
     },
     "execution_count": 21,
     "metadata": {},
     "output_type": "execute_result"
    }
   ],
   "source": [
    "listB"
   ]
  },
  {
   "cell_type": "code",
   "execution_count": 8,
   "id": "575a8f25",
   "metadata": {},
   "outputs": [
    {
     "data": {
      "text/html": [
       "<div>\n",
       "<style scoped>\n",
       "    .dataframe tbody tr th:only-of-type {\n",
       "        vertical-align: middle;\n",
       "    }\n",
       "\n",
       "    .dataframe tbody tr th {\n",
       "        vertical-align: top;\n",
       "    }\n",
       "\n",
       "    .dataframe thead th {\n",
       "        text-align: right;\n",
       "    }\n",
       "</style>\n",
       "<table border=\"1\" class=\"dataframe\">\n",
       "  <thead>\n",
       "    <tr style=\"text-align: right;\">\n",
       "      <th></th>\n",
       "      <th>A</th>\n",
       "      <th>B</th>\n",
       "    </tr>\n",
       "  </thead>\n",
       "  <tbody>\n",
       "    <tr>\n",
       "      <th>0</th>\n",
       "      <td>1</td>\n",
       "      <td>2</td>\n",
       "    </tr>\n",
       "    <tr>\n",
       "      <th>1</th>\n",
       "      <td>2</td>\n",
       "      <td>3</td>\n",
       "    </tr>\n",
       "    <tr>\n",
       "      <th>2</th>\n",
       "      <td>3</td>\n",
       "      <td>4</td>\n",
       "    </tr>\n",
       "  </tbody>\n",
       "</table>\n",
       "</div>"
      ],
      "text/plain": [
       "   A  B\n",
       "0  1  2\n",
       "1  2  3\n",
       "2  3  4"
      ]
     },
     "execution_count": 8,
     "metadata": {},
     "output_type": "execute_result"
    }
   ],
   "source": [
    "import pandas as pd\n",
    "data = {'A':[1,2,3],\n",
    "     'B':[2,3,4]}\n",
    "df = pd.DataFrame(data)\n",
    "df"
   ]
  },
  {
   "cell_type": "code",
   "execution_count": 35,
   "id": "f6579a7d",
   "metadata": {},
   "outputs": [
    {
     "data": {
      "text/plain": [
       "[6, 8]"
      ]
     },
     "execution_count": 35,
     "metadata": {},
     "output_type": "execute_result"
    }
   ],
   "source": [
    "listC = [3,'a',4,'b',6,8,0]\n",
    "listC[-3:-1]"
   ]
  },
  {
   "cell_type": "code",
   "execution_count": 9,
   "id": "b38d9623",
   "metadata": {},
   "outputs": [
    {
     "data": {
      "text/plain": [
       "A    6\n",
       "B    9\n",
       "dtype: int64"
      ]
     },
     "execution_count": 9,
     "metadata": {},
     "output_type": "execute_result"
    }
   ],
   "source": [
    "df.sort_values(ascending=)"
   ]
  },
  {
   "cell_type": "code",
   "execution_count": 11,
   "id": "027315a8",
   "metadata": {},
   "outputs": [
    {
     "ename": "KeyError",
     "evalue": "0",
     "output_type": "error",
     "traceback": [
      "\u001b[0;31m---------------------------------------------------------------------------\u001b[0m",
      "\u001b[0;31mKeyError\u001b[0m                                  Traceback (most recent call last)",
      "File \u001b[0;32m~/opt/anaconda3/lib/python3.9/site-packages/pandas/core/indexes/base.py:3361\u001b[0m, in \u001b[0;36mIndex.get_loc\u001b[0;34m(self, key, method, tolerance)\u001b[0m\n\u001b[1;32m   3360\u001b[0m \u001b[38;5;28;01mtry\u001b[39;00m:\n\u001b[0;32m-> 3361\u001b[0m     \u001b[38;5;28;01mreturn\u001b[39;00m \u001b[38;5;28;43mself\u001b[39;49m\u001b[38;5;241;43m.\u001b[39;49m\u001b[43m_engine\u001b[49m\u001b[38;5;241;43m.\u001b[39;49m\u001b[43mget_loc\u001b[49m\u001b[43m(\u001b[49m\u001b[43mcasted_key\u001b[49m\u001b[43m)\u001b[49m\n\u001b[1;32m   3362\u001b[0m \u001b[38;5;28;01mexcept\u001b[39;00m \u001b[38;5;167;01mKeyError\u001b[39;00m \u001b[38;5;28;01mas\u001b[39;00m err:\n",
      "File \u001b[0;32m~/opt/anaconda3/lib/python3.9/site-packages/pandas/_libs/index.pyx:76\u001b[0m, in \u001b[0;36mpandas._libs.index.IndexEngine.get_loc\u001b[0;34m()\u001b[0m\n",
      "File \u001b[0;32m~/opt/anaconda3/lib/python3.9/site-packages/pandas/_libs/index.pyx:108\u001b[0m, in \u001b[0;36mpandas._libs.index.IndexEngine.get_loc\u001b[0;34m()\u001b[0m\n",
      "File \u001b[0;32mpandas/_libs/hashtable_class_helper.pxi:5198\u001b[0m, in \u001b[0;36mpandas._libs.hashtable.PyObjectHashTable.get_item\u001b[0;34m()\u001b[0m\n",
      "File \u001b[0;32mpandas/_libs/hashtable_class_helper.pxi:5206\u001b[0m, in \u001b[0;36mpandas._libs.hashtable.PyObjectHashTable.get_item\u001b[0;34m()\u001b[0m\n",
      "\u001b[0;31mKeyError\u001b[0m: 0",
      "\nThe above exception was the direct cause of the following exception:\n",
      "\u001b[0;31mKeyError\u001b[0m                                  Traceback (most recent call last)",
      "Input \u001b[0;32mIn [11]\u001b[0m, in \u001b[0;36m<cell line: 1>\u001b[0;34m()\u001b[0m\n\u001b[0;32m----> 1\u001b[0m \u001b[43mdf\u001b[49m\u001b[43m[\u001b[49m\u001b[38;5;241;43m0\u001b[39;49m\u001b[43m]\u001b[49m\u001b[38;5;241m.\u001b[39mpop()\n",
      "File \u001b[0;32m~/opt/anaconda3/lib/python3.9/site-packages/pandas/core/frame.py:3458\u001b[0m, in \u001b[0;36mDataFrame.__getitem__\u001b[0;34m(self, key)\u001b[0m\n\u001b[1;32m   3456\u001b[0m \u001b[38;5;28;01mif\u001b[39;00m \u001b[38;5;28mself\u001b[39m\u001b[38;5;241m.\u001b[39mcolumns\u001b[38;5;241m.\u001b[39mnlevels \u001b[38;5;241m>\u001b[39m \u001b[38;5;241m1\u001b[39m:\n\u001b[1;32m   3457\u001b[0m     \u001b[38;5;28;01mreturn\u001b[39;00m \u001b[38;5;28mself\u001b[39m\u001b[38;5;241m.\u001b[39m_getitem_multilevel(key)\n\u001b[0;32m-> 3458\u001b[0m indexer \u001b[38;5;241m=\u001b[39m \u001b[38;5;28;43mself\u001b[39;49m\u001b[38;5;241;43m.\u001b[39;49m\u001b[43mcolumns\u001b[49m\u001b[38;5;241;43m.\u001b[39;49m\u001b[43mget_loc\u001b[49m\u001b[43m(\u001b[49m\u001b[43mkey\u001b[49m\u001b[43m)\u001b[49m\n\u001b[1;32m   3459\u001b[0m \u001b[38;5;28;01mif\u001b[39;00m is_integer(indexer):\n\u001b[1;32m   3460\u001b[0m     indexer \u001b[38;5;241m=\u001b[39m [indexer]\n",
      "File \u001b[0;32m~/opt/anaconda3/lib/python3.9/site-packages/pandas/core/indexes/base.py:3363\u001b[0m, in \u001b[0;36mIndex.get_loc\u001b[0;34m(self, key, method, tolerance)\u001b[0m\n\u001b[1;32m   3361\u001b[0m         \u001b[38;5;28;01mreturn\u001b[39;00m \u001b[38;5;28mself\u001b[39m\u001b[38;5;241m.\u001b[39m_engine\u001b[38;5;241m.\u001b[39mget_loc(casted_key)\n\u001b[1;32m   3362\u001b[0m     \u001b[38;5;28;01mexcept\u001b[39;00m \u001b[38;5;167;01mKeyError\u001b[39;00m \u001b[38;5;28;01mas\u001b[39;00m err:\n\u001b[0;32m-> 3363\u001b[0m         \u001b[38;5;28;01mraise\u001b[39;00m \u001b[38;5;167;01mKeyError\u001b[39;00m(key) \u001b[38;5;28;01mfrom\u001b[39;00m \u001b[38;5;21;01merr\u001b[39;00m\n\u001b[1;32m   3365\u001b[0m \u001b[38;5;28;01mif\u001b[39;00m is_scalar(key) \u001b[38;5;129;01mand\u001b[39;00m isna(key) \u001b[38;5;129;01mand\u001b[39;00m \u001b[38;5;129;01mnot\u001b[39;00m \u001b[38;5;28mself\u001b[39m\u001b[38;5;241m.\u001b[39mhasnans:\n\u001b[1;32m   3366\u001b[0m     \u001b[38;5;28;01mraise\u001b[39;00m \u001b[38;5;167;01mKeyError\u001b[39;00m(key)\n",
      "\u001b[0;31mKeyError\u001b[0m: 0"
     ]
    }
   ],
   "source": []
  },
  {
   "cell_type": "code",
   "execution_count": 26,
   "id": "4bb39354",
   "metadata": {},
   "outputs": [
    {
     "ename": "TypeError",
     "evalue": "sequence item 0: expected str instance, int found",
     "output_type": "error",
     "traceback": [
      "\u001b[0;31m---------------------------------------------------------------------------\u001b[0m",
      "\u001b[0;31mTypeError\u001b[0m                                 Traceback (most recent call last)",
      "Input \u001b[0;32mIn [26]\u001b[0m, in \u001b[0;36m<cell line: 3>\u001b[0;34m()\u001b[0m\n\u001b[1;32m      1\u001b[0m x \u001b[38;5;241m=\u001b[39m [\u001b[38;5;241m1\u001b[39m,\u001b[38;5;241m2\u001b[39m,\u001b[38;5;241m3\u001b[39m]\n\u001b[1;32m      2\u001b[0m x\u001b[38;5;241m.\u001b[39mextend([[\u001b[38;5;241m4\u001b[39m,\u001b[38;5;241m5\u001b[39m]])\n\u001b[0;32m----> 3\u001b[0m z \u001b[38;5;241m=\u001b[39m \u001b[38;5;124;43m'\u001b[39;49m\u001b[38;5;124;43m|\u001b[39;49m\u001b[38;5;124;43m'\u001b[39;49m\u001b[38;5;241;43m.\u001b[39;49m\u001b[43mjoin\u001b[49m\u001b[43m(\u001b[49m\u001b[43mx\u001b[49m\u001b[43m)\u001b[49m\n\u001b[1;32m      4\u001b[0m z\n",
      "\u001b[0;31mTypeError\u001b[0m: sequence item 0: expected str instance, int found"
     ]
    }
   ],
   "source": [
    "x = [1,2,3]\n",
    "x.extend([[4,5]])\n",
    "z = '|'.join(x)\n",
    "z"
   ]
  },
  {
   "cell_type": "code",
   "execution_count": 10,
   "id": "37e17215",
   "metadata": {},
   "outputs": [
    {
     "name": "stdout",
     "output_type": "stream",
     "text": [
      "1|2|3\n",
      "<class 'str'>\n"
     ]
    }
   ],
   "source": [
    "y=[1,2,3]\n",
    "y = '|'.join(map(str,y))\n",
    "print(y)\n",
    "print(type(y))"
   ]
  },
  {
   "cell_type": "code",
   "execution_count": null,
   "id": "6c9e9c91",
   "metadata": {},
   "outputs": [],
   "source": []
  },
  {
   "cell_type": "code",
   "execution_count": 12,
   "id": "acc6bfac",
   "metadata": {},
   "outputs": [
    {
     "data": {
      "text/plain": [
       "[0, 2, 4]"
      ]
     },
     "execution_count": 12,
     "metadata": {},
     "output_type": "execute_result"
    }
   ],
   "source": [
    "r = [i for i in range(5) if (i % 2==0)]\n",
    "r\n"
   ]
  },
  {
   "cell_type": "code",
   "execution_count": 28,
   "id": "aabfb2ac",
   "metadata": {},
   "outputs": [],
   "source": [
    "def multiply(values, factor):\n",
    "    for i in range(len(values)):\n",
    "        values[i] = values[i] * factor\n",
    "    print()"
   ]
  },
  {
   "cell_type": "code",
   "execution_count": 29,
   "id": "01aa07de",
   "metadata": {},
   "outputs": [
    {
     "name": "stdout",
     "output_type": "stream",
     "text": [
      "\n"
     ]
    }
   ],
   "source": [
    "v = [1,2,3,4]\n",
    "f = 2\n",
    "multiply(v,f)"
   ]
  },
  {
   "cell_type": "code",
   "execution_count": 25,
   "id": "33854881",
   "metadata": {},
   "outputs": [
    {
     "ename": "SyntaxError",
     "evalue": "invalid syntax (2860377109.py, line 2)",
     "output_type": "error",
     "traceback": [
      "\u001b[0;36m  Input \u001b[0;32mIn [25]\u001b[0;36m\u001b[0m\n\u001b[0;31m    counts = i for i in range(1,7)\u001b[0m\n\u001b[0m               ^\u001b[0m\n\u001b[0;31mSyntaxError\u001b[0m\u001b[0;31m:\u001b[0m invalid syntax\n"
     ]
    }
   ],
   "source": [
    "inp = [1,3,5,0,4,3]\n",
    "counts = i for i in range(1,7)\n",
    "for x in inp :\n",
    "    if x in counts :\n",
    "        counts[x] +=1\n",
    "    for x in counts.items():\n",
    "        print(f'{x}: {counts}', end=' ')"
   ]
  },
  {
   "cell_type": "code",
   "execution_count": 39,
   "id": "ff8288fe",
   "metadata": {},
   "outputs": [
    {
     "name": "stdout",
     "output_type": "stream",
     "text": [
      "1: 1, 2: 0, 3: 0, 4: 0, 5: 0, 6: 0, 1: 1, 2: 0, 3: 1, 4: 0, 5: 0, 6: 0, 1: 1, 2: 0, 3: 1, 4: 0, 5: 1, 6: 0, 1: 1, 2: 0, 3: 1, 4: 1, 5: 1, 6: 0, 1: 1, 2: 0, 3: 2, 4: 1, 5: 1, 6: 0, "
     ]
    }
   ],
   "source": [
    "def roll_sum(a) :\n",
    "    counts = {i:0 for i in range(1,7)}\n",
    "    for x in a :\n",
    "        if x in counts :\n",
    "            counts[x] += 1\n",
    "            for x,count in counts.items():\n",
    "                print(f'{x}: {count},',end=' ')\n",
    "a = [1,3,5,0,4,3]\n",
    "roll_sum(a)"
   ]
  },
  {
   "cell_type": "code",
   "execution_count": 40,
   "id": "3089a7e8",
   "metadata": {},
   "outputs": [
    {
     "data": {
      "text/plain": [
       "[[1, 2, 3], [4, 5, 6]]"
      ]
     },
     "execution_count": 40,
     "metadata": {},
     "output_type": "execute_result"
    }
   ],
   "source": [
    "a = [\n",
    "    [1,2,3],\n",
    "    [4,5,6]\n",
    "]\n",
    "a"
   ]
  },
  {
   "cell_type": "code",
   "execution_count": 47,
   "id": "be0a57fa",
   "metadata": {},
   "outputs": [
    {
     "data": {
      "text/plain": [
       "{'A': [1, 2, 3], 'B': [5, 6, 7]}"
      ]
     },
     "execution_count": 47,
     "metadata": {},
     "output_type": "execute_result"
    }
   ],
   "source": [
    "b = {\n",
    "    'A' : [1,2,3],\n",
    "    'B' : [5,6,7]\n",
    "}\n",
    "b"
   ]
  },
  {
   "cell_type": "code",
   "execution_count": 51,
   "id": "f66e89e1",
   "metadata": {},
   "outputs": [
    {
     "data": {
      "text/plain": [
       "2"
      ]
     },
     "execution_count": 51,
     "metadata": {},
     "output_type": "execute_result"
    }
   ],
   "source": [
    "b['A'][1]"
   ]
  },
  {
   "cell_type": "code",
   "execution_count": 1,
   "id": "c144920f",
   "metadata": {},
   "outputs": [
    {
     "data": {
      "text/plain": [
       "(array([0, 1, 2, 3, 4, 5, 6, 7, 8, 9]),\n",
       " array([ 4,  5,  6,  7,  8,  9, 10, 11]),\n",
       " array([0.1643263 , 0.66456553, 0.84294607, 0.77930444, 0.71105369,\n",
       "        0.53163007, 0.8621718 , 0.01609003, 0.96887739, 0.17466951]),\n",
       " array([0.10307356, 0.7930381 , 0.56234339, 0.43068561, 0.37119043,\n",
       "        0.7999139 , 0.47050556, 0.26879035]))"
      ]
     },
     "execution_count": 1,
     "metadata": {},
     "output_type": "execute_result"
    }
   ],
   "source": [
    "import numpy as np\n",
    "x1 = np.arange(10)\n",
    "x2 = np.arange(4,12)\n",
    "y1 = np.random.random(10)\n",
    "y2 = np.random.random(8)\n",
    "x1,x2,y1,y2"
   ]
  },
  {
   "cell_type": "code",
   "execution_count": 4,
   "id": "503d64b3",
   "metadata": {},
   "outputs": [
    {
     "data": {
      "text/html": [
       "<div>\n",
       "<style scoped>\n",
       "    .dataframe tbody tr th:only-of-type {\n",
       "        vertical-align: middle;\n",
       "    }\n",
       "\n",
       "    .dataframe tbody tr th {\n",
       "        vertical-align: top;\n",
       "    }\n",
       "\n",
       "    .dataframe thead th {\n",
       "        text-align: right;\n",
       "    }\n",
       "</style>\n",
       "<table border=\"1\" class=\"dataframe\">\n",
       "  <thead>\n",
       "    <tr style=\"text-align: right;\">\n",
       "      <th></th>\n",
       "      <th>x</th>\n",
       "      <th>y</th>\n",
       "    </tr>\n",
       "  </thead>\n",
       "  <tbody>\n",
       "    <tr>\n",
       "      <th>0</th>\n",
       "      <td>0</td>\n",
       "      <td>0.164326</td>\n",
       "    </tr>\n",
       "    <tr>\n",
       "      <th>1</th>\n",
       "      <td>1</td>\n",
       "      <td>0.664566</td>\n",
       "    </tr>\n",
       "    <tr>\n",
       "      <th>2</th>\n",
       "      <td>2</td>\n",
       "      <td>0.842946</td>\n",
       "    </tr>\n",
       "    <tr>\n",
       "      <th>3</th>\n",
       "      <td>3</td>\n",
       "      <td>0.779304</td>\n",
       "    </tr>\n",
       "    <tr>\n",
       "      <th>4</th>\n",
       "      <td>4</td>\n",
       "      <td>0.711054</td>\n",
       "    </tr>\n",
       "    <tr>\n",
       "      <th>5</th>\n",
       "      <td>5</td>\n",
       "      <td>0.531630</td>\n",
       "    </tr>\n",
       "    <tr>\n",
       "      <th>6</th>\n",
       "      <td>6</td>\n",
       "      <td>0.862172</td>\n",
       "    </tr>\n",
       "    <tr>\n",
       "      <th>7</th>\n",
       "      <td>7</td>\n",
       "      <td>0.016090</td>\n",
       "    </tr>\n",
       "    <tr>\n",
       "      <th>8</th>\n",
       "      <td>8</td>\n",
       "      <td>0.968877</td>\n",
       "    </tr>\n",
       "    <tr>\n",
       "      <th>9</th>\n",
       "      <td>9</td>\n",
       "      <td>0.174670</td>\n",
       "    </tr>\n",
       "  </tbody>\n",
       "</table>\n",
       "</div>"
      ],
      "text/plain": [
       "   x         y\n",
       "0  0  0.164326\n",
       "1  1  0.664566\n",
       "2  2  0.842946\n",
       "3  3  0.779304\n",
       "4  4  0.711054\n",
       "5  5  0.531630\n",
       "6  6  0.862172\n",
       "7  7  0.016090\n",
       "8  8  0.968877\n",
       "9  9  0.174670"
      ]
     },
     "execution_count": 4,
     "metadata": {},
     "output_type": "execute_result"
    }
   ],
   "source": [
    "import pandas as pd\n",
    "df1 = pd.DataFrame({'x' : x1,\n",
    "                  'y' : y1})\n",
    "df1"
   ]
  },
  {
   "cell_type": "code",
   "execution_count": 3,
   "id": "dc6e5c0f",
   "metadata": {},
   "outputs": [
    {
     "data": {
      "text/html": [
       "<div>\n",
       "<style scoped>\n",
       "    .dataframe tbody tr th:only-of-type {\n",
       "        vertical-align: middle;\n",
       "    }\n",
       "\n",
       "    .dataframe tbody tr th {\n",
       "        vertical-align: top;\n",
       "    }\n",
       "\n",
       "    .dataframe thead th {\n",
       "        text-align: right;\n",
       "    }\n",
       "</style>\n",
       "<table border=\"1\" class=\"dataframe\">\n",
       "  <thead>\n",
       "    <tr style=\"text-align: right;\">\n",
       "      <th></th>\n",
       "      <th>x</th>\n",
       "      <th>y</th>\n",
       "    </tr>\n",
       "  </thead>\n",
       "  <tbody>\n",
       "    <tr>\n",
       "      <th>0</th>\n",
       "      <td>4</td>\n",
       "      <td>0.312861</td>\n",
       "    </tr>\n",
       "    <tr>\n",
       "      <th>1</th>\n",
       "      <td>5</td>\n",
       "      <td>0.837248</td>\n",
       "    </tr>\n",
       "    <tr>\n",
       "      <th>2</th>\n",
       "      <td>6</td>\n",
       "      <td>0.413209</td>\n",
       "    </tr>\n",
       "    <tr>\n",
       "      <th>3</th>\n",
       "      <td>7</td>\n",
       "      <td>0.764857</td>\n",
       "    </tr>\n",
       "    <tr>\n",
       "      <th>4</th>\n",
       "      <td>8</td>\n",
       "      <td>0.867231</td>\n",
       "    </tr>\n",
       "    <tr>\n",
       "      <th>5</th>\n",
       "      <td>9</td>\n",
       "      <td>0.665115</td>\n",
       "    </tr>\n",
       "    <tr>\n",
       "      <th>6</th>\n",
       "      <td>10</td>\n",
       "      <td>0.171979</td>\n",
       "    </tr>\n",
       "    <tr>\n",
       "      <th>7</th>\n",
       "      <td>11</td>\n",
       "      <td>0.971239</td>\n",
       "    </tr>\n",
       "  </tbody>\n",
       "</table>\n",
       "</div>"
      ],
      "text/plain": [
       "    x         y\n",
       "0   4  0.312861\n",
       "1   5  0.837248\n",
       "2   6  0.413209\n",
       "3   7  0.764857\n",
       "4   8  0.867231\n",
       "5   9  0.665115\n",
       "6  10  0.171979\n",
       "7  11  0.971239"
      ]
     },
     "execution_count": 3,
     "metadata": {},
     "output_type": "execute_result"
    }
   ],
   "source": [
    "df2 = pd.DataFrame(\n",
    "    {\n",
    "        'x': x2,\n",
    "        'y': y2\n",
    "    }\n",
    "\n",
    ")\n",
    "df2"
   ]
  },
  {
   "cell_type": "code",
   "execution_count": 4,
   "id": "4e155953",
   "metadata": {},
   "outputs": [
    {
     "data": {
      "text/html": [
       "<div>\n",
       "<style scoped>\n",
       "    .dataframe tbody tr th:only-of-type {\n",
       "        vertical-align: middle;\n",
       "    }\n",
       "\n",
       "    .dataframe tbody tr th {\n",
       "        vertical-align: top;\n",
       "    }\n",
       "\n",
       "    .dataframe thead th {\n",
       "        text-align: right;\n",
       "    }\n",
       "</style>\n",
       "<table border=\"1\" class=\"dataframe\">\n",
       "  <thead>\n",
       "    <tr style=\"text-align: right;\">\n",
       "      <th></th>\n",
       "      <th>x</th>\n",
       "      <th>y</th>\n",
       "    </tr>\n",
       "  </thead>\n",
       "  <tbody>\n",
       "    <tr>\n",
       "      <th>0</th>\n",
       "      <td>0</td>\n",
       "      <td>0.993076</td>\n",
       "    </tr>\n",
       "    <tr>\n",
       "      <th>1</th>\n",
       "      <td>1</td>\n",
       "      <td>0.955492</td>\n",
       "    </tr>\n",
       "    <tr>\n",
       "      <th>2</th>\n",
       "      <td>2</td>\n",
       "      <td>0.489750</td>\n",
       "    </tr>\n",
       "    <tr>\n",
       "      <th>3</th>\n",
       "      <td>3</td>\n",
       "      <td>0.717730</td>\n",
       "    </tr>\n",
       "    <tr>\n",
       "      <th>4</th>\n",
       "      <td>4</td>\n",
       "      <td>0.542569</td>\n",
       "    </tr>\n",
       "    <tr>\n",
       "      <th>5</th>\n",
       "      <td>5</td>\n",
       "      <td>0.487651</td>\n",
       "    </tr>\n",
       "    <tr>\n",
       "      <th>6</th>\n",
       "      <td>6</td>\n",
       "      <td>0.475917</td>\n",
       "    </tr>\n",
       "    <tr>\n",
       "      <th>7</th>\n",
       "      <td>7</td>\n",
       "      <td>0.256408</td>\n",
       "    </tr>\n",
       "    <tr>\n",
       "      <th>8</th>\n",
       "      <td>8</td>\n",
       "      <td>0.488675</td>\n",
       "    </tr>\n",
       "    <tr>\n",
       "      <th>9</th>\n",
       "      <td>9</td>\n",
       "      <td>0.882096</td>\n",
       "    </tr>\n",
       "    <tr>\n",
       "      <th>10</th>\n",
       "      <td>4</td>\n",
       "      <td>0.312861</td>\n",
       "    </tr>\n",
       "    <tr>\n",
       "      <th>11</th>\n",
       "      <td>5</td>\n",
       "      <td>0.837248</td>\n",
       "    </tr>\n",
       "    <tr>\n",
       "      <th>12</th>\n",
       "      <td>6</td>\n",
       "      <td>0.413209</td>\n",
       "    </tr>\n",
       "    <tr>\n",
       "      <th>13</th>\n",
       "      <td>7</td>\n",
       "      <td>0.764857</td>\n",
       "    </tr>\n",
       "    <tr>\n",
       "      <th>14</th>\n",
       "      <td>8</td>\n",
       "      <td>0.867231</td>\n",
       "    </tr>\n",
       "    <tr>\n",
       "      <th>15</th>\n",
       "      <td>9</td>\n",
       "      <td>0.665115</td>\n",
       "    </tr>\n",
       "    <tr>\n",
       "      <th>16</th>\n",
       "      <td>10</td>\n",
       "      <td>0.171979</td>\n",
       "    </tr>\n",
       "    <tr>\n",
       "      <th>17</th>\n",
       "      <td>11</td>\n",
       "      <td>0.971239</td>\n",
       "    </tr>\n",
       "  </tbody>\n",
       "</table>\n",
       "</div>"
      ],
      "text/plain": [
       "     x         y\n",
       "0    0  0.993076\n",
       "1    1  0.955492\n",
       "2    2  0.489750\n",
       "3    3  0.717730\n",
       "4    4  0.542569\n",
       "5    5  0.487651\n",
       "6    6  0.475917\n",
       "7    7  0.256408\n",
       "8    8  0.488675\n",
       "9    9  0.882096\n",
       "10   4  0.312861\n",
       "11   5  0.837248\n",
       "12   6  0.413209\n",
       "13   7  0.764857\n",
       "14   8  0.867231\n",
       "15   9  0.665115\n",
       "16  10  0.171979\n",
       "17  11  0.971239"
      ]
     },
     "execution_count": 4,
     "metadata": {},
     "output_type": "execute_result"
    }
   ],
   "source": [
    "df1 = df1.merge(df2,how='outer')\n",
    "df1"
   ]
  },
  {
   "cell_type": "code",
   "execution_count": 5,
   "id": "0c1b59a9",
   "metadata": {},
   "outputs": [
    {
     "data": {
      "text/html": [
       "<div>\n",
       "<style scoped>\n",
       "    .dataframe tbody tr th:only-of-type {\n",
       "        vertical-align: middle;\n",
       "    }\n",
       "\n",
       "    .dataframe tbody tr th {\n",
       "        vertical-align: top;\n",
       "    }\n",
       "\n",
       "    .dataframe thead th {\n",
       "        text-align: right;\n",
       "    }\n",
       "</style>\n",
       "<table border=\"1\" class=\"dataframe\">\n",
       "  <thead>\n",
       "    <tr style=\"text-align: right;\">\n",
       "      <th></th>\n",
       "      <th>x</th>\n",
       "      <th>y</th>\n",
       "    </tr>\n",
       "  </thead>\n",
       "  <tbody>\n",
       "    <tr>\n",
       "      <th>0</th>\n",
       "      <td>0</td>\n",
       "      <td>0.993076</td>\n",
       "    </tr>\n",
       "    <tr>\n",
       "      <th>1</th>\n",
       "      <td>1</td>\n",
       "      <td>0.955492</td>\n",
       "    </tr>\n",
       "    <tr>\n",
       "      <th>2</th>\n",
       "      <td>2</td>\n",
       "      <td>0.489750</td>\n",
       "    </tr>\n",
       "    <tr>\n",
       "      <th>3</th>\n",
       "      <td>3</td>\n",
       "      <td>0.717730</td>\n",
       "    </tr>\n",
       "    <tr>\n",
       "      <th>4</th>\n",
       "      <td>4</td>\n",
       "      <td>0.542569</td>\n",
       "    </tr>\n",
       "    <tr>\n",
       "      <th>5</th>\n",
       "      <td>5</td>\n",
       "      <td>0.487651</td>\n",
       "    </tr>\n",
       "    <tr>\n",
       "      <th>6</th>\n",
       "      <td>6</td>\n",
       "      <td>0.475917</td>\n",
       "    </tr>\n",
       "    <tr>\n",
       "      <th>7</th>\n",
       "      <td>7</td>\n",
       "      <td>0.256408</td>\n",
       "    </tr>\n",
       "    <tr>\n",
       "      <th>8</th>\n",
       "      <td>8</td>\n",
       "      <td>0.488675</td>\n",
       "    </tr>\n",
       "    <tr>\n",
       "      <th>9</th>\n",
       "      <td>9</td>\n",
       "      <td>0.882096</td>\n",
       "    </tr>\n",
       "    <tr>\n",
       "      <th>10</th>\n",
       "      <td>4</td>\n",
       "      <td>0.312861</td>\n",
       "    </tr>\n",
       "    <tr>\n",
       "      <th>11</th>\n",
       "      <td>5</td>\n",
       "      <td>0.837248</td>\n",
       "    </tr>\n",
       "    <tr>\n",
       "      <th>12</th>\n",
       "      <td>6</td>\n",
       "      <td>0.413209</td>\n",
       "    </tr>\n",
       "    <tr>\n",
       "      <th>13</th>\n",
       "      <td>7</td>\n",
       "      <td>0.764857</td>\n",
       "    </tr>\n",
       "    <tr>\n",
       "      <th>14</th>\n",
       "      <td>8</td>\n",
       "      <td>0.867231</td>\n",
       "    </tr>\n",
       "    <tr>\n",
       "      <th>15</th>\n",
       "      <td>9</td>\n",
       "      <td>0.665115</td>\n",
       "    </tr>\n",
       "    <tr>\n",
       "      <th>16</th>\n",
       "      <td>10</td>\n",
       "      <td>0.171979</td>\n",
       "    </tr>\n",
       "    <tr>\n",
       "      <th>17</th>\n",
       "      <td>11</td>\n",
       "      <td>0.971239</td>\n",
       "    </tr>\n",
       "  </tbody>\n",
       "</table>\n",
       "</div>"
      ],
      "text/plain": [
       "     x         y\n",
       "0    0  0.993076\n",
       "1    1  0.955492\n",
       "2    2  0.489750\n",
       "3    3  0.717730\n",
       "4    4  0.542569\n",
       "5    5  0.487651\n",
       "6    6  0.475917\n",
       "7    7  0.256408\n",
       "8    8  0.488675\n",
       "9    9  0.882096\n",
       "10   4  0.312861\n",
       "11   5  0.837248\n",
       "12   6  0.413209\n",
       "13   7  0.764857\n",
       "14   8  0.867231\n",
       "15   9  0.665115\n",
       "16  10  0.171979\n",
       "17  11  0.971239"
      ]
     },
     "execution_count": 5,
     "metadata": {},
     "output_type": "execute_result"
    }
   ],
   "source": [
    "df1"
   ]
  },
  {
   "cell_type": "code",
   "execution_count": 2,
   "id": "69fe923c",
   "metadata": {},
   "outputs": [],
   "source": [
    "a = {'A':\n",
    "    {\n",
    "        'a':[1,2],\n",
    "        'b' :[8,6]\n",
    "    },\n",
    "     'B':{\n",
    "         'a':[9,65],\n",
    "         'b' :[34,66]\n",
    "     }\n",
    "}"
   ]
  },
  {
   "cell_type": "code",
   "execution_count": 3,
   "id": "d0381269",
   "metadata": {},
   "outputs": [
    {
     "data": {
      "text/plain": [
       "{'A': {'a': [1, 2], 'b': [8, 6]}, 'B': {'a': [9, 65], 'b': [34, 66]}}"
      ]
     },
     "execution_count": 3,
     "metadata": {},
     "output_type": "execute_result"
    }
   ],
   "source": [
    "a"
   ]
  },
  {
   "cell_type": "code",
   "execution_count": 6,
   "id": "0c2f6371",
   "metadata": {},
   "outputs": [
    {
     "data": {
      "text/html": [
       "<div>\n",
       "<style scoped>\n",
       "    .dataframe tbody tr th:only-of-type {\n",
       "        vertical-align: middle;\n",
       "    }\n",
       "\n",
       "    .dataframe tbody tr th {\n",
       "        vertical-align: top;\n",
       "    }\n",
       "\n",
       "    .dataframe thead th {\n",
       "        text-align: right;\n",
       "    }\n",
       "</style>\n",
       "<table border=\"1\" class=\"dataframe\">\n",
       "  <thead>\n",
       "    <tr style=\"text-align: right;\">\n",
       "      <th></th>\n",
       "      <th>A</th>\n",
       "      <th>B</th>\n",
       "    </tr>\n",
       "  </thead>\n",
       "  <tbody>\n",
       "    <tr>\n",
       "      <th>a</th>\n",
       "      <td>[1, 2]</td>\n",
       "      <td>[9, 65]</td>\n",
       "    </tr>\n",
       "    <tr>\n",
       "      <th>b</th>\n",
       "      <td>[8, 6]</td>\n",
       "      <td>[34, 66]</td>\n",
       "    </tr>\n",
       "  </tbody>\n",
       "</table>\n",
       "</div>"
      ],
      "text/plain": [
       "        A         B\n",
       "a  [1, 2]   [9, 65]\n",
       "b  [8, 6]  [34, 66]"
      ]
     },
     "execution_count": 6,
     "metadata": {},
     "output_type": "execute_result"
    }
   ],
   "source": [
    "d = pd.DataFrame(a)\n",
    "d"
   ]
  },
  {
   "cell_type": "code",
   "execution_count": 7,
   "id": "d8eb4eb4",
   "metadata": {},
   "outputs": [
    {
     "ename": "ValueError",
     "evalue": "not enough values to unpack (expected 2, got 1)",
     "output_type": "error",
     "traceback": [
      "\u001b[0;31m---------------------------------------------------------------------------\u001b[0m",
      "\u001b[0;31mValueError\u001b[0m                                Traceback (most recent call last)",
      "Input \u001b[0;32mIn [7]\u001b[0m, in \u001b[0;36m<cell line: 1>\u001b[0;34m()\u001b[0m\n\u001b[0;32m----> 1\u001b[0m \u001b[38;5;28;01mfor\u001b[39;00m i,x \u001b[38;5;129;01min\u001b[39;00m d:\n\u001b[1;32m      2\u001b[0m     \u001b[38;5;28;01mif\u001b[39;00m x\u001b[38;5;241m>\u001b[39m\u001b[38;5;241m20\u001b[39m:\n\u001b[1;32m      3\u001b[0m         \u001b[38;5;28mprint\u001b[39m(\u001b[38;5;124m'\u001b[39m\u001b[38;5;124m'\u001b[39m)\n",
      "\u001b[0;31mValueError\u001b[0m: not enough values to unpack (expected 2, got 1)"
     ]
    }
   ],
   "source": [
    "for i,x in d:\n",
    "    if x>20:\n",
    "        print('')"
   ]
  },
  {
   "cell_type": "code",
   "execution_count": null,
   "id": "447329ca",
   "metadata": {},
   "outputs": [],
   "source": []
  },
  {
   "cell_type": "code",
   "execution_count": 1,
   "id": "4e836aea",
   "metadata": {},
   "outputs": [
    {
     "name": "stdout",
     "output_type": "stream",
     "text": [
      "coco\n"
     ]
    }
   ],
   "source": [
    "dec = {1: {'name':'kuku','age':22}, 2: {'name':'coco','age':25}}\n",
    "for name in dec.values():\n",
    "    if name['age'] > 22:\n",
    "        print(name['name'])\n"
   ]
  },
  {
   "cell_type": "code",
   "execution_count": 3,
   "id": "b00b388c",
   "metadata": {},
   "outputs": [
    {
     "data": {
      "text/plain": [
       "dict_values([{'name': 'kuku', 'age': 22}, {'name': 'coco', 'age': 25}])"
      ]
     },
     "execution_count": 3,
     "metadata": {},
     "output_type": "execute_result"
    }
   ],
   "source": [
    "dec.values()"
   ]
  },
  {
   "cell_type": "code",
   "execution_count": 16,
   "id": "138c8359",
   "metadata": {},
   "outputs": [
    {
     "data": {
      "text/plain": [
       "[0, 10, 20, 30, 40, 50, 60, 70, 80, 90]"
      ]
     },
     "execution_count": 16,
     "metadata": {},
     "output_type": "execute_result"
    }
   ],
   "source": [
    "list1 = [num for num in range(100) if num % 5 == 0 if num % 10 == 0]\n",
    "list1"
   ]
  },
  {
   "cell_type": "code",
   "execution_count": 34,
   "id": "eb303ebd",
   "metadata": {},
   "outputs": [
    {
     "name": "stdout",
     "output_type": "stream",
     "text": [
      "{1, 2, 3, 4, 5, 6}\n",
      "{1, 2, 3, 4, 5, 6, 'Ahmed', 'h', 'H', 'g'}\n",
      "{33, 22, 55, 10, 11}\n"
     ]
    }
   ],
   "source": [
    "set1 = {1,2,3,4,5,6}\n",
    "set2 = {2,5,3,7,9,8}\n",
    "set3 = {10,11,22,33,55}\n",
    "print(set1)\n",
    "set1.update(\"gghhhH\")\n",
    "set1.add('Ahmed')\n",
    "print(set1)\n",
    "print(set3)"
   ]
  },
  {
   "cell_type": "code",
   "execution_count": 21,
   "id": "2e5b2e90",
   "metadata": {},
   "outputs": [
    {
     "data": {
      "text/plain": [
       "False"
      ]
     },
     "execution_count": 21,
     "metadata": {},
     "output_type": "execute_result"
    }
   ],
   "source": [
    "set1.isdisjoint(set2)"
   ]
  },
  {
   "cell_type": "code",
   "execution_count": 24,
   "id": "af775231",
   "metadata": {},
   "outputs": [
    {
     "data": {
      "text/plain": [
       "False"
      ]
     },
     "execution_count": 24,
     "metadata": {},
     "output_type": "execute_result"
    }
   ],
   "source": [
    "set1.issuperset(set2)"
   ]
  },
  {
   "cell_type": "code",
   "execution_count": 26,
   "id": "9cceaf92",
   "metadata": {},
   "outputs": [
    {
     "data": {
      "text/plain": [
       "False"
      ]
     },
     "execution_count": 26,
     "metadata": {},
     "output_type": "execute_result"
    }
   ],
   "source": [
    "set1.issubset(set3)"
   ]
  },
  {
   "cell_type": "code",
   "execution_count": null,
   "id": "80abb936",
   "metadata": {},
   "outputs": [],
   "source": [
    "set1."
   ]
  },
  {
   "cell_type": "code",
   "execution_count": 53,
   "id": "1d4d3106",
   "metadata": {},
   "outputs": [
    {
     "name": "stdout",
     "output_type": "stream",
     "text": [
      "123\n",
      "456\n"
     ]
    }
   ],
   "source": [
    "lst = [[1,2,3],\n",
    "      [4,5,6]]\n",
    "for i in range(2) :\n",
    "    for j in range(3):\n",
    "        print(lst[i][j],end='')\n",
    "    print()"
   ]
  },
  {
   "cell_type": "code",
   "execution_count": 101,
   "id": "c4666ed7",
   "metadata": {},
   "outputs": [
    {
     "name": "stdout",
     "output_type": "stream",
     "text": [
      "4 4 4 4 \n",
      "1 1 1 1 \n",
      "2 2 2 2 \n",
      "3 3 3 3 \n"
     ]
    }
   ],
   "source": [
    "x = [[i]*5 for i in range(1,5)]\n",
    "for i in range(4):\n",
    "    for j in range(4):\n",
    "        print(x[i][j],end=' ')\n",
    "    print( )"
   ]
  },
  {
   "cell_type": "code",
   "execution_count": 155,
   "id": "15b2aba3",
   "metadata": {},
   "outputs": [
    {
     "name": "stdout",
     "output_type": "stream",
     "text": [
      "Enter col num: 4\n",
      "Enter row num: 4\n",
      "1 0 0 0 \n",
      "0 1 0 0 \n",
      "0 0 1 0 \n",
      "0 0 0 1 \n"
     ]
    }
   ],
   "source": [
    "c = int(input('Enter col num: '))\n",
    "r = int(input('Enter row num: '))\n",
    "x = [[0]*c for i in range(r)]\n",
    "for i in range(r):\n",
    "    for j in range(c):\n",
    "        if i == j:\n",
    "            x[i][j] = 1\n",
    "        elif j > i :\n",
    "            x[i][j] = 0\n",
    "        elif i < j :\n",
    "            x[i][j] = 0\n",
    "\n",
    "for i in range(r):\n",
    "    for j in range(c):\n",
    "        print(x[i][j], end=' ')\n",
    "    print()"
   ]
  },
  {
   "cell_type": "code",
   "execution_count": 156,
   "id": "b662fbbc",
   "metadata": {},
   "outputs": [
    {
     "name": "stdout",
     "output_type": "stream",
     "text": [
      "Enter col num: 4\n",
      "Enter row num: 4\n",
      "1 0 1 0 \n",
      "0 1 0 1 \n",
      "1 0 1 0 \n",
      "0 1 0 1 \n"
     ]
    }
   ],
   "source": [
    "c = int(input('Enter col num: '))\n",
    "r = int(input('Enter row num: '))\n",
    "x = [[0]*c for i in range(r)]\n",
    "for i in range(r):\n",
    "    for j in range(c):\n",
    "        if (i+j)%2 == 0 :\n",
    "            x[i][j] = 1\n",
    "\n",
    "for i in range(r):\n",
    "    for j in range(c):\n",
    "        print(x[i][j], end=' ')\n",
    "    print()"
   ]
  },
  {
   "cell_type": "code",
   "execution_count": 211,
   "id": "854c254d",
   "metadata": {},
   "outputs": [
    {
     "name": "stdout",
     "output_type": "stream",
     "text": [
      "{'Khalid': 995.0, 'Salim': 876.0, 'Issa': 877.0}\n",
      "Khalid\n"
     ]
    },
    {
     "data": {
      "text/plain": [
       "916.0"
      ]
     },
     "execution_count": 211,
     "metadata": {},
     "output_type": "execute_result"
    }
   ],
   "source": [
    "dict = {}\n",
    "with open(\"new.txt\", \"r\") as file_:\n",
    "    for ln in file_:\n",
    "        (key, val) = ln.split()\n",
    "        dict[key] = float(val)  \n",
    "\n",
    "print(dict)\n",
    "max_ = max(dict,key=dict.get)\n",
    "print(max_)\n",
    "ave = (sum(dict.values())/len(dict.values()))\n",
    "ave"
   ]
  },
  {
   "cell_type": "code",
   "execution_count": 212,
   "id": "83a2c5dd",
   "metadata": {},
   "outputs": [
    {
     "name": "stdout",
     "output_type": "stream",
     "text": [
      "Khalid\n"
     ]
    },
    {
     "data": {
      "text/plain": [
       "916.0"
      ]
     },
     "execution_count": 212,
     "metadata": {},
     "output_type": "execute_result"
    }
   ],
   "source": [
    "max_ = max(dict,key=dict.get)\n",
    "print(max_)\n",
    "ave = (sum(dict.values())/len(dict.values()))\n",
    "ave"
   ]
  },
  {
   "cell_type": "code",
   "execution_count": null,
   "id": "853f2794",
   "metadata": {},
   "outputs": [],
   "source": []
  },
  {
   "cell_type": "code",
   "execution_count": 8,
   "id": "6232a234",
   "metadata": {},
   "outputs": [
    {
     "name": "stdout",
     "output_type": "stream",
     "text": [
      "Issa 877\n"
     ]
    }
   ],
   "source": [
    "file_ = open('new.txt')\n",
    "data = []\n",
    "for line in file_ :\n",
    "    line = line.strip()\n",
    "    item = line.split(':')\n",
    "    data.append(item)\n",
    "sal = 0 \n",
    "maxsal = []\n",
    "for i in data :\n",
    "    if float(i[1]) > sal:\n",
    "        maxsal = i\n",
    "    sal = float(i[1])\n",
    "print(maxsal[0],maxsal[1])\n",
    "file_.close()\n",
    "\n"
   ]
  },
  {
   "cell_type": "code",
   "execution_count": null,
   "id": "14bfbffb",
   "metadata": {},
   "outputs": [],
   "source": []
  },
  {
   "cell_type": "code",
   "execution_count": null,
   "id": "1e995eb5",
   "metadata": {},
   "outputs": [],
   "source": []
  },
  {
   "cell_type": "code",
   "execution_count": null,
   "id": "90ea0557",
   "metadata": {},
   "outputs": [],
   "source": []
  }
 ],
 "metadata": {
  "kernelspec": {
   "display_name": "Python 3 (ipykernel)",
   "language": "python",
   "name": "python3"
  },
  "language_info": {
   "codemirror_mode": {
    "name": "ipython",
    "version": 3
   },
   "file_extension": ".py",
   "mimetype": "text/x-python",
   "name": "python",
   "nbconvert_exporter": "python",
   "pygments_lexer": "ipython3",
   "version": "3.9.12"
  }
 },
 "nbformat": 4,
 "nbformat_minor": 5
}
